{
  "nbformat": 4,
  "nbformat_minor": 0,
  "metadata": {
    "colab": {
      "provenance": []
    },
    "kernelspec": {
      "name": "python3",
      "display_name": "Python 3"
    },
    "language_info": {
      "name": "python"
    }
  },
  "cells": [
    {
      "cell_type": "code",
      "metadata": {
        "id": "rtZWN9wZtJoL"
      },
      "source": [
        "from google.colab import files\n",
        "import pandas as pd\n",
        "import numpy as np\n"
      ],
      "execution_count": null,
      "outputs": []
    },
    {
      "cell_type": "code",
      "metadata": {
        "colab": {
          "resources": {
            "http://localhost:8080/nbextensions/google.colab/files.js": {
              "data": "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",
              "ok": true,
              "headers": [
                [
                  "content-type",
                  "application/javascript"
                ]
              ],
              "status": 200,
              "status_text": ""
            }
          },
          "base_uri": "https://localhost:8080/",
          "height": 56
        },
        "id": "Std6TRk0tSIO",
        "outputId": "02c0cf39-6363-48fd-8c0a-b6a7d977a92b"
      },
      "source": [
        "uploaded=files.upload()"
      ],
      "execution_count": null,
      "outputs": [
        {
          "output_type": "display_data",
          "data": {
            "text/html": [
              "\n",
              "     <input type=\"file\" id=\"files-eac918ed-d686-467b-9158-51b513100bbe\" name=\"files[]\" multiple disabled\n",
              "        style=\"border:none\" />\n",
              "     <output id=\"result-eac918ed-d686-467b-9158-51b513100bbe\">\n",
              "      Upload widget is only available when the cell has been executed in the\n",
              "      current browser session. Please rerun this cell to enable.\n",
              "      </output>\n",
              "      <script src=\"/nbextensions/google.colab/files.js\"></script> "
            ],
            "text/plain": [
              "<IPython.core.display.HTML object>"
            ]
          },
          "metadata": {}
        },
        {
          "output_type": "stream",
          "name": "stdout",
          "text": [
            "Saving ElectricityRecord4 - ElectricityRecord4.csv to ElectricityRecord4 - ElectricityRecord4.csv\n"
          ]
        }
      ]
    },
    {
      "cell_type": "code",
      "metadata": {
        "id": "L_FCZ6SutUl0"
      },
      "source": [
        "df=pd.read_csv('ElectricityRecord4 - ElectricityRecord4.csv')"
      ],
      "execution_count": null,
      "outputs": []
    },
    {
      "cell_type": "code",
      "metadata": {
        "colab": {
          "base_uri": "https://localhost:8080/",
          "height": 423
        },
        "id": "ylJREKFQtgYg",
        "outputId": "a22bc513-c06e-4612-c68f-83d77b2bd281"
      },
      "source": [
        "df\n"
      ],
      "execution_count": null,
      "outputs": [
        {
          "output_type": "execute_result",
          "data": {
            "text/html": [
              "\n",
              "  <div id=\"df-a4ff8876-ad83-4f5e-afb8-1fdc6b4fe650\">\n",
              "    <div class=\"colab-df-container\">\n",
              "      <div>\n",
              "<style scoped>\n",
              "    .dataframe tbody tr th:only-of-type {\n",
              "        vertical-align: middle;\n",
              "    }\n",
              "\n",
              "    .dataframe tbody tr th {\n",
              "        vertical-align: top;\n",
              "    }\n",
              "\n",
              "    .dataframe thead th {\n",
              "        text-align: right;\n",
              "    }\n",
              "</style>\n",
              "<table border=\"1\" class=\"dataframe\">\n",
              "  <thead>\n",
              "    <tr style=\"text-align: right;\">\n",
              "      <th></th>\n",
              "      <th>Month</th>\n",
              "      <th>Year</th>\n",
              "      <th>Units Consumed</th>\n",
              "      <th>Amount</th>\n",
              "      <th>Area</th>\n",
              "      <th>Season</th>\n",
              "      <th>Load</th>\n",
              "    </tr>\n",
              "  </thead>\n",
              "  <tbody>\n",
              "    <tr>\n",
              "      <th>0</th>\n",
              "      <td>march</td>\n",
              "      <td>2021</td>\n",
              "      <td>212</td>\n",
              "      <td>5024</td>\n",
              "      <td>North Karachi</td>\n",
              "      <td>Summer</td>\n",
              "      <td>7</td>\n",
              "    </tr>\n",
              "    <tr>\n",
              "      <th>1</th>\n",
              "      <td>february</td>\n",
              "      <td>2021</td>\n",
              "      <td>233</td>\n",
              "      <td>4838</td>\n",
              "      <td>North Karachi</td>\n",
              "      <td>Winter</td>\n",
              "      <td>7</td>\n",
              "    </tr>\n",
              "    <tr>\n",
              "      <th>2</th>\n",
              "      <td>january</td>\n",
              "      <td>2021</td>\n",
              "      <td>260</td>\n",
              "      <td>5450</td>\n",
              "      <td>North Karachi</td>\n",
              "      <td>Winter</td>\n",
              "      <td>7</td>\n",
              "    </tr>\n",
              "    <tr>\n",
              "      <th>3</th>\n",
              "      <td>december</td>\n",
              "      <td>2020</td>\n",
              "      <td>282</td>\n",
              "      <td>5801</td>\n",
              "      <td>North Karachi</td>\n",
              "      <td>Winter</td>\n",
              "      <td>7</td>\n",
              "    </tr>\n",
              "    <tr>\n",
              "      <th>4</th>\n",
              "      <td>november</td>\n",
              "      <td>2020</td>\n",
              "      <td>280</td>\n",
              "      <td>5868</td>\n",
              "      <td>North Karachi</td>\n",
              "      <td>Winter</td>\n",
              "      <td>7</td>\n",
              "    </tr>\n",
              "    <tr>\n",
              "      <th>...</th>\n",
              "      <td>...</td>\n",
              "      <td>...</td>\n",
              "      <td>...</td>\n",
              "      <td>...</td>\n",
              "      <td>...</td>\n",
              "      <td>...</td>\n",
              "      <td>...</td>\n",
              "    </tr>\n",
              "    <tr>\n",
              "      <th>2742</th>\n",
              "      <td>december</td>\n",
              "      <td>2020</td>\n",
              "      <td>102</td>\n",
              "      <td>742</td>\n",
              "      <td>saddar</td>\n",
              "      <td>NaN</td>\n",
              "      <td>2</td>\n",
              "    </tr>\n",
              "    <tr>\n",
              "      <th>2743</th>\n",
              "      <td>march</td>\n",
              "      <td>2021</td>\n",
              "      <td>198</td>\n",
              "      <td>1942</td>\n",
              "      <td>saddar</td>\n",
              "      <td>NaN</td>\n",
              "      <td>2</td>\n",
              "    </tr>\n",
              "    <tr>\n",
              "      <th>2744</th>\n",
              "      <td>april</td>\n",
              "      <td>2021</td>\n",
              "      <td>251</td>\n",
              "      <td>3706</td>\n",
              "      <td>saddar</td>\n",
              "      <td>NaN</td>\n",
              "      <td>2</td>\n",
              "    </tr>\n",
              "    <tr>\n",
              "      <th>2745</th>\n",
              "      <td>july</td>\n",
              "      <td>2021</td>\n",
              "      <td>225</td>\n",
              "      <td>3053</td>\n",
              "      <td>saddar</td>\n",
              "      <td>NaN</td>\n",
              "      <td>2</td>\n",
              "    </tr>\n",
              "    <tr>\n",
              "      <th>2746</th>\n",
              "      <td>october</td>\n",
              "      <td>2021</td>\n",
              "      <td>158</td>\n",
              "      <td>1763</td>\n",
              "      <td>saddar</td>\n",
              "      <td>NaN</td>\n",
              "      <td>2</td>\n",
              "    </tr>\n",
              "  </tbody>\n",
              "</table>\n",
              "<p>2747 rows × 7 columns</p>\n",
              "</div>\n",
              "      <button class=\"colab-df-convert\" onclick=\"convertToInteractive('df-a4ff8876-ad83-4f5e-afb8-1fdc6b4fe650')\"\n",
              "              title=\"Convert this dataframe to an interactive table.\"\n",
              "              style=\"display:none;\">\n",
              "        \n",
              "  <svg xmlns=\"http://www.w3.org/2000/svg\" height=\"24px\"viewBox=\"0 0 24 24\"\n",
              "       width=\"24px\">\n",
              "    <path d=\"M0 0h24v24H0V0z\" fill=\"none\"/>\n",
              "    <path d=\"M18.56 5.44l.94 2.06.94-2.06 2.06-.94-2.06-.94-.94-2.06-.94 2.06-2.06.94zm-11 1L8.5 8.5l.94-2.06 2.06-.94-2.06-.94L8.5 2.5l-.94 2.06-2.06.94zm10 10l.94 2.06.94-2.06 2.06-.94-2.06-.94-.94-2.06-.94 2.06-2.06.94z\"/><path d=\"M17.41 7.96l-1.37-1.37c-.4-.4-.92-.59-1.43-.59-.52 0-1.04.2-1.43.59L10.3 9.45l-7.72 7.72c-.78.78-.78 2.05 0 2.83L4 21.41c.39.39.9.59 1.41.59.51 0 1.02-.2 1.41-.59l7.78-7.78 2.81-2.81c.8-.78.8-2.07 0-2.86zM5.41 20L4 18.59l7.72-7.72 1.47 1.35L5.41 20z\"/>\n",
              "  </svg>\n",
              "      </button>\n",
              "      \n",
              "  <style>\n",
              "    .colab-df-container {\n",
              "      display:flex;\n",
              "      flex-wrap:wrap;\n",
              "      gap: 12px;\n",
              "    }\n",
              "\n",
              "    .colab-df-convert {\n",
              "      background-color: #E8F0FE;\n",
              "      border: none;\n",
              "      border-radius: 50%;\n",
              "      cursor: pointer;\n",
              "      display: none;\n",
              "      fill: #1967D2;\n",
              "      height: 32px;\n",
              "      padding: 0 0 0 0;\n",
              "      width: 32px;\n",
              "    }\n",
              "\n",
              "    .colab-df-convert:hover {\n",
              "      background-color: #E2EBFA;\n",
              "      box-shadow: 0px 1px 2px rgba(60, 64, 67, 0.3), 0px 1px 3px 1px rgba(60, 64, 67, 0.15);\n",
              "      fill: #174EA6;\n",
              "    }\n",
              "\n",
              "    [theme=dark] .colab-df-convert {\n",
              "      background-color: #3B4455;\n",
              "      fill: #D2E3FC;\n",
              "    }\n",
              "\n",
              "    [theme=dark] .colab-df-convert:hover {\n",
              "      background-color: #434B5C;\n",
              "      box-shadow: 0px 1px 3px 1px rgba(0, 0, 0, 0.15);\n",
              "      filter: drop-shadow(0px 1px 2px rgba(0, 0, 0, 0.3));\n",
              "      fill: #FFFFFF;\n",
              "    }\n",
              "  </style>\n",
              "\n",
              "      <script>\n",
              "        const buttonEl =\n",
              "          document.querySelector('#df-a4ff8876-ad83-4f5e-afb8-1fdc6b4fe650 button.colab-df-convert');\n",
              "        buttonEl.style.display =\n",
              "          google.colab.kernel.accessAllowed ? 'block' : 'none';\n",
              "\n",
              "        async function convertToInteractive(key) {\n",
              "          const element = document.querySelector('#df-a4ff8876-ad83-4f5e-afb8-1fdc6b4fe650');\n",
              "          const dataTable =\n",
              "            await google.colab.kernel.invokeFunction('convertToInteractive',\n",
              "                                                     [key], {});\n",
              "          if (!dataTable) return;\n",
              "\n",
              "          const docLinkHtml = 'Like what you see? Visit the ' +\n",
              "            '<a target=\"_blank\" href=https://colab.research.google.com/notebooks/data_table.ipynb>data table notebook</a>'\n",
              "            + ' to learn more about interactive tables.';\n",
              "          element.innerHTML = '';\n",
              "          dataTable['output_type'] = 'display_data';\n",
              "          await google.colab.output.renderOutput(dataTable, element);\n",
              "          const docLink = document.createElement('div');\n",
              "          docLink.innerHTML = docLinkHtml;\n",
              "          element.appendChild(docLink);\n",
              "        }\n",
              "      </script>\n",
              "    </div>\n",
              "  </div>\n",
              "  "
            ],
            "text/plain": [
              "         Month  Year Units Consumed Amount           Area  Season Load\n",
              "0        march  2021            212   5024  North Karachi  Summer    7\n",
              "1     february  2021            233   4838  North Karachi  Winter    7\n",
              "2      january  2021            260   5450  North Karachi  Winter    7\n",
              "3     december  2020            282   5801  North Karachi  Winter    7\n",
              "4     november  2020            280   5868  North Karachi  Winter    7\n",
              "...        ...   ...            ...    ...            ...     ...  ...\n",
              "2742  december  2020            102    742         saddar     NaN    2\n",
              "2743     march  2021            198   1942         saddar     NaN    2\n",
              "2744     april  2021            251   3706         saddar     NaN    2\n",
              "2745      july  2021            225   3053         saddar     NaN    2\n",
              "2746   october  2021            158   1763         saddar     NaN    2\n",
              "\n",
              "[2747 rows x 7 columns]"
            ]
          },
          "metadata": {},
          "execution_count": 19
        }
      ]
    },
    {
      "cell_type": "code",
      "metadata": {
        "colab": {
          "base_uri": "https://localhost:8080/",
          "height": 300
        },
        "id": "1vsuJaeWuF2K",
        "outputId": "cbb182e4-bcdd-4643-fdf1-e6d4d7445c9c"
      },
      "source": [
        "df.describe()"
      ],
      "execution_count": null,
      "outputs": [
        {
          "output_type": "execute_result",
          "data": {
            "text/html": [
              "\n",
              "  <div id=\"df-fee37590-827d-4d37-9514-8dcbf298463a\">\n",
              "    <div class=\"colab-df-container\">\n",
              "      <div>\n",
              "<style scoped>\n",
              "    .dataframe tbody tr th:only-of-type {\n",
              "        vertical-align: middle;\n",
              "    }\n",
              "\n",
              "    .dataframe tbody tr th {\n",
              "        vertical-align: top;\n",
              "    }\n",
              "\n",
              "    .dataframe thead th {\n",
              "        text-align: right;\n",
              "    }\n",
              "</style>\n",
              "<table border=\"1\" class=\"dataframe\">\n",
              "  <thead>\n",
              "    <tr style=\"text-align: right;\">\n",
              "      <th></th>\n",
              "      <th>Year</th>\n",
              "    </tr>\n",
              "  </thead>\n",
              "  <tbody>\n",
              "    <tr>\n",
              "      <th>count</th>\n",
              "      <td>2747.000000</td>\n",
              "    </tr>\n",
              "    <tr>\n",
              "      <th>mean</th>\n",
              "      <td>2019.480888</td>\n",
              "    </tr>\n",
              "    <tr>\n",
              "      <th>std</th>\n",
              "      <td>1.074729</td>\n",
              "    </tr>\n",
              "    <tr>\n",
              "      <th>min</th>\n",
              "      <td>2018.000000</td>\n",
              "    </tr>\n",
              "    <tr>\n",
              "      <th>25%</th>\n",
              "      <td>2019.000000</td>\n",
              "    </tr>\n",
              "    <tr>\n",
              "      <th>50%</th>\n",
              "      <td>2020.000000</td>\n",
              "    </tr>\n",
              "    <tr>\n",
              "      <th>75%</th>\n",
              "      <td>2020.000000</td>\n",
              "    </tr>\n",
              "    <tr>\n",
              "      <th>max</th>\n",
              "      <td>2021.000000</td>\n",
              "    </tr>\n",
              "  </tbody>\n",
              "</table>\n",
              "</div>\n",
              "      <button class=\"colab-df-convert\" onclick=\"convertToInteractive('df-fee37590-827d-4d37-9514-8dcbf298463a')\"\n",
              "              title=\"Convert this dataframe to an interactive table.\"\n",
              "              style=\"display:none;\">\n",
              "        \n",
              "  <svg xmlns=\"http://www.w3.org/2000/svg\" height=\"24px\"viewBox=\"0 0 24 24\"\n",
              "       width=\"24px\">\n",
              "    <path d=\"M0 0h24v24H0V0z\" fill=\"none\"/>\n",
              "    <path d=\"M18.56 5.44l.94 2.06.94-2.06 2.06-.94-2.06-.94-.94-2.06-.94 2.06-2.06.94zm-11 1L8.5 8.5l.94-2.06 2.06-.94-2.06-.94L8.5 2.5l-.94 2.06-2.06.94zm10 10l.94 2.06.94-2.06 2.06-.94-2.06-.94-.94-2.06-.94 2.06-2.06.94z\"/><path d=\"M17.41 7.96l-1.37-1.37c-.4-.4-.92-.59-1.43-.59-.52 0-1.04.2-1.43.59L10.3 9.45l-7.72 7.72c-.78.78-.78 2.05 0 2.83L4 21.41c.39.39.9.59 1.41.59.51 0 1.02-.2 1.41-.59l7.78-7.78 2.81-2.81c.8-.78.8-2.07 0-2.86zM5.41 20L4 18.59l7.72-7.72 1.47 1.35L5.41 20z\"/>\n",
              "  </svg>\n",
              "      </button>\n",
              "      \n",
              "  <style>\n",
              "    .colab-df-container {\n",
              "      display:flex;\n",
              "      flex-wrap:wrap;\n",
              "      gap: 12px;\n",
              "    }\n",
              "\n",
              "    .colab-df-convert {\n",
              "      background-color: #E8F0FE;\n",
              "      border: none;\n",
              "      border-radius: 50%;\n",
              "      cursor: pointer;\n",
              "      display: none;\n",
              "      fill: #1967D2;\n",
              "      height: 32px;\n",
              "      padding: 0 0 0 0;\n",
              "      width: 32px;\n",
              "    }\n",
              "\n",
              "    .colab-df-convert:hover {\n",
              "      background-color: #E2EBFA;\n",
              "      box-shadow: 0px 1px 2px rgba(60, 64, 67, 0.3), 0px 1px 3px 1px rgba(60, 64, 67, 0.15);\n",
              "      fill: #174EA6;\n",
              "    }\n",
              "\n",
              "    [theme=dark] .colab-df-convert {\n",
              "      background-color: #3B4455;\n",
              "      fill: #D2E3FC;\n",
              "    }\n",
              "\n",
              "    [theme=dark] .colab-df-convert:hover {\n",
              "      background-color: #434B5C;\n",
              "      box-shadow: 0px 1px 3px 1px rgba(0, 0, 0, 0.15);\n",
              "      filter: drop-shadow(0px 1px 2px rgba(0, 0, 0, 0.3));\n",
              "      fill: #FFFFFF;\n",
              "    }\n",
              "  </style>\n",
              "\n",
              "      <script>\n",
              "        const buttonEl =\n",
              "          document.querySelector('#df-fee37590-827d-4d37-9514-8dcbf298463a button.colab-df-convert');\n",
              "        buttonEl.style.display =\n",
              "          google.colab.kernel.accessAllowed ? 'block' : 'none';\n",
              "\n",
              "        async function convertToInteractive(key) {\n",
              "          const element = document.querySelector('#df-fee37590-827d-4d37-9514-8dcbf298463a');\n",
              "          const dataTable =\n",
              "            await google.colab.kernel.invokeFunction('convertToInteractive',\n",
              "                                                     [key], {});\n",
              "          if (!dataTable) return;\n",
              "\n",
              "          const docLinkHtml = 'Like what you see? Visit the ' +\n",
              "            '<a target=\"_blank\" href=https://colab.research.google.com/notebooks/data_table.ipynb>data table notebook</a>'\n",
              "            + ' to learn more about interactive tables.';\n",
              "          element.innerHTML = '';\n",
              "          dataTable['output_type'] = 'display_data';\n",
              "          await google.colab.output.renderOutput(dataTable, element);\n",
              "          const docLink = document.createElement('div');\n",
              "          docLink.innerHTML = docLinkHtml;\n",
              "          element.appendChild(docLink);\n",
              "        }\n",
              "      </script>\n",
              "    </div>\n",
              "  </div>\n",
              "  "
            ],
            "text/plain": [
              "              Year\n",
              "count  2747.000000\n",
              "mean   2019.480888\n",
              "std       1.074729\n",
              "min    2018.000000\n",
              "25%    2019.000000\n",
              "50%    2020.000000\n",
              "75%    2020.000000\n",
              "max    2021.000000"
            ]
          },
          "metadata": {},
          "execution_count": 20
        }
      ]
    },
    {
      "cell_type": "code",
      "source": [
        "df.loc[df['Year']=='23/10/20','Year']=2021"
      ],
      "metadata": {
        "id": "tAqcOQ5zHeyJ"
      },
      "execution_count": null,
      "outputs": []
    },
    {
      "cell_type": "code",
      "source": [
        "df['Year'].astype(int)"
      ],
      "metadata": {
        "colab": {
          "base_uri": "https://localhost:8080/"
        },
        "id": "m_bpD0QQIYbs",
        "outputId": "228797ec-a1cc-43e6-c742-4f6a3b358c4a"
      },
      "execution_count": null,
      "outputs": [
        {
          "output_type": "execute_result",
          "data": {
            "text/plain": [
              "0       2021\n",
              "1       2021\n",
              "2       2021\n",
              "3       2020\n",
              "4       2020\n",
              "        ... \n",
              "2742    2020\n",
              "2743    2021\n",
              "2744    2021\n",
              "2745    2021\n",
              "2746    2021\n",
              "Name: Year, Length: 2747, dtype: int64"
            ]
          },
          "metadata": {},
          "execution_count": 22
        }
      ]
    },
    {
      "cell_type": "code",
      "metadata": {
        "colab": {
          "base_uri": "https://localhost:8080/"
        },
        "id": "HSh9zzsAz8Kt",
        "outputId": "e0307ba6-010b-4282-c388-06b18b172787"
      },
      "source": [
        "df.info()"
      ],
      "execution_count": null,
      "outputs": [
        {
          "output_type": "stream",
          "name": "stdout",
          "text": [
            "<class 'pandas.core.frame.DataFrame'>\n",
            "RangeIndex: 2747 entries, 0 to 2746\n",
            "Data columns (total 7 columns):\n",
            " #   Column          Non-Null Count  Dtype \n",
            "---  ------          --------------  ----- \n",
            " 0   Month           2747 non-null   object\n",
            " 1   Year            2747 non-null   int64 \n",
            " 2   Units Consumed  2747 non-null   object\n",
            " 3   Amount          2747 non-null   object\n",
            " 4   Area            2742 non-null   object\n",
            " 5   Season          1834 non-null   object\n",
            " 6   Load            2078 non-null   object\n",
            "dtypes: int64(1), object(6)\n",
            "memory usage: 150.4+ KB\n"
          ]
        }
      ]
    },
    {
      "cell_type": "code",
      "metadata": {
        "colab": {
          "base_uri": "https://localhost:8080/",
          "height": 206
        },
        "id": "hwN1UVS5uLVO",
        "outputId": "573d1257-3ecd-4d0f-9155-1a8e9a07a62a"
      },
      "source": [
        "df.iloc[:5]"
      ],
      "execution_count": null,
      "outputs": [
        {
          "output_type": "execute_result",
          "data": {
            "text/html": [
              "\n",
              "  <div id=\"df-4882b960-e91e-42d0-bb52-47742d1bea36\">\n",
              "    <div class=\"colab-df-container\">\n",
              "      <div>\n",
              "<style scoped>\n",
              "    .dataframe tbody tr th:only-of-type {\n",
              "        vertical-align: middle;\n",
              "    }\n",
              "\n",
              "    .dataframe tbody tr th {\n",
              "        vertical-align: top;\n",
              "    }\n",
              "\n",
              "    .dataframe thead th {\n",
              "        text-align: right;\n",
              "    }\n",
              "</style>\n",
              "<table border=\"1\" class=\"dataframe\">\n",
              "  <thead>\n",
              "    <tr style=\"text-align: right;\">\n",
              "      <th></th>\n",
              "      <th>Month</th>\n",
              "      <th>Year</th>\n",
              "      <th>Units Consumed</th>\n",
              "      <th>Amount</th>\n",
              "      <th>Area</th>\n",
              "      <th>Season</th>\n",
              "      <th>Load</th>\n",
              "    </tr>\n",
              "  </thead>\n",
              "  <tbody>\n",
              "    <tr>\n",
              "      <th>0</th>\n",
              "      <td>march</td>\n",
              "      <td>2021</td>\n",
              "      <td>212</td>\n",
              "      <td>5024</td>\n",
              "      <td>North Karachi</td>\n",
              "      <td>Summer</td>\n",
              "      <td>7</td>\n",
              "    </tr>\n",
              "    <tr>\n",
              "      <th>1</th>\n",
              "      <td>february</td>\n",
              "      <td>2021</td>\n",
              "      <td>233</td>\n",
              "      <td>4838</td>\n",
              "      <td>North Karachi</td>\n",
              "      <td>Winter</td>\n",
              "      <td>7</td>\n",
              "    </tr>\n",
              "    <tr>\n",
              "      <th>2</th>\n",
              "      <td>january</td>\n",
              "      <td>2021</td>\n",
              "      <td>260</td>\n",
              "      <td>5450</td>\n",
              "      <td>North Karachi</td>\n",
              "      <td>Winter</td>\n",
              "      <td>7</td>\n",
              "    </tr>\n",
              "    <tr>\n",
              "      <th>3</th>\n",
              "      <td>december</td>\n",
              "      <td>2020</td>\n",
              "      <td>282</td>\n",
              "      <td>5801</td>\n",
              "      <td>North Karachi</td>\n",
              "      <td>Winter</td>\n",
              "      <td>7</td>\n",
              "    </tr>\n",
              "    <tr>\n",
              "      <th>4</th>\n",
              "      <td>november</td>\n",
              "      <td>2020</td>\n",
              "      <td>280</td>\n",
              "      <td>5868</td>\n",
              "      <td>North Karachi</td>\n",
              "      <td>Winter</td>\n",
              "      <td>7</td>\n",
              "    </tr>\n",
              "  </tbody>\n",
              "</table>\n",
              "</div>\n",
              "      <button class=\"colab-df-convert\" onclick=\"convertToInteractive('df-4882b960-e91e-42d0-bb52-47742d1bea36')\"\n",
              "              title=\"Convert this dataframe to an interactive table.\"\n",
              "              style=\"display:none;\">\n",
              "        \n",
              "  <svg xmlns=\"http://www.w3.org/2000/svg\" height=\"24px\"viewBox=\"0 0 24 24\"\n",
              "       width=\"24px\">\n",
              "    <path d=\"M0 0h24v24H0V0z\" fill=\"none\"/>\n",
              "    <path d=\"M18.56 5.44l.94 2.06.94-2.06 2.06-.94-2.06-.94-.94-2.06-.94 2.06-2.06.94zm-11 1L8.5 8.5l.94-2.06 2.06-.94-2.06-.94L8.5 2.5l-.94 2.06-2.06.94zm10 10l.94 2.06.94-2.06 2.06-.94-2.06-.94-.94-2.06-.94 2.06-2.06.94z\"/><path d=\"M17.41 7.96l-1.37-1.37c-.4-.4-.92-.59-1.43-.59-.52 0-1.04.2-1.43.59L10.3 9.45l-7.72 7.72c-.78.78-.78 2.05 0 2.83L4 21.41c.39.39.9.59 1.41.59.51 0 1.02-.2 1.41-.59l7.78-7.78 2.81-2.81c.8-.78.8-2.07 0-2.86zM5.41 20L4 18.59l7.72-7.72 1.47 1.35L5.41 20z\"/>\n",
              "  </svg>\n",
              "      </button>\n",
              "      \n",
              "  <style>\n",
              "    .colab-df-container {\n",
              "      display:flex;\n",
              "      flex-wrap:wrap;\n",
              "      gap: 12px;\n",
              "    }\n",
              "\n",
              "    .colab-df-convert {\n",
              "      background-color: #E8F0FE;\n",
              "      border: none;\n",
              "      border-radius: 50%;\n",
              "      cursor: pointer;\n",
              "      display: none;\n",
              "      fill: #1967D2;\n",
              "      height: 32px;\n",
              "      padding: 0 0 0 0;\n",
              "      width: 32px;\n",
              "    }\n",
              "\n",
              "    .colab-df-convert:hover {\n",
              "      background-color: #E2EBFA;\n",
              "      box-shadow: 0px 1px 2px rgba(60, 64, 67, 0.3), 0px 1px 3px 1px rgba(60, 64, 67, 0.15);\n",
              "      fill: #174EA6;\n",
              "    }\n",
              "\n",
              "    [theme=dark] .colab-df-convert {\n",
              "      background-color: #3B4455;\n",
              "      fill: #D2E3FC;\n",
              "    }\n",
              "\n",
              "    [theme=dark] .colab-df-convert:hover {\n",
              "      background-color: #434B5C;\n",
              "      box-shadow: 0px 1px 3px 1px rgba(0, 0, 0, 0.15);\n",
              "      filter: drop-shadow(0px 1px 2px rgba(0, 0, 0, 0.3));\n",
              "      fill: #FFFFFF;\n",
              "    }\n",
              "  </style>\n",
              "\n",
              "      <script>\n",
              "        const buttonEl =\n",
              "          document.querySelector('#df-4882b960-e91e-42d0-bb52-47742d1bea36 button.colab-df-convert');\n",
              "        buttonEl.style.display =\n",
              "          google.colab.kernel.accessAllowed ? 'block' : 'none';\n",
              "\n",
              "        async function convertToInteractive(key) {\n",
              "          const element = document.querySelector('#df-4882b960-e91e-42d0-bb52-47742d1bea36');\n",
              "          const dataTable =\n",
              "            await google.colab.kernel.invokeFunction('convertToInteractive',\n",
              "                                                     [key], {});\n",
              "          if (!dataTable) return;\n",
              "\n",
              "          const docLinkHtml = 'Like what you see? Visit the ' +\n",
              "            '<a target=\"_blank\" href=https://colab.research.google.com/notebooks/data_table.ipynb>data table notebook</a>'\n",
              "            + ' to learn more about interactive tables.';\n",
              "          element.innerHTML = '';\n",
              "          dataTable['output_type'] = 'display_data';\n",
              "          await google.colab.output.renderOutput(dataTable, element);\n",
              "          const docLink = document.createElement('div');\n",
              "          docLink.innerHTML = docLinkHtml;\n",
              "          element.appendChild(docLink);\n",
              "        }\n",
              "      </script>\n",
              "    </div>\n",
              "  </div>\n",
              "  "
            ],
            "text/plain": [
              "      Month  Year Units Consumed Amount           Area  Season Load\n",
              "0     march  2021            212   5024  North Karachi  Summer    7\n",
              "1  february  2021            233   4838  North Karachi  Winter    7\n",
              "2   january  2021            260   5450  North Karachi  Winter    7\n",
              "3  december  2020            282   5801  North Karachi  Winter    7\n",
              "4  november  2020            280   5868  North Karachi  Winter    7"
            ]
          },
          "metadata": {},
          "execution_count": 24
        }
      ]
    },
    {
      "cell_type": "markdown",
      "metadata": {
        "id": "pJMlmEJIR-lR"
      },
      "source": [
        "Change all columns into lowercase"
      ]
    },
    {
      "cell_type": "code",
      "metadata": {
        "colab": {
          "base_uri": "https://localhost:8080/",
          "height": 423
        },
        "id": "Zg_BUeTVR8gj",
        "outputId": "d0aff366-7b19-4fb1-8f2a-87b3ab566f82"
      },
      "source": [
        "df.columns= df.columns.str.lower()\n",
        "df"
      ],
      "execution_count": null,
      "outputs": [
        {
          "output_type": "execute_result",
          "data": {
            "text/html": [
              "\n",
              "  <div id=\"df-40b7935a-a87d-4a17-9f78-0c18417a5ce0\">\n",
              "    <div class=\"colab-df-container\">\n",
              "      <div>\n",
              "<style scoped>\n",
              "    .dataframe tbody tr th:only-of-type {\n",
              "        vertical-align: middle;\n",
              "    }\n",
              "\n",
              "    .dataframe tbody tr th {\n",
              "        vertical-align: top;\n",
              "    }\n",
              "\n",
              "    .dataframe thead th {\n",
              "        text-align: right;\n",
              "    }\n",
              "</style>\n",
              "<table border=\"1\" class=\"dataframe\">\n",
              "  <thead>\n",
              "    <tr style=\"text-align: right;\">\n",
              "      <th></th>\n",
              "      <th>month</th>\n",
              "      <th>year</th>\n",
              "      <th>units consumed</th>\n",
              "      <th>amount</th>\n",
              "      <th>area</th>\n",
              "      <th>season</th>\n",
              "      <th>load</th>\n",
              "    </tr>\n",
              "  </thead>\n",
              "  <tbody>\n",
              "    <tr>\n",
              "      <th>0</th>\n",
              "      <td>march</td>\n",
              "      <td>2021</td>\n",
              "      <td>212</td>\n",
              "      <td>5024</td>\n",
              "      <td>North Karachi</td>\n",
              "      <td>Summer</td>\n",
              "      <td>7</td>\n",
              "    </tr>\n",
              "    <tr>\n",
              "      <th>1</th>\n",
              "      <td>february</td>\n",
              "      <td>2021</td>\n",
              "      <td>233</td>\n",
              "      <td>4838</td>\n",
              "      <td>North Karachi</td>\n",
              "      <td>Winter</td>\n",
              "      <td>7</td>\n",
              "    </tr>\n",
              "    <tr>\n",
              "      <th>2</th>\n",
              "      <td>january</td>\n",
              "      <td>2021</td>\n",
              "      <td>260</td>\n",
              "      <td>5450</td>\n",
              "      <td>North Karachi</td>\n",
              "      <td>Winter</td>\n",
              "      <td>7</td>\n",
              "    </tr>\n",
              "    <tr>\n",
              "      <th>3</th>\n",
              "      <td>december</td>\n",
              "      <td>2020</td>\n",
              "      <td>282</td>\n",
              "      <td>5801</td>\n",
              "      <td>North Karachi</td>\n",
              "      <td>Winter</td>\n",
              "      <td>7</td>\n",
              "    </tr>\n",
              "    <tr>\n",
              "      <th>4</th>\n",
              "      <td>november</td>\n",
              "      <td>2020</td>\n",
              "      <td>280</td>\n",
              "      <td>5868</td>\n",
              "      <td>North Karachi</td>\n",
              "      <td>Winter</td>\n",
              "      <td>7</td>\n",
              "    </tr>\n",
              "    <tr>\n",
              "      <th>...</th>\n",
              "      <td>...</td>\n",
              "      <td>...</td>\n",
              "      <td>...</td>\n",
              "      <td>...</td>\n",
              "      <td>...</td>\n",
              "      <td>...</td>\n",
              "      <td>...</td>\n",
              "    </tr>\n",
              "    <tr>\n",
              "      <th>2742</th>\n",
              "      <td>december</td>\n",
              "      <td>2020</td>\n",
              "      <td>102</td>\n",
              "      <td>742</td>\n",
              "      <td>saddar</td>\n",
              "      <td>NaN</td>\n",
              "      <td>2</td>\n",
              "    </tr>\n",
              "    <tr>\n",
              "      <th>2743</th>\n",
              "      <td>march</td>\n",
              "      <td>2021</td>\n",
              "      <td>198</td>\n",
              "      <td>1942</td>\n",
              "      <td>saddar</td>\n",
              "      <td>NaN</td>\n",
              "      <td>2</td>\n",
              "    </tr>\n",
              "    <tr>\n",
              "      <th>2744</th>\n",
              "      <td>april</td>\n",
              "      <td>2021</td>\n",
              "      <td>251</td>\n",
              "      <td>3706</td>\n",
              "      <td>saddar</td>\n",
              "      <td>NaN</td>\n",
              "      <td>2</td>\n",
              "    </tr>\n",
              "    <tr>\n",
              "      <th>2745</th>\n",
              "      <td>july</td>\n",
              "      <td>2021</td>\n",
              "      <td>225</td>\n",
              "      <td>3053</td>\n",
              "      <td>saddar</td>\n",
              "      <td>NaN</td>\n",
              "      <td>2</td>\n",
              "    </tr>\n",
              "    <tr>\n",
              "      <th>2746</th>\n",
              "      <td>october</td>\n",
              "      <td>2021</td>\n",
              "      <td>158</td>\n",
              "      <td>1763</td>\n",
              "      <td>saddar</td>\n",
              "      <td>NaN</td>\n",
              "      <td>2</td>\n",
              "    </tr>\n",
              "  </tbody>\n",
              "</table>\n",
              "<p>2747 rows × 7 columns</p>\n",
              "</div>\n",
              "      <button class=\"colab-df-convert\" onclick=\"convertToInteractive('df-40b7935a-a87d-4a17-9f78-0c18417a5ce0')\"\n",
              "              title=\"Convert this dataframe to an interactive table.\"\n",
              "              style=\"display:none;\">\n",
              "        \n",
              "  <svg xmlns=\"http://www.w3.org/2000/svg\" height=\"24px\"viewBox=\"0 0 24 24\"\n",
              "       width=\"24px\">\n",
              "    <path d=\"M0 0h24v24H0V0z\" fill=\"none\"/>\n",
              "    <path d=\"M18.56 5.44l.94 2.06.94-2.06 2.06-.94-2.06-.94-.94-2.06-.94 2.06-2.06.94zm-11 1L8.5 8.5l.94-2.06 2.06-.94-2.06-.94L8.5 2.5l-.94 2.06-2.06.94zm10 10l.94 2.06.94-2.06 2.06-.94-2.06-.94-.94-2.06-.94 2.06-2.06.94z\"/><path d=\"M17.41 7.96l-1.37-1.37c-.4-.4-.92-.59-1.43-.59-.52 0-1.04.2-1.43.59L10.3 9.45l-7.72 7.72c-.78.78-.78 2.05 0 2.83L4 21.41c.39.39.9.59 1.41.59.51 0 1.02-.2 1.41-.59l7.78-7.78 2.81-2.81c.8-.78.8-2.07 0-2.86zM5.41 20L4 18.59l7.72-7.72 1.47 1.35L5.41 20z\"/>\n",
              "  </svg>\n",
              "      </button>\n",
              "      \n",
              "  <style>\n",
              "    .colab-df-container {\n",
              "      display:flex;\n",
              "      flex-wrap:wrap;\n",
              "      gap: 12px;\n",
              "    }\n",
              "\n",
              "    .colab-df-convert {\n",
              "      background-color: #E8F0FE;\n",
              "      border: none;\n",
              "      border-radius: 50%;\n",
              "      cursor: pointer;\n",
              "      display: none;\n",
              "      fill: #1967D2;\n",
              "      height: 32px;\n",
              "      padding: 0 0 0 0;\n",
              "      width: 32px;\n",
              "    }\n",
              "\n",
              "    .colab-df-convert:hover {\n",
              "      background-color: #E2EBFA;\n",
              "      box-shadow: 0px 1px 2px rgba(60, 64, 67, 0.3), 0px 1px 3px 1px rgba(60, 64, 67, 0.15);\n",
              "      fill: #174EA6;\n",
              "    }\n",
              "\n",
              "    [theme=dark] .colab-df-convert {\n",
              "      background-color: #3B4455;\n",
              "      fill: #D2E3FC;\n",
              "    }\n",
              "\n",
              "    [theme=dark] .colab-df-convert:hover {\n",
              "      background-color: #434B5C;\n",
              "      box-shadow: 0px 1px 3px 1px rgba(0, 0, 0, 0.15);\n",
              "      filter: drop-shadow(0px 1px 2px rgba(0, 0, 0, 0.3));\n",
              "      fill: #FFFFFF;\n",
              "    }\n",
              "  </style>\n",
              "\n",
              "      <script>\n",
              "        const buttonEl =\n",
              "          document.querySelector('#df-40b7935a-a87d-4a17-9f78-0c18417a5ce0 button.colab-df-convert');\n",
              "        buttonEl.style.display =\n",
              "          google.colab.kernel.accessAllowed ? 'block' : 'none';\n",
              "\n",
              "        async function convertToInteractive(key) {\n",
              "          const element = document.querySelector('#df-40b7935a-a87d-4a17-9f78-0c18417a5ce0');\n",
              "          const dataTable =\n",
              "            await google.colab.kernel.invokeFunction('convertToInteractive',\n",
              "                                                     [key], {});\n",
              "          if (!dataTable) return;\n",
              "\n",
              "          const docLinkHtml = 'Like what you see? Visit the ' +\n",
              "            '<a target=\"_blank\" href=https://colab.research.google.com/notebooks/data_table.ipynb>data table notebook</a>'\n",
              "            + ' to learn more about interactive tables.';\n",
              "          element.innerHTML = '';\n",
              "          dataTable['output_type'] = 'display_data';\n",
              "          await google.colab.output.renderOutput(dataTable, element);\n",
              "          const docLink = document.createElement('div');\n",
              "          docLink.innerHTML = docLinkHtml;\n",
              "          element.appendChild(docLink);\n",
              "        }\n",
              "      </script>\n",
              "    </div>\n",
              "  </div>\n",
              "  "
            ],
            "text/plain": [
              "         month  year units consumed amount           area  season load\n",
              "0        march  2021            212   5024  North Karachi  Summer    7\n",
              "1     february  2021            233   4838  North Karachi  Winter    7\n",
              "2      january  2021            260   5450  North Karachi  Winter    7\n",
              "3     december  2020            282   5801  North Karachi  Winter    7\n",
              "4     november  2020            280   5868  North Karachi  Winter    7\n",
              "...        ...   ...            ...    ...            ...     ...  ...\n",
              "2742  december  2020            102    742         saddar     NaN    2\n",
              "2743     march  2021            198   1942         saddar     NaN    2\n",
              "2744     april  2021            251   3706         saddar     NaN    2\n",
              "2745      july  2021            225   3053         saddar     NaN    2\n",
              "2746   october  2021            158   1763         saddar     NaN    2\n",
              "\n",
              "[2747 rows x 7 columns]"
            ]
          },
          "metadata": {},
          "execution_count": 25
        }
      ]
    },
    {
      "cell_type": "markdown",
      "metadata": {
        "id": "APZm94rbQera"
      },
      "source": [
        "Change month, season coulmn into lowecase"
      ]
    },
    {
      "cell_type": "code",
      "metadata": {
        "colab": {
          "base_uri": "https://localhost:8080/"
        },
        "id": "wDhS_GypNeRx",
        "outputId": "6dbc4fed-8320-4525-b56e-c7d5694a3fdc"
      },
      "source": [
        "df.month=df.month.str.lower()\n",
        "df.season=df.season.str.lower()\n",
        "print(df.month)\n",
        "print(df.season)"
      ],
      "execution_count": null,
      "outputs": [
        {
          "output_type": "stream",
          "name": "stdout",
          "text": [
            "0          march\n",
            "1       february\n",
            "2        january\n",
            "3       december\n",
            "4       november\n",
            "          ...   \n",
            "2742    december\n",
            "2743       march\n",
            "2744       april\n",
            "2745        july\n",
            "2746     october\n",
            "Name: month, Length: 2747, dtype: object\n",
            "0       summer\n",
            "1       winter\n",
            "2       winter\n",
            "3       winter\n",
            "4       winter\n",
            "         ...  \n",
            "2742       NaN\n",
            "2743       NaN\n",
            "2744       NaN\n",
            "2745       NaN\n",
            "2746       NaN\n",
            "Name: season, Length: 2747, dtype: object\n"
          ]
        }
      ]
    },
    {
      "cell_type": "markdown",
      "metadata": {
        "id": "8oMy8impSrTX"
      },
      "source": [
        "rename a column name\n"
      ]
    },
    {
      "cell_type": "code",
      "metadata": {
        "id": "4ErJobkZSGCN"
      },
      "source": [
        "\n",
        "\n",
        "df.rename(columns={'units consumed' : 'unit_consumed'},inplace=True)\n"
      ],
      "execution_count": null,
      "outputs": []
    },
    {
      "cell_type": "code",
      "metadata": {
        "colab": {
          "base_uri": "https://localhost:8080/",
          "height": 423
        },
        "id": "T3AQ4oOdW8WA",
        "outputId": "2b3dc49b-2e76-445b-acab-9946f2969c86"
      },
      "source": [
        "\n",
        "df"
      ],
      "execution_count": null,
      "outputs": [
        {
          "output_type": "execute_result",
          "data": {
            "text/html": [
              "\n",
              "  <div id=\"df-61465e58-d71e-4e79-a348-567335fe1663\">\n",
              "    <div class=\"colab-df-container\">\n",
              "      <div>\n",
              "<style scoped>\n",
              "    .dataframe tbody tr th:only-of-type {\n",
              "        vertical-align: middle;\n",
              "    }\n",
              "\n",
              "    .dataframe tbody tr th {\n",
              "        vertical-align: top;\n",
              "    }\n",
              "\n",
              "    .dataframe thead th {\n",
              "        text-align: right;\n",
              "    }\n",
              "</style>\n",
              "<table border=\"1\" class=\"dataframe\">\n",
              "  <thead>\n",
              "    <tr style=\"text-align: right;\">\n",
              "      <th></th>\n",
              "      <th>month</th>\n",
              "      <th>year</th>\n",
              "      <th>unit_consumed</th>\n",
              "      <th>amount</th>\n",
              "      <th>area</th>\n",
              "      <th>season</th>\n",
              "      <th>load</th>\n",
              "    </tr>\n",
              "  </thead>\n",
              "  <tbody>\n",
              "    <tr>\n",
              "      <th>0</th>\n",
              "      <td>march</td>\n",
              "      <td>2021</td>\n",
              "      <td>212</td>\n",
              "      <td>5024</td>\n",
              "      <td>North Karachi</td>\n",
              "      <td>summer</td>\n",
              "      <td>7</td>\n",
              "    </tr>\n",
              "    <tr>\n",
              "      <th>1</th>\n",
              "      <td>february</td>\n",
              "      <td>2021</td>\n",
              "      <td>233</td>\n",
              "      <td>4838</td>\n",
              "      <td>North Karachi</td>\n",
              "      <td>winter</td>\n",
              "      <td>7</td>\n",
              "    </tr>\n",
              "    <tr>\n",
              "      <th>2</th>\n",
              "      <td>january</td>\n",
              "      <td>2021</td>\n",
              "      <td>260</td>\n",
              "      <td>5450</td>\n",
              "      <td>North Karachi</td>\n",
              "      <td>winter</td>\n",
              "      <td>7</td>\n",
              "    </tr>\n",
              "    <tr>\n",
              "      <th>3</th>\n",
              "      <td>december</td>\n",
              "      <td>2020</td>\n",
              "      <td>282</td>\n",
              "      <td>5801</td>\n",
              "      <td>North Karachi</td>\n",
              "      <td>winter</td>\n",
              "      <td>7</td>\n",
              "    </tr>\n",
              "    <tr>\n",
              "      <th>4</th>\n",
              "      <td>november</td>\n",
              "      <td>2020</td>\n",
              "      <td>280</td>\n",
              "      <td>5868</td>\n",
              "      <td>North Karachi</td>\n",
              "      <td>winter</td>\n",
              "      <td>7</td>\n",
              "    </tr>\n",
              "    <tr>\n",
              "      <th>...</th>\n",
              "      <td>...</td>\n",
              "      <td>...</td>\n",
              "      <td>...</td>\n",
              "      <td>...</td>\n",
              "      <td>...</td>\n",
              "      <td>...</td>\n",
              "      <td>...</td>\n",
              "    </tr>\n",
              "    <tr>\n",
              "      <th>2742</th>\n",
              "      <td>december</td>\n",
              "      <td>2020</td>\n",
              "      <td>102</td>\n",
              "      <td>742</td>\n",
              "      <td>saddar</td>\n",
              "      <td>NaN</td>\n",
              "      <td>2</td>\n",
              "    </tr>\n",
              "    <tr>\n",
              "      <th>2743</th>\n",
              "      <td>march</td>\n",
              "      <td>2021</td>\n",
              "      <td>198</td>\n",
              "      <td>1942</td>\n",
              "      <td>saddar</td>\n",
              "      <td>NaN</td>\n",
              "      <td>2</td>\n",
              "    </tr>\n",
              "    <tr>\n",
              "      <th>2744</th>\n",
              "      <td>april</td>\n",
              "      <td>2021</td>\n",
              "      <td>251</td>\n",
              "      <td>3706</td>\n",
              "      <td>saddar</td>\n",
              "      <td>NaN</td>\n",
              "      <td>2</td>\n",
              "    </tr>\n",
              "    <tr>\n",
              "      <th>2745</th>\n",
              "      <td>july</td>\n",
              "      <td>2021</td>\n",
              "      <td>225</td>\n",
              "      <td>3053</td>\n",
              "      <td>saddar</td>\n",
              "      <td>NaN</td>\n",
              "      <td>2</td>\n",
              "    </tr>\n",
              "    <tr>\n",
              "      <th>2746</th>\n",
              "      <td>october</td>\n",
              "      <td>2021</td>\n",
              "      <td>158</td>\n",
              "      <td>1763</td>\n",
              "      <td>saddar</td>\n",
              "      <td>NaN</td>\n",
              "      <td>2</td>\n",
              "    </tr>\n",
              "  </tbody>\n",
              "</table>\n",
              "<p>2747 rows × 7 columns</p>\n",
              "</div>\n",
              "      <button class=\"colab-df-convert\" onclick=\"convertToInteractive('df-61465e58-d71e-4e79-a348-567335fe1663')\"\n",
              "              title=\"Convert this dataframe to an interactive table.\"\n",
              "              style=\"display:none;\">\n",
              "        \n",
              "  <svg xmlns=\"http://www.w3.org/2000/svg\" height=\"24px\"viewBox=\"0 0 24 24\"\n",
              "       width=\"24px\">\n",
              "    <path d=\"M0 0h24v24H0V0z\" fill=\"none\"/>\n",
              "    <path d=\"M18.56 5.44l.94 2.06.94-2.06 2.06-.94-2.06-.94-.94-2.06-.94 2.06-2.06.94zm-11 1L8.5 8.5l.94-2.06 2.06-.94-2.06-.94L8.5 2.5l-.94 2.06-2.06.94zm10 10l.94 2.06.94-2.06 2.06-.94-2.06-.94-.94-2.06-.94 2.06-2.06.94z\"/><path d=\"M17.41 7.96l-1.37-1.37c-.4-.4-.92-.59-1.43-.59-.52 0-1.04.2-1.43.59L10.3 9.45l-7.72 7.72c-.78.78-.78 2.05 0 2.83L4 21.41c.39.39.9.59 1.41.59.51 0 1.02-.2 1.41-.59l7.78-7.78 2.81-2.81c.8-.78.8-2.07 0-2.86zM5.41 20L4 18.59l7.72-7.72 1.47 1.35L5.41 20z\"/>\n",
              "  </svg>\n",
              "      </button>\n",
              "      \n",
              "  <style>\n",
              "    .colab-df-container {\n",
              "      display:flex;\n",
              "      flex-wrap:wrap;\n",
              "      gap: 12px;\n",
              "    }\n",
              "\n",
              "    .colab-df-convert {\n",
              "      background-color: #E8F0FE;\n",
              "      border: none;\n",
              "      border-radius: 50%;\n",
              "      cursor: pointer;\n",
              "      display: none;\n",
              "      fill: #1967D2;\n",
              "      height: 32px;\n",
              "      padding: 0 0 0 0;\n",
              "      width: 32px;\n",
              "    }\n",
              "\n",
              "    .colab-df-convert:hover {\n",
              "      background-color: #E2EBFA;\n",
              "      box-shadow: 0px 1px 2px rgba(60, 64, 67, 0.3), 0px 1px 3px 1px rgba(60, 64, 67, 0.15);\n",
              "      fill: #174EA6;\n",
              "    }\n",
              "\n",
              "    [theme=dark] .colab-df-convert {\n",
              "      background-color: #3B4455;\n",
              "      fill: #D2E3FC;\n",
              "    }\n",
              "\n",
              "    [theme=dark] .colab-df-convert:hover {\n",
              "      background-color: #434B5C;\n",
              "      box-shadow: 0px 1px 3px 1px rgba(0, 0, 0, 0.15);\n",
              "      filter: drop-shadow(0px 1px 2px rgba(0, 0, 0, 0.3));\n",
              "      fill: #FFFFFF;\n",
              "    }\n",
              "  </style>\n",
              "\n",
              "      <script>\n",
              "        const buttonEl =\n",
              "          document.querySelector('#df-61465e58-d71e-4e79-a348-567335fe1663 button.colab-df-convert');\n",
              "        buttonEl.style.display =\n",
              "          google.colab.kernel.accessAllowed ? 'block' : 'none';\n",
              "\n",
              "        async function convertToInteractive(key) {\n",
              "          const element = document.querySelector('#df-61465e58-d71e-4e79-a348-567335fe1663');\n",
              "          const dataTable =\n",
              "            await google.colab.kernel.invokeFunction('convertToInteractive',\n",
              "                                                     [key], {});\n",
              "          if (!dataTable) return;\n",
              "\n",
              "          const docLinkHtml = 'Like what you see? Visit the ' +\n",
              "            '<a target=\"_blank\" href=https://colab.research.google.com/notebooks/data_table.ipynb>data table notebook</a>'\n",
              "            + ' to learn more about interactive tables.';\n",
              "          element.innerHTML = '';\n",
              "          dataTable['output_type'] = 'display_data';\n",
              "          await google.colab.output.renderOutput(dataTable, element);\n",
              "          const docLink = document.createElement('div');\n",
              "          docLink.innerHTML = docLinkHtml;\n",
              "          element.appendChild(docLink);\n",
              "        }\n",
              "      </script>\n",
              "    </div>\n",
              "  </div>\n",
              "  "
            ],
            "text/plain": [
              "         month  year unit_consumed amount           area  season load\n",
              "0        march  2021           212   5024  North Karachi  summer    7\n",
              "1     february  2021           233   4838  North Karachi  winter    7\n",
              "2      january  2021           260   5450  North Karachi  winter    7\n",
              "3     december  2020           282   5801  North Karachi  winter    7\n",
              "4     november  2020           280   5868  North Karachi  winter    7\n",
              "...        ...   ...           ...    ...            ...     ...  ...\n",
              "2742  december  2020           102    742         saddar     NaN    2\n",
              "2743     march  2021           198   1942         saddar     NaN    2\n",
              "2744     april  2021           251   3706         saddar     NaN    2\n",
              "2745      july  2021           225   3053         saddar     NaN    2\n",
              "2746   october  2021           158   1763         saddar     NaN    2\n",
              "\n",
              "[2747 rows x 7 columns]"
            ]
          },
          "metadata": {},
          "execution_count": 28
        }
      ]
    },
    {
      "cell_type": "markdown",
      "metadata": {
        "id": "GQgnjic-QJHF"
      },
      "source": [
        "(October-march) Winter\n",
        "(april-september) Summer"
      ]
    },
    {
      "cell_type": "code",
      "metadata": {
        "id": "QV1qWlrwwQwZ"
      },
      "source": [
        "df.loc[df['month']=='march' , 'season'] = 'summer'\n",
        "df.loc[df['month']=='april' , 'season'] = 'summer'\n",
        "df.loc[df['month']=='may' , 'season'] = 'summer'\n",
        "df.loc[df['month']=='june' , 'season'] = 'summer'\n",
        "df.loc[df['month']=='july' , 'season'] = 'summer'\n",
        "df.loc[df['month']=='august' , 'season'] = 'summer'\n",
        "df.loc[df['month']=='september' , 'season'] = 'summer'\n",
        "df.loc[df['month']=='october' , 'season'] = 'winter'\n",
        "df.loc[df['month']=='november' , 'season'] = 'winter'\n",
        "df.loc[df['month']=='december' , 'season'] = 'winter'\n",
        "df.loc[df['month']=='january' , 'season'] = 'winter'\n",
        "df.loc[df['month']=='february' , 'season'] = 'winter'\n",
        "\n"
      ],
      "execution_count": null,
      "outputs": []
    },
    {
      "cell_type": "code",
      "metadata": {
        "colab": {
          "base_uri": "https://localhost:8080/"
        },
        "id": "wbmPsF0cyPh1",
        "outputId": "3aeb9954-beab-4361-99fc-875f5bcdb866"
      },
      "source": [
        "df.loc[df['month']=='March','season'].count()"
      ],
      "execution_count": null,
      "outputs": [
        {
          "output_type": "execute_result",
          "data": {
            "text/plain": [
              "0"
            ]
          },
          "metadata": {},
          "execution_count": 30
        }
      ]
    },
    {
      "cell_type": "code",
      "metadata": {
        "colab": {
          "base_uri": "https://localhost:8080/",
          "height": 423
        },
        "id": "2U7zMoGtyt6q",
        "outputId": "0fed6fa7-5cc7-4d93-87e6-f8592a9e6bed"
      },
      "source": [
        "df"
      ],
      "execution_count": null,
      "outputs": [
        {
          "output_type": "execute_result",
          "data": {
            "text/html": [
              "\n",
              "  <div id=\"df-09d05e37-c6d3-4999-a437-eaf9945bb448\">\n",
              "    <div class=\"colab-df-container\">\n",
              "      <div>\n",
              "<style scoped>\n",
              "    .dataframe tbody tr th:only-of-type {\n",
              "        vertical-align: middle;\n",
              "    }\n",
              "\n",
              "    .dataframe tbody tr th {\n",
              "        vertical-align: top;\n",
              "    }\n",
              "\n",
              "    .dataframe thead th {\n",
              "        text-align: right;\n",
              "    }\n",
              "</style>\n",
              "<table border=\"1\" class=\"dataframe\">\n",
              "  <thead>\n",
              "    <tr style=\"text-align: right;\">\n",
              "      <th></th>\n",
              "      <th>month</th>\n",
              "      <th>year</th>\n",
              "      <th>unit_consumed</th>\n",
              "      <th>amount</th>\n",
              "      <th>area</th>\n",
              "      <th>season</th>\n",
              "      <th>load</th>\n",
              "    </tr>\n",
              "  </thead>\n",
              "  <tbody>\n",
              "    <tr>\n",
              "      <th>0</th>\n",
              "      <td>march</td>\n",
              "      <td>2021</td>\n",
              "      <td>212</td>\n",
              "      <td>5024</td>\n",
              "      <td>North Karachi</td>\n",
              "      <td>summer</td>\n",
              "      <td>7</td>\n",
              "    </tr>\n",
              "    <tr>\n",
              "      <th>1</th>\n",
              "      <td>february</td>\n",
              "      <td>2021</td>\n",
              "      <td>233</td>\n",
              "      <td>4838</td>\n",
              "      <td>North Karachi</td>\n",
              "      <td>winter</td>\n",
              "      <td>7</td>\n",
              "    </tr>\n",
              "    <tr>\n",
              "      <th>2</th>\n",
              "      <td>january</td>\n",
              "      <td>2021</td>\n",
              "      <td>260</td>\n",
              "      <td>5450</td>\n",
              "      <td>North Karachi</td>\n",
              "      <td>winter</td>\n",
              "      <td>7</td>\n",
              "    </tr>\n",
              "    <tr>\n",
              "      <th>3</th>\n",
              "      <td>december</td>\n",
              "      <td>2020</td>\n",
              "      <td>282</td>\n",
              "      <td>5801</td>\n",
              "      <td>North Karachi</td>\n",
              "      <td>winter</td>\n",
              "      <td>7</td>\n",
              "    </tr>\n",
              "    <tr>\n",
              "      <th>4</th>\n",
              "      <td>november</td>\n",
              "      <td>2020</td>\n",
              "      <td>280</td>\n",
              "      <td>5868</td>\n",
              "      <td>North Karachi</td>\n",
              "      <td>winter</td>\n",
              "      <td>7</td>\n",
              "    </tr>\n",
              "    <tr>\n",
              "      <th>...</th>\n",
              "      <td>...</td>\n",
              "      <td>...</td>\n",
              "      <td>...</td>\n",
              "      <td>...</td>\n",
              "      <td>...</td>\n",
              "      <td>...</td>\n",
              "      <td>...</td>\n",
              "    </tr>\n",
              "    <tr>\n",
              "      <th>2742</th>\n",
              "      <td>december</td>\n",
              "      <td>2020</td>\n",
              "      <td>102</td>\n",
              "      <td>742</td>\n",
              "      <td>saddar</td>\n",
              "      <td>winter</td>\n",
              "      <td>2</td>\n",
              "    </tr>\n",
              "    <tr>\n",
              "      <th>2743</th>\n",
              "      <td>march</td>\n",
              "      <td>2021</td>\n",
              "      <td>198</td>\n",
              "      <td>1942</td>\n",
              "      <td>saddar</td>\n",
              "      <td>summer</td>\n",
              "      <td>2</td>\n",
              "    </tr>\n",
              "    <tr>\n",
              "      <th>2744</th>\n",
              "      <td>april</td>\n",
              "      <td>2021</td>\n",
              "      <td>251</td>\n",
              "      <td>3706</td>\n",
              "      <td>saddar</td>\n",
              "      <td>summer</td>\n",
              "      <td>2</td>\n",
              "    </tr>\n",
              "    <tr>\n",
              "      <th>2745</th>\n",
              "      <td>july</td>\n",
              "      <td>2021</td>\n",
              "      <td>225</td>\n",
              "      <td>3053</td>\n",
              "      <td>saddar</td>\n",
              "      <td>summer</td>\n",
              "      <td>2</td>\n",
              "    </tr>\n",
              "    <tr>\n",
              "      <th>2746</th>\n",
              "      <td>october</td>\n",
              "      <td>2021</td>\n",
              "      <td>158</td>\n",
              "      <td>1763</td>\n",
              "      <td>saddar</td>\n",
              "      <td>winter</td>\n",
              "      <td>2</td>\n",
              "    </tr>\n",
              "  </tbody>\n",
              "</table>\n",
              "<p>2747 rows × 7 columns</p>\n",
              "</div>\n",
              "      <button class=\"colab-df-convert\" onclick=\"convertToInteractive('df-09d05e37-c6d3-4999-a437-eaf9945bb448')\"\n",
              "              title=\"Convert this dataframe to an interactive table.\"\n",
              "              style=\"display:none;\">\n",
              "        \n",
              "  <svg xmlns=\"http://www.w3.org/2000/svg\" height=\"24px\"viewBox=\"0 0 24 24\"\n",
              "       width=\"24px\">\n",
              "    <path d=\"M0 0h24v24H0V0z\" fill=\"none\"/>\n",
              "    <path d=\"M18.56 5.44l.94 2.06.94-2.06 2.06-.94-2.06-.94-.94-2.06-.94 2.06-2.06.94zm-11 1L8.5 8.5l.94-2.06 2.06-.94-2.06-.94L8.5 2.5l-.94 2.06-2.06.94zm10 10l.94 2.06.94-2.06 2.06-.94-2.06-.94-.94-2.06-.94 2.06-2.06.94z\"/><path d=\"M17.41 7.96l-1.37-1.37c-.4-.4-.92-.59-1.43-.59-.52 0-1.04.2-1.43.59L10.3 9.45l-7.72 7.72c-.78.78-.78 2.05 0 2.83L4 21.41c.39.39.9.59 1.41.59.51 0 1.02-.2 1.41-.59l7.78-7.78 2.81-2.81c.8-.78.8-2.07 0-2.86zM5.41 20L4 18.59l7.72-7.72 1.47 1.35L5.41 20z\"/>\n",
              "  </svg>\n",
              "      </button>\n",
              "      \n",
              "  <style>\n",
              "    .colab-df-container {\n",
              "      display:flex;\n",
              "      flex-wrap:wrap;\n",
              "      gap: 12px;\n",
              "    }\n",
              "\n",
              "    .colab-df-convert {\n",
              "      background-color: #E8F0FE;\n",
              "      border: none;\n",
              "      border-radius: 50%;\n",
              "      cursor: pointer;\n",
              "      display: none;\n",
              "      fill: #1967D2;\n",
              "      height: 32px;\n",
              "      padding: 0 0 0 0;\n",
              "      width: 32px;\n",
              "    }\n",
              "\n",
              "    .colab-df-convert:hover {\n",
              "      background-color: #E2EBFA;\n",
              "      box-shadow: 0px 1px 2px rgba(60, 64, 67, 0.3), 0px 1px 3px 1px rgba(60, 64, 67, 0.15);\n",
              "      fill: #174EA6;\n",
              "    }\n",
              "\n",
              "    [theme=dark] .colab-df-convert {\n",
              "      background-color: #3B4455;\n",
              "      fill: #D2E3FC;\n",
              "    }\n",
              "\n",
              "    [theme=dark] .colab-df-convert:hover {\n",
              "      background-color: #434B5C;\n",
              "      box-shadow: 0px 1px 3px 1px rgba(0, 0, 0, 0.15);\n",
              "      filter: drop-shadow(0px 1px 2px rgba(0, 0, 0, 0.3));\n",
              "      fill: #FFFFFF;\n",
              "    }\n",
              "  </style>\n",
              "\n",
              "      <script>\n",
              "        const buttonEl =\n",
              "          document.querySelector('#df-09d05e37-c6d3-4999-a437-eaf9945bb448 button.colab-df-convert');\n",
              "        buttonEl.style.display =\n",
              "          google.colab.kernel.accessAllowed ? 'block' : 'none';\n",
              "\n",
              "        async function convertToInteractive(key) {\n",
              "          const element = document.querySelector('#df-09d05e37-c6d3-4999-a437-eaf9945bb448');\n",
              "          const dataTable =\n",
              "            await google.colab.kernel.invokeFunction('convertToInteractive',\n",
              "                                                     [key], {});\n",
              "          if (!dataTable) return;\n",
              "\n",
              "          const docLinkHtml = 'Like what you see? Visit the ' +\n",
              "            '<a target=\"_blank\" href=https://colab.research.google.com/notebooks/data_table.ipynb>data table notebook</a>'\n",
              "            + ' to learn more about interactive tables.';\n",
              "          element.innerHTML = '';\n",
              "          dataTable['output_type'] = 'display_data';\n",
              "          await google.colab.output.renderOutput(dataTable, element);\n",
              "          const docLink = document.createElement('div');\n",
              "          docLink.innerHTML = docLinkHtml;\n",
              "          element.appendChild(docLink);\n",
              "        }\n",
              "      </script>\n",
              "    </div>\n",
              "  </div>\n",
              "  "
            ],
            "text/plain": [
              "         month  year unit_consumed amount           area  season load\n",
              "0        march  2021           212   5024  North Karachi  summer    7\n",
              "1     february  2021           233   4838  North Karachi  winter    7\n",
              "2      january  2021           260   5450  North Karachi  winter    7\n",
              "3     december  2020           282   5801  North Karachi  winter    7\n",
              "4     november  2020           280   5868  North Karachi  winter    7\n",
              "...        ...   ...           ...    ...            ...     ...  ...\n",
              "2742  december  2020           102    742         saddar  winter    2\n",
              "2743     march  2021           198   1942         saddar  summer    2\n",
              "2744     april  2021           251   3706         saddar  summer    2\n",
              "2745      july  2021           225   3053         saddar  summer    2\n",
              "2746   october  2021           158   1763         saddar  winter    2\n",
              "\n",
              "[2747 rows x 7 columns]"
            ]
          },
          "metadata": {},
          "execution_count": 31
        }
      ]
    },
    {
      "cell_type": "markdown",
      "metadata": {
        "id": "3OONB1iGWPax"
      },
      "source": [
        "Total numbers of months"
      ]
    },
    {
      "cell_type": "code",
      "metadata": {
        "id": "yV82Dso22tE6",
        "colab": {
          "base_uri": "https://localhost:8080/",
          "height": 157
        },
        "outputId": "a8a69879-35bc-468b-9f25-3a5ebeb555d0"
      },
      "source": [
        "df['month'].value_count()"
      ],
      "execution_count": null,
      "outputs": [
        {
          "output_type": "execute_result",
          "data": {
            "application/vnd.google.colaboratory.intrinsic+json": {
              "type": "string"
            },
            "text/plain": [
              "'marchfebruaryjanuarydecembernovemberoctoberseptemberaugustjulyjunemayaprilmarchfebruaryjanuarydecembernovemberoctoberseptemberaugustjulyjunemayaprilmarchfebruaryjanuarydecembernovemberoctoberseptemberaugustjulyjunemayaprilmarchfebruaryjanuarymarchfebruaryjanuaryfebruaryfebruaryjanuarydecemberdecembernovembernovemberoctoberoctoberseptemberseptemberaugustaugustjulyjulyjunejunemaymayaprilaprilmarchmarchfebruaryfebruaryjanuaryjanuarydecemberdecembernovembernovemberoctoberoctoberseptemberseptemberaugustaugustjulyjulyjunejunemaymayaprilaprilmarchmarchfebruaryfebruaryjanuaryjanuarydecemberdecembernovembernovemberoctoberoctoberseptemberseptemberaugustaugustjulyjulyjunejunemaymayaprilaprilmarchmarchfebruaryfebruaryjanuaryjanuaryjanuaryjanuarymarchaprilaprilaugustseptemberseptemberoctoberoctobernovembernovembernovemberdecemberdecemberdecemberjanuaryjanuaryjanuaryseptemberseptemberaugustaugustoctoberoctoberjulyjulyaprilapriljanuarydecemberdecemberfebruaryfebruarynovembernovemberjunefebruaryfebruaryfebruaryfebruarymarchaprilmayjunejulyaugustseptemberoctobernovemberdecemberjanuaryfebruarymarchjanuarydecembernovemberoctoberseptembermarchfebruaryjanuarydecembernovemberoctoberseptemberaugustjulyjunemayaprilmarchfebruaryjanuaryjanuaryfebruarymarchaprilmayjunejulyaugustseptemberoctobernovemberdecemberjanuaryfebruarymarchaprilmayjunejulyaugustseptemberoctobernovemberdecemberjanuaryfebruarymarchaprilmayjunejulyaugustseptemberoctobernovemberdecemberjanuaryfebruarymarchaprilaugustseptemberoctobernovemberdecemberjanuaryfebruarymarchaprilmayjunejulyaugustseptemberoctobernovemberdecemberjanuaryfebruarymarchjanuaryfebruarymarchaprilmayjunejulyaugustseptemberoctobernovemberdecemberjanuaryfebruarymarchaprilmayjunejulyaugustseptemberoctobernovemberdecemberjanuaryfebruarymarchaprilmayjunejulyaugustseptemberoctobernovemberdecemberjanuaryfebruarymarchapriljanuaryfebruarymarchaprilmayjunejulyaugustseptemberoctobernovemberdecemberjanuaryfebruarymarchaprilmayjunejulyaugustseptemberoctobernovemberdecemberjanuaryfebruarymarchapriljanuaryfebruarymarchaprilmayjunejulyaugustseptemberoctobernovemberdecemberjanuaryfebruarymarchaprilmayjunejulyaugustseptemberoctobernovemberdecemberjanuaryfebruarymarchaprilmayjunejulyaugustseptemberoctobernovemberdecemberjanuaryfebruarymarchapriljanuaryfebruarymarchaprilmayjunejulyaugustseptemberoctobernovemberdecemberjanuaryfebruarymarchaprilmayjunejulyaugustseptemberoctobernovemberdecemberjanuaryfebruarymarchaprilmayjunejulyaugustseptemberoctobernovemberdecemberjanuaryfebruarymarchapriljanuaryfebruarymarchaprilmayjunejulyaugustseptemberoctobernovemberdecemberjanuaryfebruarymarchaprilmayjunejulyaugustseptemberoctobernovemberdecemberjanuaryfebruarymarchaprilmayjunejulyaugustseptemberoctobernovemberdecemberjanuaryfebruarymarchapriljanuaryfebruarymarchaprilmayjunejulyaugustseptemberoctobernovemberdecemberjanuaryfebruarymarchaprilmayjunejulyaugustseptemberoctobernovemberdecemberjanuaryfebruarymarchaprilmayjunejulyaugustseptemberoctobernovemberdecemberjanuaryfebruarymarchjanuaryfebruarymarchaprilmayjunejulyaugustseptemberoctobernovemberdecemberjanuaryfebruarymarchaprilmayjunejulyaugustseptemberoctobernovemberdecemberjanuaryfebruarymarchaprilmayjunejulyaugustseptemberoctobernovemberdecemberjanuaryfebruarymarchjanuaryfebruarymarchaprilmayjunejulyaugustseptemberoctobernovemberdecemberjanuaryfebruarymarchaprilmayjunejulyaugustseptemberoctobernovemberdecemberjanuaryfebruarymarchaprilmayjunejulyaugustseptemberoctobernovemberdecemberjanuaryfebruarymarchapriljanuaryfebruarymarchaprilmayjunejulyaugustseptemberoctobernovemberdecemberjanuaryfebruarymarchaprilmayjunejulyaugustseptemberoctobernovemberdecemberjanuaryfebruarymarchaprilmayjunejulyaugustseptemberoctobernovemberdecemberjanuaryfebruarymarchapriljanuaryfebruarymarchaprilmayjunejulyaugustseptemberoctobernovemberdecemberjanuaryfebruarymarchaprilmayjunejulyaugustseptemberoctobernovemberdecemberjanuaryfebruarymarchaprilmayjunejulyaugustseptemberoctobernovemberdecemberjanuaryfebruarymarchapriljanuaryfebruarymarchaprilmayjunejulyaugustseptemberoctobernovemberdecemberjanuaryfebruarymarchaprilmayjunejulyaugustseptemberoctobernovemberdecemberjanuaryfebruarymarchaprilmayjunejulyaugustseptemberoctobernovemberdecemberjanuaryfebruarymarchapriljanuaryfebruarymarchaprilmayjunejulyaugustseptemberoctobernovemberdecemberjanuaryfebruarymarchaprilmayjunejulyaugustseptemberoctobernovemberdecemberjanuaryfebruarymarchaprilmayjunejulyaugustseptemberoctobernovemberdecemberjanuaryfebruarymarchapriljanuaryfebruarymarchaprilmayjunejulyaugustseptemberoctobernovemberdecemberjanuaryfebruarymarchaprilmayjunejulyaugustseptemberoctobernovemberdecemberjanuaryfebruarymarchaprilmayjunejulyaugustseptemberoctobernovemberdecemberjanuaryfebruarymarchjanuaryfebruarymarchaprilmayjunejulyaugustseptemberoctobernovemberdecemberjanuaryfebruarymarchaprilmayjunejulyaugustseptemberoctobernovemberdecemberjanuaryfebruarymarchaprilmayjunejulyaugustseptemberoctobernovemberdecemberjanuaryfebruarymarchjanuaryfebruarymarchaprilmayjunejulyaugustseptemberoctobernovemberdecemberjanuaryfebruarymarchaprilmayjunejulyaugustseptemberoctobernovemberdecemberjanuaryfebruarymarchaprilmayjunejulyaugustseptemberoctobernovemberdecemberjanuaryfebruarymarchapriljanuaryfebruarymarchaprilmayjunejulyaugustseptemberoctobernovemberdecemberjanuaryfebruarymarchaprilmayjunejulyaugustseptemberoctobernovemberdecemberjanuaryfebruarymarchaprilmayjunejulyaugustseptemberoctobernovemberdecemberjanuaryfebruarymarchapriljanuaryfebruarymarchaprilmayjunejulyaugustseptemberoctobernovemberdecemberjanuaryfebruarymarchaprilmayjunejulyaugustseptemberoctobernovemberdecemberjanuaryfebruarymarchaprilmayjunejulyaugustseptemberoctobernovemberdecemberjanuaryfebruarymarchapriljanuaryfebruarymarchaprilmayjunejulyaugustseptemberoctobernovemberdecemberjanuaryfebruarymarchaprilmayjunejulyaugustseptemberoctobernovemberdecemberjanuaryfebruarymarchaprilmayjunejulyaugustseptemberoctobernovemberdecemberjanuaryfebruarymarchapriljanuaryfebruarymarchaprilmayjunejulyaugustseptemberoctobernovemberdecemberjanuaryfebruarymarchaprilmayjunejulyaugustseptemberoctobernovemberdecemberjanuaryfebruarymarchaprilmayjunejulyaugustseptemberoctobernovemberdecemberjanuaryfebruarymarchapriljanuaryfebruarymarchaprilmayjunejulyaugustseptemberoctobernovemberdecemberjanuaryfebruarymarchaprilmayjunejulyaugustseptemberoctobernovemberdecemberjanuaryfebruarymarchaprilmayjunejulyaugustseptemberoctobernovemberdecemberjanuaryfebruarymarchapriljanuaryfebruarymarchaprilmayjunejulyaugustseptemberoctobernovemberdecemberjanuaryfebruarymarchaprilmayjunejulyaugustseptemberoctobernovemberdecemberjanuaryfebruarymarchaprilmayjunejulyaugustseptemberoctobernovemberdecemberjanuaryfebruarymarchapriljanuaryfebruarymarchaprilmayjunejulyaugustseptemberoctobernovemberdecemberjanuaryfebruarymarchaprilmayjunejulyaugustseptemberoctobernovemberdecemberjanuaryfebruarymarchaprilmayjunejulyaugustseptemberoctobernovemberdecemberjanuaryfebruarymarchapriljanuaryfebruarymarchaprilmayjunejulyaugustseptemberoctobernovemberdecemberjanuaryfebruarymarchaprilmayjunejulyaugustseptemberoctobernovemberdecemberjanuaryfebruarymarchaprilmayjunejulyaugustseptemberoctobernovemberdecemberjanuaryfebruarymarchapriljanuaryfebruarymarchaprilmayjunejulyaugustseptemberoctobernovemberdecemberjanuaryfebruarymarchaprilmayjunejulyaugustseptemberoctobernovemberdecemberjanuaryfebruarymarchaprilmayjunejulyaugustseptemberoctobernovemberdecemberjanuaryfebruarymarchapriljanuaryfebruarymarchaprilmayjunejulyaugustseptemberoctobernovemberdecemberjanuaryfebruarymarchaprilmayjunejulyaugustseptemberoctobernovemberdecemberjanuaryfebruarymarchaprilmayjunejulyaugustseptemberoctobernovemberdecemberjanuaryfebruarymarchapriljanuaryfebruarymarchaprilmayjunejulyaugustseptemberoctobernovemberdecemberjanuaryfebruarymarchaprilmayjunejulyaugustseptemberoctobernovemberdecemberjanuaryfebruarymarchaprilmayjunejulyaugustseptemberoctobernovemberdecemberjanuaryfebruarymarchapriljanuaryfebruarymarchaprilmayjunejulyaugustseptemberoctobernovemberdecemberjanuaryfebruarymarchaprilmayjunejulyaugustseptemberoctobernovemberdecemberjanuaryfebruarymarchaprilmayjunejulyaugustseptemberoctobernovemberdecemberjanuaryfebruarymarchaprilaprilmayjunejulyaugustseptemberoctobernovemberdecemberjanuaryfebruarymarchaprilmayjunejulyaugustseptemberoctobernovemberdecemberjanuaryfebruarymarchaprilmayjunejulyaugustseptemberoctobernovemberdecemberjanuaryfebruarymarchjanuaryfebruarymarchaprilmayjunejulyaugustseptemberoctobernovemberdecemberjanuaryfebruarymarchaprilmayjunejulyaugustseptemberoctobernovemberdecemberjanuaryfebruarymarchaprilmayjunejulyaugustseptemberoctobernovemberdecemberjanuaryfebruarymarchapriljanuaryfebruarymarchaprilmayjunejulyaugustseptemberoctobernovemberdecemberjanuaryfebruarymarchaprilmayjunejulyaugustseptemberoctobernovemberdecemberjanuaryfebruarymarchaprilmayjunejulyaugustseptemberoctobernovemberdecemberjanuaryfebruarymarchapriljanuaryfebruarymarchaprilmayjunejulyaugustseptemberoctobernovemberdecemberjanuaryfebruarymarchaprilmayjunejulyaugustseptemberoctobernovemberdecemberjanuaryfebruarymarchaprilmayjunejulyaugustseptemberoctobernovemberdecemberjanuaryfebruarymarchapriljanuaryfebruarymarchaprilmayjunejulyaugustseptemberoctobernovemberdecemberjanuaryfebruarymarchaprilmayjunejulyaugustseptemberoctobernovemberdecemberjanuaryfebruarymarchaprilmayjunejulyaugustseptemberoctobernovemberdecemberjanuaryfebruarymarchapriljanuaryfebruarymarchaprilmayjunejulyaugustseptemberoctobernovemberdecemberjanuaryfebruarymarchaprilmayjunejulyaugustseptemberoctobernovemberdecemberjanuaryfebruarymarchaprilmayjunejulyaugustseptemberoctobernovemberdecemberjanuaryfebruarymarchapriljanuaryfebruarymarchaprilmayjunejulyaugustseptemberoctobernovemberdecemberjanuaryfebruarymarchaprilmayjunejulyaugustseptemberoctobernovemberdecemberjanuaryfebruarymarchaprilmayjunejulyaugustseptemberoctobernovemberdecemberjanuaryfebruarymarchapriljanuaryfebruarymarchaprilmayjunejulyaugustseptemberoctobernovemberdecemberjanuaryfebruarymarchaprilmayjunejulyaugustseptemberoctobernovemberdecemberjanuaryfebruarymarchaprilmayjunejulyaugustseptemberoctobernovemberdecemberjanuaryfebruarymarchapriljanuaryfebruarymarchaprilmayjunejulyaugustseptemberoctobernovemberdecemberjanuaryfebruarymarchaprilmayjunejulyaugustseptemberoctobernovemberdecemberjanuaryfebruarymarchaprilmayjunejulyaugustseptemberoctobernovemberdecemberjanuaryfebruarymarchapriljanuaryfebruarymarchaprilmayjunejulyaugustseptemberoctobernovemberdecemberjanuaryfebruarymarchaprilmayjunejulyaugustseptemberoctobernovemberdecemberjanuaryfebruarymarchaprilmayjunejulyaugustseptemberoctobernovemberdecemberjanuaryfebruarymarchapriljanuaryfebruarymarchaprilmayjunejulyaugustseptemberoctobernovemberdecemberjanuaryfebruarymarchaprilmayjunejulyaugustseptemberoctobernovemberdecemberjanuaryfebruarymarchaprilmayjunejulyaugustseptemberoctobernovemberdecemberjanuaryfebruarymarchapriljanuaryfebruarymarchaprilmayjunejulyaugustseptemberoctobernovemberdecemberjanuaryfebruarymarchaprilmayjunejulyaugustseptemberoctobernovemberdecemberjanuaryfebruarymarchaprilmayjunejulyaugustseptemberoctobernovemberdecemberjanuaryfebruarymarchapriljanuaryfebruarymarchaprilmayjunejulyaugustseptemberoctobernovemberdecemberjanuaryfebruarymarchaprilmayjunejulyaugustseptemberoctobernovemberdecemberjanuaryfebruarymarchaprilmayjunejulyaugustseptemberoctobernovemberdecemberjanuaryfebruarymarchapriljanuaryfebruarymarchaprilmayjunejulyaugustseptemberoctobernovemberdecemberjanuaryfebruarymarchaprilmayjunejulyaugustseptemberoctobernovemberdecemberjanuaryfebruarymarchaprilmayjunejulyaugustseptemberoctobernovemberdecemberjanuaryfebruarymarchapriljanuaryfebruarymarchaprilmayjunejulyaugustseptemberoctobernovemberdecemberjanuaryfebruarymarchaprilmayjunejulyaugustseptemberoctobernovemberdecemberjanuaryfebruarymarchaprilmayjunejulyaugustseptemberoctobernovemberdecemberjanuaryfebruarymarchapriljanuaryfebruarymarchaprilmayjunejulyaugustseptemberoctobernovemberdecemberjanuaryfebruarymarchaprilmayjunejulyaugustseptemberoctobernovemberdecemberjanuaryfebruarymarchaprilmayjunejulyaugustseptemberoctobernovemberdecemberjanuaryfebruarymarchjanuaryfebruarymarchaprilmayjunejulyaugustseptemberoctobernovemberdecemberjanuaryfebruarymarchaprilmayjunejulyaugustseptemberoctobernovemberdecemberjanuaryfebruarymarchapriljanuaryfebruarymarchaprilmayjunejulyaugustseptemberoctobernovemberdecemberjanuaryfebruarymarchaprilmayjunejulyaugustseptemberoctobernovemberdecemberjanuaryfebruarymarchaprilmayjunejulyaugustseptemberoctobernovemberdecemberjanuaryfebruarymarchjanuaryfebruarymarchaprilmayjunejulyaugustseptemberoctobernovemberdecemberjanuaryfebruarymarchaprilmayjunejulyaugustseptemberoctobernovemberdecemberjanuaryfebruarymarchaprilmayjunejulyaugustseptemberoctobernovemberdecemberjanuaryfebruarymarchapriljanuaryfebruarymarchaprilmayjunejulyaugustseptemberoctobernovemberdecemberjanuaryfebruarymarchaprilmayjunejulyaugustseptemberoctobernovemberdecemberjanuaryfebruarymarchaprilmayjunejulyaugustseptemberoctobernovemberdecemberjanuaryfebruarymarchapriljanuaryfebruarymarchaprilmayjunejulyaugustseptemberoctobernovemberdecemberjanuaryfebruarymarchaprilmayjunejulyaugustseptemberoctobernovemberdecemberjanuaryfebruarymarchaprilmayjunejulyaugustseptemberoctobernovemberdecemberjanuaryfebruarymarchapriljanuaryfebruarymarchaprilmayjunejulyaugustseptemberoctobernovemberdecemberjanuaryfebruarymarchaprilmayjunejulyaugustseptemberoctobernovemberdecemberjanuaryfebruarymarchaprilmayjunejulyaugustseptemberoctobernovemberdecemberjanuaryfebruarymarchjanuaryfebruarymarchaprilmayjunejulyaugustseptemberoctobernovemberdecemberjanuaryfebruarymarchapriljulyaugustseptemberoctobernovemberdecemberfebruarymarchaprilmayjunejulyaugustseptemberoctobernovemberdecemberjanuaryfebruarymarchjanuaryfebruarymarchaprilmayjunejulyaugustseptemberoctobernovemberdecemberjanuaryfebruarymarchaprilmayjunejulyaugustseptemberoctobernovemberdecemberjanuaryfebruarymarchaprilmayjunejulyaugustseptemberoctobernovemberdecemberjanuaryfebruarymarchapriljanuaryfebruarymarchaprilmayjunejulyaugustseptemberoctobernovemberdecemberjanuaryfebruarymarchaprilmayjunejulyaugustseptemberoctobernovemberdecemberjanuaryfebruarymarchaprilmayjunejulyaugustseptemberoctobernovemberdecemberjanuaryfebruarymarchapriloctoberapriljunejulyjulymayaprilapriljulydecembermarchmayoctoberseptemberaugustseptemberjunedecembermayoctoberjunemayseptemberjulyaugustnovemberseptemberoctoberfebruaryoctoberjunemayaugustseptemberoctobernovemberaugustjulyseptemberoctobernovemberoctoberseptemberjulyaugustoctoberjunenovemberoctoberseptemberaugustaugustseptemberoctoberjulyjulynovemberaugustoctobermaynovemberseptemberoctoberfebruaryaprilseptemberoctobernovembernovembernovemberoctoberseptemberaugustjulynovembernovembernovemberjunejunejuneaugustseptemberoctobernovemberjunejulyseptembernovemberaugustjuneaugustseptemberoctobernovemberdecemberaugustseptembernovembernovemberjuneoctoberjuneaugustseptemberoctobernovemberseptemberaugustjulyoctobernovembermayjuneaugustseptembernovembernovembermayjulyjuneseptemberaugustoctoberjuneaugustnovemberjulymayjunejulynovemberoctobernovemberoctoberseptemberaugustjulynovemberoctoberseptemberaugustjulyseptemberaugustjulymayjulyaugustseptemberseptembernovemberoctoberjunenovemberoctoberaugustoctoberoctoberoctoberaprilaprilseptemberoctobermaynovemberoctoberoctobernovemberseptemberoctoberoctobernovembernovemberoctobermaymaynovembernovemberoctoberseptemberaugustjulyjunejulynovemberoctoberjanuaryaugustjulynovemberaugustmayjunejulyaugustseptemberaugustseptembernovemberoctoberaugustnovembermarchmayjulyaugustseptemberoctobernovemberseptemberoctobernovemberoctoberseptemberaugustjulyaugustseptemberoctobernovembernovemberoctoberseptemberaugustjulyjunejunejulyaugustnovemberseptemberjulyaugustseptembernovembernovemberoctoberaugustseptemberapriloctoberjuneaprilaugustmayjunemarchfebruarymaydecemberfebruarymarchmayjuneseptemberjanuarydecembernovemberoctoberjulyoctoberseptemberaugustjulyjunemayaprilmarchfebruaryjanuarydecembernovemberoctoberseptemberaugustoctoberseptemberaugustjulyjunemayaprilmarchmayjulyjuneaugustseptembernovemberjulyaugustseptemberoctobernovemberaugustjuneseptemberjulyoctoberoctoberaugustjulyjunemaynovemberoctoberseptemberjunejulyseptemberfebruaryoctobernovemberaprilaugustjulyoctoberseptembernovemberseptemberaugustjulymarchjanuarynovemberoctoberseptemberaugustdecemberjanuaryfebruaryapriloctoberseptemberaugustjulyjunejulyjanuaryfebruaryjulyjulyjunemayaprilmarchfebruaryjanuarydecembernovemberoctoberoctoberseptemberjulyjunejuneapriljulyseptemberfebruarydecemberjunejunejulyjanuaryfebruarymarchnovemberjanuaryoctoberseptemberdecembernovemberaugustaprilnovembermayaugustjulyaugustseptemberoctobernovemberapriljulyjuneoctoberaugustaugustnovemberoctoberseptemberjulynovemberseptemberjunejulyaugustaugustaprilmayjanuaryoctoberapriljulyjuneoctoberaugustaugustseptemberoctobernovemberjulyaugustseptemberjulyaugustdecemberaugustnovemberoctoberseptemberjulymayjanuarymayaugustjanuaryoctoberseptembernovembermarchjanuaryaugustseptemberoctobernovemberdecemberjanuaryseptemberaugustoctoberjulyaprildecembernovemberfebruaryjunefebruarynovemberdecembermarchapriljulyoctober'"
            ]
          },
          "metadata": {},
          "execution_count": 59
        }
      ]
    },
    {
      "cell_type": "code",
      "metadata": {
        "colab": {
          "base_uri": "https://localhost:8080/"
        },
        "id": "Dsg18ClTUNHA",
        "outputId": "6360303a-0e37-483e-a5d7-170feec6867e"
      },
      "source": [
        "df.unit_consumed.describe()"
      ],
      "execution_count": null,
      "outputs": [
        {
          "output_type": "execute_result",
          "data": {
            "text/plain": [
              "count     2747\n",
              "unique     869\n",
              "top        280\n",
              "freq        44\n",
              "Name: unit_consumed, dtype: object"
            ]
          },
          "metadata": {},
          "execution_count": 60
        }
      ]
    },
    {
      "cell_type": "code",
      "metadata": {
        "colab": {
          "base_uri": "https://localhost:8080/",
          "height": 423
        },
        "id": "HNKsmtXeBhIH",
        "outputId": "6d93db7e-82e5-4604-ecd6-a5648ebab84f"
      },
      "source": [
        "df[df.isnull().any(axis=1)]"
      ],
      "execution_count": null,
      "outputs": [
        {
          "output_type": "execute_result",
          "data": {
            "text/html": [
              "\n",
              "  <div id=\"df-b80cd3c7-6cb9-473c-ab31-12e9d86a2532\">\n",
              "    <div class=\"colab-df-container\">\n",
              "      <div>\n",
              "<style scoped>\n",
              "    .dataframe tbody tr th:only-of-type {\n",
              "        vertical-align: middle;\n",
              "    }\n",
              "\n",
              "    .dataframe tbody tr th {\n",
              "        vertical-align: top;\n",
              "    }\n",
              "\n",
              "    .dataframe thead th {\n",
              "        text-align: right;\n",
              "    }\n",
              "</style>\n",
              "<table border=\"1\" class=\"dataframe\">\n",
              "  <thead>\n",
              "    <tr style=\"text-align: right;\">\n",
              "      <th></th>\n",
              "      <th>month</th>\n",
              "      <th>year</th>\n",
              "      <th>unit_consumed</th>\n",
              "      <th>amount</th>\n",
              "      <th>area</th>\n",
              "      <th>season</th>\n",
              "      <th>load</th>\n",
              "    </tr>\n",
              "  </thead>\n",
              "  <tbody>\n",
              "    <tr>\n",
              "      <th>319</th>\n",
              "      <td>january</td>\n",
              "      <td>2018</td>\n",
              "      <td>241</td>\n",
              "      <td>1997</td>\n",
              "      <td>surjani</td>\n",
              "      <td>winter</td>\n",
              "      <td>NaN</td>\n",
              "    </tr>\n",
              "    <tr>\n",
              "      <th>320</th>\n",
              "      <td>february</td>\n",
              "      <td>2018</td>\n",
              "      <td>203</td>\n",
              "      <td>2457</td>\n",
              "      <td>surjani</td>\n",
              "      <td>winter</td>\n",
              "      <td>NaN</td>\n",
              "    </tr>\n",
              "    <tr>\n",
              "      <th>321</th>\n",
              "      <td>march</td>\n",
              "      <td>2018</td>\n",
              "      <td>283</td>\n",
              "      <td>2990</td>\n",
              "      <td>surjani</td>\n",
              "      <td>summer</td>\n",
              "      <td>NaN</td>\n",
              "    </tr>\n",
              "    <tr>\n",
              "      <th>322</th>\n",
              "      <td>april</td>\n",
              "      <td>2018</td>\n",
              "      <td>385</td>\n",
              "      <td>8012</td>\n",
              "      <td>surjani</td>\n",
              "      <td>summer</td>\n",
              "      <td>NaN</td>\n",
              "    </tr>\n",
              "    <tr>\n",
              "      <th>323</th>\n",
              "      <td>may</td>\n",
              "      <td>2018</td>\n",
              "      <td>498</td>\n",
              "      <td>11046</td>\n",
              "      <td>surjani</td>\n",
              "      <td>summer</td>\n",
              "      <td>NaN</td>\n",
              "    </tr>\n",
              "    <tr>\n",
              "      <th>...</th>\n",
              "      <td>...</td>\n",
              "      <td>...</td>\n",
              "      <td>...</td>\n",
              "      <td>...</td>\n",
              "      <td>...</td>\n",
              "      <td>...</td>\n",
              "      <td>...</td>\n",
              "    </tr>\n",
              "    <tr>\n",
              "      <th>2454</th>\n",
              "      <td>october</td>\n",
              "      <td>2021</td>\n",
              "      <td>225</td>\n",
              "      <td>3122</td>\n",
              "      <td>NaN</td>\n",
              "      <td>winter</td>\n",
              "      <td>NaN</td>\n",
              "    </tr>\n",
              "    <tr>\n",
              "      <th>2455</th>\n",
              "      <td>may</td>\n",
              "      <td>2021</td>\n",
              "      <td>1309</td>\n",
              "      <td>34858</td>\n",
              "      <td>gulistan_e_johar</td>\n",
              "      <td>summer</td>\n",
              "      <td>NaN</td>\n",
              "    </tr>\n",
              "    <tr>\n",
              "      <th>2458</th>\n",
              "      <td>october</td>\n",
              "      <td>2021</td>\n",
              "      <td>109</td>\n",
              "      <td>1237</td>\n",
              "      <td>gulshan_e_iqbal</td>\n",
              "      <td>winter</td>\n",
              "      <td>NaN</td>\n",
              "    </tr>\n",
              "    <tr>\n",
              "      <th>2459</th>\n",
              "      <td>november</td>\n",
              "      <td>2021</td>\n",
              "      <td>349</td>\n",
              "      <td>6425</td>\n",
              "      <td>NaN</td>\n",
              "      <td>winter</td>\n",
              "      <td>2</td>\n",
              "    </tr>\n",
              "    <tr>\n",
              "      <th>2460</th>\n",
              "      <td>september</td>\n",
              "      <td>2021</td>\n",
              "      <td>702</td>\n",
              "      <td>17659</td>\n",
              "      <td>NaN</td>\n",
              "      <td>summer</td>\n",
              "      <td>2</td>\n",
              "    </tr>\n",
              "  </tbody>\n",
              "</table>\n",
              "<p>672 rows × 7 columns</p>\n",
              "</div>\n",
              "      <button class=\"colab-df-convert\" onclick=\"convertToInteractive('df-b80cd3c7-6cb9-473c-ab31-12e9d86a2532')\"\n",
              "              title=\"Convert this dataframe to an interactive table.\"\n",
              "              style=\"display:none;\">\n",
              "        \n",
              "  <svg xmlns=\"http://www.w3.org/2000/svg\" height=\"24px\"viewBox=\"0 0 24 24\"\n",
              "       width=\"24px\">\n",
              "    <path d=\"M0 0h24v24H0V0z\" fill=\"none\"/>\n",
              "    <path d=\"M18.56 5.44l.94 2.06.94-2.06 2.06-.94-2.06-.94-.94-2.06-.94 2.06-2.06.94zm-11 1L8.5 8.5l.94-2.06 2.06-.94-2.06-.94L8.5 2.5l-.94 2.06-2.06.94zm10 10l.94 2.06.94-2.06 2.06-.94-2.06-.94-.94-2.06-.94 2.06-2.06.94z\"/><path d=\"M17.41 7.96l-1.37-1.37c-.4-.4-.92-.59-1.43-.59-.52 0-1.04.2-1.43.59L10.3 9.45l-7.72 7.72c-.78.78-.78 2.05 0 2.83L4 21.41c.39.39.9.59 1.41.59.51 0 1.02-.2 1.41-.59l7.78-7.78 2.81-2.81c.8-.78.8-2.07 0-2.86zM5.41 20L4 18.59l7.72-7.72 1.47 1.35L5.41 20z\"/>\n",
              "  </svg>\n",
              "      </button>\n",
              "      \n",
              "  <style>\n",
              "    .colab-df-container {\n",
              "      display:flex;\n",
              "      flex-wrap:wrap;\n",
              "      gap: 12px;\n",
              "    }\n",
              "\n",
              "    .colab-df-convert {\n",
              "      background-color: #E8F0FE;\n",
              "      border: none;\n",
              "      border-radius: 50%;\n",
              "      cursor: pointer;\n",
              "      display: none;\n",
              "      fill: #1967D2;\n",
              "      height: 32px;\n",
              "      padding: 0 0 0 0;\n",
              "      width: 32px;\n",
              "    }\n",
              "\n",
              "    .colab-df-convert:hover {\n",
              "      background-color: #E2EBFA;\n",
              "      box-shadow: 0px 1px 2px rgba(60, 64, 67, 0.3), 0px 1px 3px 1px rgba(60, 64, 67, 0.15);\n",
              "      fill: #174EA6;\n",
              "    }\n",
              "\n",
              "    [theme=dark] .colab-df-convert {\n",
              "      background-color: #3B4455;\n",
              "      fill: #D2E3FC;\n",
              "    }\n",
              "\n",
              "    [theme=dark] .colab-df-convert:hover {\n",
              "      background-color: #434B5C;\n",
              "      box-shadow: 0px 1px 3px 1px rgba(0, 0, 0, 0.15);\n",
              "      filter: drop-shadow(0px 1px 2px rgba(0, 0, 0, 0.3));\n",
              "      fill: #FFFFFF;\n",
              "    }\n",
              "  </style>\n",
              "\n",
              "      <script>\n",
              "        const buttonEl =\n",
              "          document.querySelector('#df-b80cd3c7-6cb9-473c-ab31-12e9d86a2532 button.colab-df-convert');\n",
              "        buttonEl.style.display =\n",
              "          google.colab.kernel.accessAllowed ? 'block' : 'none';\n",
              "\n",
              "        async function convertToInteractive(key) {\n",
              "          const element = document.querySelector('#df-b80cd3c7-6cb9-473c-ab31-12e9d86a2532');\n",
              "          const dataTable =\n",
              "            await google.colab.kernel.invokeFunction('convertToInteractive',\n",
              "                                                     [key], {});\n",
              "          if (!dataTable) return;\n",
              "\n",
              "          const docLinkHtml = 'Like what you see? Visit the ' +\n",
              "            '<a target=\"_blank\" href=https://colab.research.google.com/notebooks/data_table.ipynb>data table notebook</a>'\n",
              "            + ' to learn more about interactive tables.';\n",
              "          element.innerHTML = '';\n",
              "          dataTable['output_type'] = 'display_data';\n",
              "          await google.colab.output.renderOutput(dataTable, element);\n",
              "          const docLink = document.createElement('div');\n",
              "          docLink.innerHTML = docLinkHtml;\n",
              "          element.appendChild(docLink);\n",
              "        }\n",
              "      </script>\n",
              "    </div>\n",
              "  </div>\n",
              "  "
            ],
            "text/plain": [
              "          month  year unit_consumed amount              area  season load\n",
              "319     january  2018           241   1997           surjani  winter  NaN\n",
              "320    february  2018           203   2457           surjani  winter  NaN\n",
              "321       march  2018           283   2990           surjani  summer  NaN\n",
              "322       april  2018           385   8012           surjani  summer  NaN\n",
              "323         may  2018           498  11046           surjani  summer  NaN\n",
              "...         ...   ...           ...    ...               ...     ...  ...\n",
              "2454    october  2021           225   3122               NaN  winter  NaN\n",
              "2455        may  2021          1309  34858  gulistan_e_johar  summer  NaN\n",
              "2458    october  2021           109   1237   gulshan_e_iqbal  winter  NaN\n",
              "2459   november  2021           349   6425               NaN  winter    2\n",
              "2460  september  2021           702  17659               NaN  summer    2\n",
              "\n",
              "[672 rows x 7 columns]"
            ]
          },
          "metadata": {},
          "execution_count": 61
        }
      ]
    },
    {
      "cell_type": "markdown",
      "metadata": {
        "id": "YVqwj-TYERHB"
      },
      "source": [
        "Total number of null values in dataframe"
      ]
    },
    {
      "cell_type": "code",
      "metadata": {
        "colab": {
          "base_uri": "https://localhost:8080/"
        },
        "id": "JW-aA7cKCOlj",
        "outputId": "2b787a36-f05f-4658-be3e-cf6bb49eae02"
      },
      "source": [
        "df.isnull().sum().sum()"
      ],
      "execution_count": null,
      "outputs": [
        {
          "output_type": "execute_result",
          "data": {
            "text/plain": [
              "674"
            ]
          },
          "metadata": {},
          "execution_count": 62
        }
      ]
    },
    {
      "cell_type": "code",
      "metadata": {
        "colab": {
          "base_uri": "https://localhost:8080/"
        },
        "id": "0ABdsmgCD64P",
        "outputId": "329dd823-3ca1-4781-8535-81631eff0fcf"
      },
      "source": [
        "df.isnull().sum()"
      ],
      "execution_count": null,
      "outputs": [
        {
          "output_type": "execute_result",
          "data": {
            "text/plain": [
              "month              0\n",
              "year               0\n",
              "unit_consumed      0\n",
              "amount             0\n",
              "area               5\n",
              "season             0\n",
              "load             669\n",
              "dtype: int64"
            ]
          },
          "metadata": {},
          "execution_count": 63
        }
      ]
    },
    {
      "cell_type": "code",
      "metadata": {
        "colab": {
          "base_uri": "https://localhost:8080/"
        },
        "id": "93HAu6UOEXCj",
        "outputId": "5dd59769-12c9-434c-d664-c76e51796de9"
      },
      "source": [
        "df.season.isnull().sum()"
      ],
      "execution_count": null,
      "outputs": [
        {
          "output_type": "execute_result",
          "data": {
            "text/plain": [
              "0"
            ]
          },
          "metadata": {},
          "execution_count": 64
        }
      ]
    },
    {
      "cell_type": "code",
      "metadata": {
        "colab": {
          "base_uri": "https://localhost:8080/"
        },
        "id": "Eck2gk1HE29w",
        "outputId": "26eca4a7-dcba-48b5-f508-d3f09216b5a0"
      },
      "source": [
        "df.loc[df.month=='march'].count()"
      ],
      "execution_count": null,
      "outputs": [
        {
          "output_type": "execute_result",
          "data": {
            "text/plain": [
              "month            238\n",
              "year             238\n",
              "unit_consumed    238\n",
              "amount           238\n",
              "area             238\n",
              "season           238\n",
              "load             171\n",
              "dtype: int64"
            ]
          },
          "metadata": {},
          "execution_count": 65
        }
      ]
    },
    {
      "cell_type": "code",
      "metadata": {
        "colab": {
          "base_uri": "https://localhost:8080/"
        },
        "id": "XlIqKDnLAjie",
        "outputId": "c9af2ba1-d591-43e0-8e3b-d2cea9a0bf0c"
      },
      "source": [
        "df['unit_consumed'].apply(type).value_counts()"
      ],
      "execution_count": null,
      "outputs": [
        {
          "output_type": "execute_result",
          "data": {
            "text/plain": [
              "<class 'str'>    2747\n",
              "Name: unit_consumed, dtype: int64"
            ]
          },
          "metadata": {},
          "execution_count": 66
        }
      ]
    },
    {
      "cell_type": "code",
      "metadata": {
        "id": "R3_wHgji07bW"
      },
      "source": [
        "df['unit_consumed']=df['unit_consumed'].str.replace('Units','').str.replace('units','').str.replace('Unints','')\n"
      ],
      "execution_count": null,
      "outputs": []
    },
    {
      "cell_type": "code",
      "metadata": {
        "colab": {
          "base_uri": "https://localhost:8080/"
        },
        "id": "N7snjOmS07XQ",
        "outputId": "48a0eaff-0ce9-4e65-d6bc-8c085c3a9bee"
      },
      "source": [
        "df.loc[1216]"
      ],
      "execution_count": null,
      "outputs": [
        {
          "output_type": "execute_result",
          "data": {
            "text/plain": [
              "month             october\n",
              "year                 2019\n",
              "unit_consumed       156 y\n",
              "amount           3,885.00\n",
              "area                 A1-R\n",
              "season             winter\n",
              "load                    3\n",
              "Name: 1216, dtype: object"
            ]
          },
          "metadata": {},
          "execution_count": 68
        }
      ]
    },
    {
      "cell_type": "code",
      "metadata": {
        "colab": {
          "base_uri": "https://localhost:8080/",
          "height": 443
        },
        "id": "3nUUsFsg07Qr",
        "outputId": "bd25c668-af9f-4513-9e05-3f40da01add2"
      },
      "source": [
        "df['unit_consumed']=pd.to_numeric(df['unit_consumed'])"
      ],
      "execution_count": null,
      "outputs": [
        {
          "output_type": "error",
          "ename": "ValueError",
          "evalue": "ignored",
          "traceback": [
            "\u001b[0;31m---------------------------------------------------------------------------\u001b[0m",
            "\u001b[0;31mValueError\u001b[0m                                Traceback (most recent call last)",
            "\u001b[0;32mpandas/_libs/lib.pyx\u001b[0m in \u001b[0;36mpandas._libs.lib.maybe_convert_numeric\u001b[0;34m()\u001b[0m\n",
            "\u001b[0;31mValueError\u001b[0m: Unable to parse string \"156 y\"",
            "\nDuring handling of the above exception, another exception occurred:\n",
            "\u001b[0;31mValueError\u001b[0m                                Traceback (most recent call last)",
            "\u001b[0;32m<ipython-input-69-c463b02ebf6b>\u001b[0m in \u001b[0;36m<module>\u001b[0;34m()\u001b[0m\n\u001b[0;32m----> 1\u001b[0;31m \u001b[0mdf\u001b[0m\u001b[0;34m[\u001b[0m\u001b[0;34m'unit_consumed'\u001b[0m\u001b[0;34m]\u001b[0m\u001b[0;34m=\u001b[0m\u001b[0mpd\u001b[0m\u001b[0;34m.\u001b[0m\u001b[0mto_numeric\u001b[0m\u001b[0;34m(\u001b[0m\u001b[0mdf\u001b[0m\u001b[0;34m[\u001b[0m\u001b[0;34m'unit_consumed'\u001b[0m\u001b[0;34m]\u001b[0m\u001b[0;34m)\u001b[0m\u001b[0;34m\u001b[0m\u001b[0;34m\u001b[0m\u001b[0m\n\u001b[0m",
            "\u001b[0;32m/usr/local/lib/python3.7/dist-packages/pandas/core/tools/numeric.py\u001b[0m in \u001b[0;36mto_numeric\u001b[0;34m(arg, errors, downcast)\u001b[0m\n\u001b[1;32m    151\u001b[0m         \u001b[0;32mtry\u001b[0m\u001b[0;34m:\u001b[0m\u001b[0;34m\u001b[0m\u001b[0;34m\u001b[0m\u001b[0m\n\u001b[1;32m    152\u001b[0m             values = lib.maybe_convert_numeric(\n\u001b[0;32m--> 153\u001b[0;31m                 \u001b[0mvalues\u001b[0m\u001b[0;34m,\u001b[0m \u001b[0mset\u001b[0m\u001b[0;34m(\u001b[0m\u001b[0;34m)\u001b[0m\u001b[0;34m,\u001b[0m \u001b[0mcoerce_numeric\u001b[0m\u001b[0;34m=\u001b[0m\u001b[0mcoerce_numeric\u001b[0m\u001b[0;34m\u001b[0m\u001b[0;34m\u001b[0m\u001b[0m\n\u001b[0m\u001b[1;32m    154\u001b[0m             )\n\u001b[1;32m    155\u001b[0m         \u001b[0;32mexcept\u001b[0m \u001b[0;34m(\u001b[0m\u001b[0mValueError\u001b[0m\u001b[0;34m,\u001b[0m \u001b[0mTypeError\u001b[0m\u001b[0;34m)\u001b[0m\u001b[0;34m:\u001b[0m\u001b[0;34m\u001b[0m\u001b[0;34m\u001b[0m\u001b[0m\n",
            "\u001b[0;32mpandas/_libs/lib.pyx\u001b[0m in \u001b[0;36mpandas._libs.lib.maybe_convert_numeric\u001b[0;34m()\u001b[0m\n",
            "\u001b[0;31mValueError\u001b[0m: Unable to parse string \"156 y\" at position 1216"
          ]
        }
      ]
    },
    {
      "cell_type": "code",
      "metadata": {
        "id": "HfaSV0L807E_"
      },
      "source": [
        "df['unit_consumed']=df['unit_consumed'].str.replace('y','').str.replace('unite','').str.replace('unit','').str.replace('s','')\n"
      ],
      "execution_count": null,
      "outputs": []
    },
    {
      "cell_type": "code",
      "metadata": {
        "id": "FhekaePfDL5Y"
      },
      "source": [
        "df['unit_consumed']=pd.to_numeric(df['unit_consumed'])"
      ],
      "execution_count": null,
      "outputs": []
    },
    {
      "cell_type": "code",
      "metadata": {
        "colab": {
          "base_uri": "https://localhost:8080/"
        },
        "id": "j0kxwkPWDL3C",
        "outputId": "b64311a5-1559-4588-b15a-51125e750143"
      },
      "source": [
        "df.unit_consumed.apply(type)"
      ],
      "execution_count": null,
      "outputs": [
        {
          "output_type": "execute_result",
          "data": {
            "text/plain": [
              "0       <class 'float'>\n",
              "1       <class 'float'>\n",
              "2       <class 'float'>\n",
              "3       <class 'float'>\n",
              "4       <class 'float'>\n",
              "             ...       \n",
              "2742    <class 'float'>\n",
              "2743    <class 'float'>\n",
              "2744    <class 'float'>\n",
              "2745    <class 'float'>\n",
              "2746    <class 'float'>\n",
              "Name: unit_consumed, Length: 2747, dtype: object"
            ]
          },
          "metadata": {},
          "execution_count": 72
        }
      ]
    },
    {
      "cell_type": "code",
      "metadata": {
        "id": "4eTRKYQdDL1F"
      },
      "source": [
        "df['unit_consumed']=df['unit_consumed'].astype(int)"
      ],
      "execution_count": null,
      "outputs": []
    },
    {
      "cell_type": "code",
      "metadata": {
        "colab": {
          "base_uri": "https://localhost:8080/"
        },
        "id": "3GnoohCfLkTH",
        "outputId": "e6de9dd5-d70f-4faa-bee2-e7d3263e54e2"
      },
      "source": [
        "df['unit_consumed'].apply(type)"
      ],
      "execution_count": null,
      "outputs": [
        {
          "output_type": "execute_result",
          "data": {
            "text/plain": [
              "0       <class 'int'>\n",
              "1       <class 'int'>\n",
              "2       <class 'int'>\n",
              "3       <class 'int'>\n",
              "4       <class 'int'>\n",
              "            ...      \n",
              "2742    <class 'int'>\n",
              "2743    <class 'int'>\n",
              "2744    <class 'int'>\n",
              "2745    <class 'int'>\n",
              "2746    <class 'int'>\n",
              "Name: unit_consumed, Length: 2747, dtype: object"
            ]
          },
          "metadata": {},
          "execution_count": 74
        }
      ]
    },
    {
      "cell_type": "code",
      "metadata": {
        "colab": {
          "base_uri": "https://localhost:8080/"
        },
        "id": "B4yxfwG3DLt8",
        "outputId": "4d52924e-9387-415b-8a62-f6c1637e3f62"
      },
      "source": [
        "df['unit_consumed'].isnull().sum()"
      ],
      "execution_count": null,
      "outputs": [
        {
          "output_type": "execute_result",
          "data": {
            "text/plain": [
              "0"
            ]
          },
          "metadata": {},
          "execution_count": 75
        }
      ]
    },
    {
      "cell_type": "code",
      "metadata": {
        "colab": {
          "base_uri": "https://localhost:8080/",
          "height": 300
        },
        "id": "5JpHsFUhOZuo",
        "outputId": "a21f2fa5-f229-4c41-adfc-b46a2e599a90"
      },
      "source": [
        "df.describe()"
      ],
      "execution_count": null,
      "outputs": [
        {
          "output_type": "execute_result",
          "data": {
            "text/html": [
              "\n",
              "  <div id=\"df-4a0b08a5-2583-4064-b3db-c159a5766d05\">\n",
              "    <div class=\"colab-df-container\">\n",
              "      <div>\n",
              "<style scoped>\n",
              "    .dataframe tbody tr th:only-of-type {\n",
              "        vertical-align: middle;\n",
              "    }\n",
              "\n",
              "    .dataframe tbody tr th {\n",
              "        vertical-align: top;\n",
              "    }\n",
              "\n",
              "    .dataframe thead th {\n",
              "        text-align: right;\n",
              "    }\n",
              "</style>\n",
              "<table border=\"1\" class=\"dataframe\">\n",
              "  <thead>\n",
              "    <tr style=\"text-align: right;\">\n",
              "      <th></th>\n",
              "      <th>year</th>\n",
              "      <th>unit_consumed</th>\n",
              "    </tr>\n",
              "  </thead>\n",
              "  <tbody>\n",
              "    <tr>\n",
              "      <th>count</th>\n",
              "      <td>2747.000000</td>\n",
              "      <td>2747.000000</td>\n",
              "    </tr>\n",
              "    <tr>\n",
              "      <th>mean</th>\n",
              "      <td>2019.480888</td>\n",
              "      <td>336.566436</td>\n",
              "    </tr>\n",
              "    <tr>\n",
              "      <th>std</th>\n",
              "      <td>1.074729</td>\n",
              "      <td>333.954300</td>\n",
              "    </tr>\n",
              "    <tr>\n",
              "      <th>min</th>\n",
              "      <td>2018.000000</td>\n",
              "      <td>0.000000</td>\n",
              "    </tr>\n",
              "    <tr>\n",
              "      <th>25%</th>\n",
              "      <td>2019.000000</td>\n",
              "      <td>156.000000</td>\n",
              "    </tr>\n",
              "    <tr>\n",
              "      <th>50%</th>\n",
              "      <td>2020.000000</td>\n",
              "      <td>260.000000</td>\n",
              "    </tr>\n",
              "    <tr>\n",
              "      <th>75%</th>\n",
              "      <td>2020.000000</td>\n",
              "      <td>421.000000</td>\n",
              "    </tr>\n",
              "    <tr>\n",
              "      <th>max</th>\n",
              "      <td>2021.000000</td>\n",
              "      <td>7055.000000</td>\n",
              "    </tr>\n",
              "  </tbody>\n",
              "</table>\n",
              "</div>\n",
              "      <button class=\"colab-df-convert\" onclick=\"convertToInteractive('df-4a0b08a5-2583-4064-b3db-c159a5766d05')\"\n",
              "              title=\"Convert this dataframe to an interactive table.\"\n",
              "              style=\"display:none;\">\n",
              "        \n",
              "  <svg xmlns=\"http://www.w3.org/2000/svg\" height=\"24px\"viewBox=\"0 0 24 24\"\n",
              "       width=\"24px\">\n",
              "    <path d=\"M0 0h24v24H0V0z\" fill=\"none\"/>\n",
              "    <path d=\"M18.56 5.44l.94 2.06.94-2.06 2.06-.94-2.06-.94-.94-2.06-.94 2.06-2.06.94zm-11 1L8.5 8.5l.94-2.06 2.06-.94-2.06-.94L8.5 2.5l-.94 2.06-2.06.94zm10 10l.94 2.06.94-2.06 2.06-.94-2.06-.94-.94-2.06-.94 2.06-2.06.94z\"/><path d=\"M17.41 7.96l-1.37-1.37c-.4-.4-.92-.59-1.43-.59-.52 0-1.04.2-1.43.59L10.3 9.45l-7.72 7.72c-.78.78-.78 2.05 0 2.83L4 21.41c.39.39.9.59 1.41.59.51 0 1.02-.2 1.41-.59l7.78-7.78 2.81-2.81c.8-.78.8-2.07 0-2.86zM5.41 20L4 18.59l7.72-7.72 1.47 1.35L5.41 20z\"/>\n",
              "  </svg>\n",
              "      </button>\n",
              "      \n",
              "  <style>\n",
              "    .colab-df-container {\n",
              "      display:flex;\n",
              "      flex-wrap:wrap;\n",
              "      gap: 12px;\n",
              "    }\n",
              "\n",
              "    .colab-df-convert {\n",
              "      background-color: #E8F0FE;\n",
              "      border: none;\n",
              "      border-radius: 50%;\n",
              "      cursor: pointer;\n",
              "      display: none;\n",
              "      fill: #1967D2;\n",
              "      height: 32px;\n",
              "      padding: 0 0 0 0;\n",
              "      width: 32px;\n",
              "    }\n",
              "\n",
              "    .colab-df-convert:hover {\n",
              "      background-color: #E2EBFA;\n",
              "      box-shadow: 0px 1px 2px rgba(60, 64, 67, 0.3), 0px 1px 3px 1px rgba(60, 64, 67, 0.15);\n",
              "      fill: #174EA6;\n",
              "    }\n",
              "\n",
              "    [theme=dark] .colab-df-convert {\n",
              "      background-color: #3B4455;\n",
              "      fill: #D2E3FC;\n",
              "    }\n",
              "\n",
              "    [theme=dark] .colab-df-convert:hover {\n",
              "      background-color: #434B5C;\n",
              "      box-shadow: 0px 1px 3px 1px rgba(0, 0, 0, 0.15);\n",
              "      filter: drop-shadow(0px 1px 2px rgba(0, 0, 0, 0.3));\n",
              "      fill: #FFFFFF;\n",
              "    }\n",
              "  </style>\n",
              "\n",
              "      <script>\n",
              "        const buttonEl =\n",
              "          document.querySelector('#df-4a0b08a5-2583-4064-b3db-c159a5766d05 button.colab-df-convert');\n",
              "        buttonEl.style.display =\n",
              "          google.colab.kernel.accessAllowed ? 'block' : 'none';\n",
              "\n",
              "        async function convertToInteractive(key) {\n",
              "          const element = document.querySelector('#df-4a0b08a5-2583-4064-b3db-c159a5766d05');\n",
              "          const dataTable =\n",
              "            await google.colab.kernel.invokeFunction('convertToInteractive',\n",
              "                                                     [key], {});\n",
              "          if (!dataTable) return;\n",
              "\n",
              "          const docLinkHtml = 'Like what you see? Visit the ' +\n",
              "            '<a target=\"_blank\" href=https://colab.research.google.com/notebooks/data_table.ipynb>data table notebook</a>'\n",
              "            + ' to learn more about interactive tables.';\n",
              "          element.innerHTML = '';\n",
              "          dataTable['output_type'] = 'display_data';\n",
              "          await google.colab.output.renderOutput(dataTable, element);\n",
              "          const docLink = document.createElement('div');\n",
              "          docLink.innerHTML = docLinkHtml;\n",
              "          element.appendChild(docLink);\n",
              "        }\n",
              "      </script>\n",
              "    </div>\n",
              "  </div>\n",
              "  "
            ],
            "text/plain": [
              "              year  unit_consumed\n",
              "count  2747.000000    2747.000000\n",
              "mean   2019.480888     336.566436\n",
              "std       1.074729     333.954300\n",
              "min    2018.000000       0.000000\n",
              "25%    2019.000000     156.000000\n",
              "50%    2020.000000     260.000000\n",
              "75%    2020.000000     421.000000\n",
              "max    2021.000000    7055.000000"
            ]
          },
          "metadata": {},
          "execution_count": 76
        }
      ]
    },
    {
      "cell_type": "code",
      "metadata": {
        "colab": {
          "base_uri": "https://localhost:8080/"
        },
        "id": "Ul2ELfJEyz7y",
        "outputId": "30642e47-be30-43a2-aa79-76c87c15441b"
      },
      "source": [
        "df['load']"
      ],
      "execution_count": null,
      "outputs": [
        {
          "output_type": "execute_result",
          "data": {
            "text/plain": [
              "0       7\n",
              "1       7\n",
              "2       7\n",
              "3       7\n",
              "4       7\n",
              "       ..\n",
              "2742    2\n",
              "2743    2\n",
              "2744    2\n",
              "2745    2\n",
              "2746    2\n",
              "Name: load, Length: 2747, dtype: object"
            ]
          },
          "metadata": {},
          "execution_count": 77
        }
      ]
    },
    {
      "cell_type": "code",
      "metadata": {
        "id": "xaw769MLyz2A"
      },
      "source": [
        "df['load']=df['load'].str.replace('kw','').str.replace('Kw/h','').str.replace('$','')\n"
      ],
      "execution_count": null,
      "outputs": []
    },
    {
      "cell_type": "code",
      "metadata": {
        "colab": {
          "base_uri": "https://localhost:8080/"
        },
        "id": "C8OOAQ_rzMz4",
        "outputId": "133951dc-38d8-42d7-f135-04e33fc04985"
      },
      "source": [
        "df.loc[2290]"
      ],
      "execution_count": null,
      "outputs": [
        {
          "output_type": "execute_result",
          "data": {
            "text/plain": [
              "month                     march\n",
              "year                       2021\n",
              "unit_consumed               169\n",
              "amount                    2,118\n",
              "area             Federal B Area\n",
              "season                   summer\n",
              "load                          2\n",
              "Name: 2290, dtype: object"
            ]
          },
          "metadata": {},
          "execution_count": 79
        }
      ]
    },
    {
      "cell_type": "code",
      "metadata": {
        "id": "Ds8OoMU9zMx7"
      },
      "source": [
        "df['area']=df['area'].str.replace('A1-R','surjani')\n"
      ],
      "execution_count": null,
      "outputs": []
    },
    {
      "cell_type": "code",
      "metadata": {
        "colab": {
          "base_uri": "https://localhost:8080/"
        },
        "id": "0E9iBMV8zMrf",
        "outputId": "43364166-7cdc-4beb-e88e-b03df5c79982"
      },
      "source": [
        "df['area'].isnull().sum()"
      ],
      "execution_count": null,
      "outputs": [
        {
          "output_type": "execute_result",
          "data": {
            "text/plain": [
              "5"
            ]
          },
          "metadata": {},
          "execution_count": 81
        }
      ]
    },
    {
      "cell_type": "code",
      "metadata": {
        "id": "hUfWNfcw3qS7",
        "colab": {
          "base_uri": "https://localhost:8080/"
        },
        "outputId": "4c3f1ab8-2474-417a-cc42-5f06c3e91257"
      },
      "source": [
        "df['amount'].isnull()"
      ],
      "execution_count": null,
      "outputs": [
        {
          "output_type": "execute_result",
          "data": {
            "text/plain": [
              "0       False\n",
              "1       False\n",
              "2       False\n",
              "3       False\n",
              "4       False\n",
              "        ...  \n",
              "2742    False\n",
              "2743    False\n",
              "2744    False\n",
              "2745    False\n",
              "2746    False\n",
              "Name: amount, Length: 2747, dtype: bool"
            ]
          },
          "metadata": {},
          "execution_count": 82
        }
      ]
    },
    {
      "cell_type": "code",
      "metadata": {
        "id": "b_VDMrIK3qLn"
      },
      "source": [
        "df.rename(columns={'amount':'price'},inplace=True)"
      ],
      "execution_count": null,
      "outputs": []
    },
    {
      "cell_type": "code",
      "metadata": {
        "id": "SxK9d0HUTlKP"
      },
      "source": [],
      "execution_count": null,
      "outputs": []
    },
    {
      "cell_type": "code",
      "metadata": {
        "id": "4pCvDvZQ3qH7",
        "colab": {
          "base_uri": "https://localhost:8080/"
        },
        "outputId": "01d79164-45cd-4d2c-c67d-b7984b8fe929"
      },
      "source": [
        "\n",
        "df.columns"
      ],
      "execution_count": null,
      "outputs": [
        {
          "output_type": "execute_result",
          "data": {
            "text/plain": [
              "Index(['month', 'year', 'unit_consumed', 'price', 'area', 'season', 'load'], dtype='object')"
            ]
          },
          "metadata": {},
          "execution_count": 84
        }
      ]
    },
    {
      "cell_type": "code",
      "metadata": {
        "id": "JQ2InmThUw-l"
      },
      "source": [
        "df['price']=df['price'].str.replace('PKR','').str.replace('Rs.','').str.replace('$','').str.replace(',','')"
      ],
      "execution_count": null,
      "outputs": []
    },
    {
      "cell_type": "code",
      "metadata": {
        "colab": {
          "base_uri": "https://localhost:8080/",
          "height": 300
        },
        "id": "VYvGRK3aUw0O",
        "outputId": "2066ecbc-95fc-45cb-e596-0d3f0e414417"
      },
      "source": [
        "df.describe()"
      ],
      "execution_count": null,
      "outputs": [
        {
          "output_type": "execute_result",
          "data": {
            "text/html": [
              "\n",
              "  <div id=\"df-417d0855-533d-460b-86b2-1aa1b7f18234\">\n",
              "    <div class=\"colab-df-container\">\n",
              "      <div>\n",
              "<style scoped>\n",
              "    .dataframe tbody tr th:only-of-type {\n",
              "        vertical-align: middle;\n",
              "    }\n",
              "\n",
              "    .dataframe tbody tr th {\n",
              "        vertical-align: top;\n",
              "    }\n",
              "\n",
              "    .dataframe thead th {\n",
              "        text-align: right;\n",
              "    }\n",
              "</style>\n",
              "<table border=\"1\" class=\"dataframe\">\n",
              "  <thead>\n",
              "    <tr style=\"text-align: right;\">\n",
              "      <th></th>\n",
              "      <th>year</th>\n",
              "      <th>unit_consumed</th>\n",
              "    </tr>\n",
              "  </thead>\n",
              "  <tbody>\n",
              "    <tr>\n",
              "      <th>count</th>\n",
              "      <td>2747.000000</td>\n",
              "      <td>2747.000000</td>\n",
              "    </tr>\n",
              "    <tr>\n",
              "      <th>mean</th>\n",
              "      <td>2019.480888</td>\n",
              "      <td>336.566436</td>\n",
              "    </tr>\n",
              "    <tr>\n",
              "      <th>std</th>\n",
              "      <td>1.074729</td>\n",
              "      <td>333.954300</td>\n",
              "    </tr>\n",
              "    <tr>\n",
              "      <th>min</th>\n",
              "      <td>2018.000000</td>\n",
              "      <td>0.000000</td>\n",
              "    </tr>\n",
              "    <tr>\n",
              "      <th>25%</th>\n",
              "      <td>2019.000000</td>\n",
              "      <td>156.000000</td>\n",
              "    </tr>\n",
              "    <tr>\n",
              "      <th>50%</th>\n",
              "      <td>2020.000000</td>\n",
              "      <td>260.000000</td>\n",
              "    </tr>\n",
              "    <tr>\n",
              "      <th>75%</th>\n",
              "      <td>2020.000000</td>\n",
              "      <td>421.000000</td>\n",
              "    </tr>\n",
              "    <tr>\n",
              "      <th>max</th>\n",
              "      <td>2021.000000</td>\n",
              "      <td>7055.000000</td>\n",
              "    </tr>\n",
              "  </tbody>\n",
              "</table>\n",
              "</div>\n",
              "      <button class=\"colab-df-convert\" onclick=\"convertToInteractive('df-417d0855-533d-460b-86b2-1aa1b7f18234')\"\n",
              "              title=\"Convert this dataframe to an interactive table.\"\n",
              "              style=\"display:none;\">\n",
              "        \n",
              "  <svg xmlns=\"http://www.w3.org/2000/svg\" height=\"24px\"viewBox=\"0 0 24 24\"\n",
              "       width=\"24px\">\n",
              "    <path d=\"M0 0h24v24H0V0z\" fill=\"none\"/>\n",
              "    <path d=\"M18.56 5.44l.94 2.06.94-2.06 2.06-.94-2.06-.94-.94-2.06-.94 2.06-2.06.94zm-11 1L8.5 8.5l.94-2.06 2.06-.94-2.06-.94L8.5 2.5l-.94 2.06-2.06.94zm10 10l.94 2.06.94-2.06 2.06-.94-2.06-.94-.94-2.06-.94 2.06-2.06.94z\"/><path d=\"M17.41 7.96l-1.37-1.37c-.4-.4-.92-.59-1.43-.59-.52 0-1.04.2-1.43.59L10.3 9.45l-7.72 7.72c-.78.78-.78 2.05 0 2.83L4 21.41c.39.39.9.59 1.41.59.51 0 1.02-.2 1.41-.59l7.78-7.78 2.81-2.81c.8-.78.8-2.07 0-2.86zM5.41 20L4 18.59l7.72-7.72 1.47 1.35L5.41 20z\"/>\n",
              "  </svg>\n",
              "      </button>\n",
              "      \n",
              "  <style>\n",
              "    .colab-df-container {\n",
              "      display:flex;\n",
              "      flex-wrap:wrap;\n",
              "      gap: 12px;\n",
              "    }\n",
              "\n",
              "    .colab-df-convert {\n",
              "      background-color: #E8F0FE;\n",
              "      border: none;\n",
              "      border-radius: 50%;\n",
              "      cursor: pointer;\n",
              "      display: none;\n",
              "      fill: #1967D2;\n",
              "      height: 32px;\n",
              "      padding: 0 0 0 0;\n",
              "      width: 32px;\n",
              "    }\n",
              "\n",
              "    .colab-df-convert:hover {\n",
              "      background-color: #E2EBFA;\n",
              "      box-shadow: 0px 1px 2px rgba(60, 64, 67, 0.3), 0px 1px 3px 1px rgba(60, 64, 67, 0.15);\n",
              "      fill: #174EA6;\n",
              "    }\n",
              "\n",
              "    [theme=dark] .colab-df-convert {\n",
              "      background-color: #3B4455;\n",
              "      fill: #D2E3FC;\n",
              "    }\n",
              "\n",
              "    [theme=dark] .colab-df-convert:hover {\n",
              "      background-color: #434B5C;\n",
              "      box-shadow: 0px 1px 3px 1px rgba(0, 0, 0, 0.15);\n",
              "      filter: drop-shadow(0px 1px 2px rgba(0, 0, 0, 0.3));\n",
              "      fill: #FFFFFF;\n",
              "    }\n",
              "  </style>\n",
              "\n",
              "      <script>\n",
              "        const buttonEl =\n",
              "          document.querySelector('#df-417d0855-533d-460b-86b2-1aa1b7f18234 button.colab-df-convert');\n",
              "        buttonEl.style.display =\n",
              "          google.colab.kernel.accessAllowed ? 'block' : 'none';\n",
              "\n",
              "        async function convertToInteractive(key) {\n",
              "          const element = document.querySelector('#df-417d0855-533d-460b-86b2-1aa1b7f18234');\n",
              "          const dataTable =\n",
              "            await google.colab.kernel.invokeFunction('convertToInteractive',\n",
              "                                                     [key], {});\n",
              "          if (!dataTable) return;\n",
              "\n",
              "          const docLinkHtml = 'Like what you see? Visit the ' +\n",
              "            '<a target=\"_blank\" href=https://colab.research.google.com/notebooks/data_table.ipynb>data table notebook</a>'\n",
              "            + ' to learn more about interactive tables.';\n",
              "          element.innerHTML = '';\n",
              "          dataTable['output_type'] = 'display_data';\n",
              "          await google.colab.output.renderOutput(dataTable, element);\n",
              "          const docLink = document.createElement('div');\n",
              "          docLink.innerHTML = docLinkHtml;\n",
              "          element.appendChild(docLink);\n",
              "        }\n",
              "      </script>\n",
              "    </div>\n",
              "  </div>\n",
              "  "
            ],
            "text/plain": [
              "              year  unit_consumed\n",
              "count  2747.000000    2747.000000\n",
              "mean   2019.480888     336.566436\n",
              "std       1.074729     333.954300\n",
              "min    2018.000000       0.000000\n",
              "25%    2019.000000     156.000000\n",
              "50%    2020.000000     260.000000\n",
              "75%    2020.000000     421.000000\n",
              "max    2021.000000    7055.000000"
            ]
          },
          "metadata": {},
          "execution_count": 86
        }
      ]
    },
    {
      "cell_type": "code",
      "metadata": {
        "colab": {
          "base_uri": "https://localhost:8080/"
        },
        "id": "3EEfaj-mVRZr",
        "outputId": "9f788cea-ba4f-4ec2-c364-88a842a7bc07"
      },
      "source": [
        "df.loc[750]"
      ],
      "execution_count": null,
      "outputs": [
        {
          "output_type": "execute_result",
          "data": {
            "text/plain": [
              "month               october\n",
              "year                   2020\n",
              "unit_consumed           996\n",
              "price                 17681\n",
              "area             bufferzone\n",
              "season               winter\n",
              "load                      9\n",
              "Name: 750, dtype: object"
            ]
          },
          "metadata": {},
          "execution_count": 87
        }
      ]
    },
    {
      "cell_type": "code",
      "metadata": {
        "colab": {
          "base_uri": "https://localhost:8080/"
        },
        "id": "Sg3zahV0VRWM",
        "outputId": "19766ead-1463-48b3-b8ea-fd789d00ebe8"
      },
      "source": [
        "df.loc[1973]"
      ],
      "execution_count": null,
      "outputs": [
        {
          "output_type": "execute_result",
          "data": {
            "text/plain": [
              "month                     december\n",
              "year                          2020\n",
              "unit_consumed                  185\n",
              "price                      2101.02\n",
              "area             Gulistan-e-jauhar\n",
              "season                      winter\n",
              "load                           NaN\n",
              "Name: 1973, dtype: object"
            ]
          },
          "metadata": {},
          "execution_count": 88
        }
      ]
    },
    {
      "cell_type": "code",
      "metadata": {
        "colab": {
          "base_uri": "https://localhost:8080/"
        },
        "id": "fwUPA0jFVRRl",
        "outputId": "49d29c5b-f93c-4fd3-c045-f9171cac2278"
      },
      "source": [
        "df['unit_consumed'].apply(np.floor)"
      ],
      "execution_count": null,
      "outputs": [
        {
          "output_type": "execute_result",
          "data": {
            "text/plain": [
              "0       212.0\n",
              "1       233.0\n",
              "2       260.0\n",
              "3       282.0\n",
              "4       280.0\n",
              "        ...  \n",
              "2742    102.0\n",
              "2743    198.0\n",
              "2744    251.0\n",
              "2745    225.0\n",
              "2746    158.0\n",
              "Name: unit_consumed, Length: 2747, dtype: float64"
            ]
          },
          "metadata": {},
          "execution_count": 89
        }
      ]
    },
    {
      "cell_type": "code",
      "metadata": {
        "id": "B_gTcx6-VRNV"
      },
      "source": [
        "df['unit_consumed']= df['unit_consumed'].replace('.','')"
      ],
      "execution_count": null,
      "outputs": []
    },
    {
      "cell_type": "code",
      "metadata": {
        "colab": {
          "base_uri": "https://localhost:8080/"
        },
        "id": "nT-O4UBKOt2A",
        "outputId": "ba79d4d0-912b-4877-cdd6-ff08f663d3ce"
      },
      "source": [
        "df['unit_consumed']"
      ],
      "execution_count": null,
      "outputs": [
        {
          "output_type": "execute_result",
          "data": {
            "text/plain": [
              "0       212\n",
              "1       233\n",
              "2       260\n",
              "3       282\n",
              "4       280\n",
              "       ... \n",
              "2742    102\n",
              "2743    198\n",
              "2744    251\n",
              "2745    225\n",
              "2746    158\n",
              "Name: unit_consumed, Length: 2747, dtype: int64"
            ]
          },
          "metadata": {},
          "execution_count": 91
        }
      ]
    },
    {
      "cell_type": "code",
      "metadata": {
        "colab": {
          "base_uri": "https://localhost:8080/"
        },
        "id": "26DN-L1JOtw3",
        "outputId": "ab8aeba5-e622-424c-98f5-deb8568f9ec3"
      },
      "source": [
        "df.loc[2192]"
      ],
      "execution_count": null,
      "outputs": [
        {
          "output_type": "execute_result",
          "data": {
            "text/plain": [
              "month              july\n",
              "year               2019\n",
              "unit_consumed       290\n",
              "price              5000\n",
              "area              Gizri\n",
              "season           summer\n",
              "load                  4\n",
              "Name: 2192, dtype: object"
            ]
          },
          "metadata": {},
          "execution_count": 92
        }
      ]
    },
    {
      "cell_type": "code",
      "metadata": {
        "id": "uePNHSBAOttj"
      },
      "source": [
        "\n",
        "df['price']=pd.to_numeric(df['price'])\n"
      ],
      "execution_count": null,
      "outputs": []
    },
    {
      "cell_type": "code",
      "metadata": {
        "colab": {
          "base_uri": "https://localhost:8080/"
        },
        "id": "kFq4ekjAT63E",
        "outputId": "b2dcfd08-fa44-4324-c1a6-da60cbd06101"
      },
      "source": [
        "df['price'].apply(type)"
      ],
      "execution_count": null,
      "outputs": [
        {
          "output_type": "execute_result",
          "data": {
            "text/plain": [
              "0       <class 'float'>\n",
              "1       <class 'float'>\n",
              "2       <class 'float'>\n",
              "3       <class 'float'>\n",
              "4       <class 'float'>\n",
              "             ...       \n",
              "2742    <class 'float'>\n",
              "2743    <class 'float'>\n",
              "2744    <class 'float'>\n",
              "2745    <class 'float'>\n",
              "2746    <class 'float'>\n",
              "Name: price, Length: 2747, dtype: object"
            ]
          },
          "metadata": {},
          "execution_count": 94
        }
      ]
    },
    {
      "cell_type": "code",
      "metadata": {
        "id": "Nvj9JOvDT60M"
      },
      "source": [
        "df['price']=df['price'].astype(int)"
      ],
      "execution_count": null,
      "outputs": []
    },
    {
      "cell_type": "code",
      "metadata": {
        "colab": {
          "base_uri": "https://localhost:8080/"
        },
        "id": "8rMT22HFT6xO",
        "outputId": "29abe53b-bf86-4691-8717-033434be917c"
      },
      "source": [
        "df['price'].apply(type)"
      ],
      "execution_count": null,
      "outputs": [
        {
          "output_type": "execute_result",
          "data": {
            "text/plain": [
              "0       <class 'int'>\n",
              "1       <class 'int'>\n",
              "2       <class 'int'>\n",
              "3       <class 'int'>\n",
              "4       <class 'int'>\n",
              "            ...      \n",
              "2742    <class 'int'>\n",
              "2743    <class 'int'>\n",
              "2744    <class 'int'>\n",
              "2745    <class 'int'>\n",
              "2746    <class 'int'>\n",
              "Name: price, Length: 2747, dtype: object"
            ]
          },
          "metadata": {},
          "execution_count": 96
        }
      ]
    },
    {
      "cell_type": "code",
      "metadata": {
        "colab": {
          "base_uri": "https://localhost:8080/"
        },
        "id": "CQf8uEq5T6uX",
        "outputId": "f4678fcc-eb76-4225-d57b-cefa7e50aac1"
      },
      "source": [
        "df.price"
      ],
      "execution_count": null,
      "outputs": [
        {
          "output_type": "execute_result",
          "data": {
            "text/plain": [
              "0       5024\n",
              "1       4838\n",
              "2       5450\n",
              "3       5801\n",
              "4       5868\n",
              "        ... \n",
              "2742     742\n",
              "2743    1942\n",
              "2744    3706\n",
              "2745    3053\n",
              "2746    1763\n",
              "Name: price, Length: 2747, dtype: int64"
            ]
          },
          "metadata": {},
          "execution_count": 97
        }
      ]
    },
    {
      "cell_type": "code",
      "metadata": {
        "colab": {
          "base_uri": "https://localhost:8080/"
        },
        "id": "rtBe0VYnT6l7",
        "outputId": "a8ee1f98-2cb1-497c-d9b5-587ae254e641"
      },
      "source": [
        "df.loc[1973]"
      ],
      "execution_count": null,
      "outputs": [
        {
          "output_type": "execute_result",
          "data": {
            "text/plain": [
              "month                     december\n",
              "year                          2020\n",
              "unit_consumed                  185\n",
              "price                         2101\n",
              "area             Gulistan-e-jauhar\n",
              "season                      winter\n",
              "load                           NaN\n",
              "Name: 1973, dtype: object"
            ]
          },
          "metadata": {},
          "execution_count": 98
        }
      ]
    },
    {
      "cell_type": "code",
      "metadata": {
        "id": "1Etbbfi3Fb_K"
      },
      "source": [],
      "execution_count": null,
      "outputs": []
    },
    {
      "cell_type": "code",
      "metadata": {
        "colab": {
          "base_uri": "https://localhost:8080/",
          "height": 1000
        },
        "id": "UpoTRGTuZS3Q",
        "outputId": "c5c06449-4ec3-45ea-a3a4-454b273913e0"
      },
      "source": [
        "df.loc[995:1034]"
      ],
      "execution_count": null,
      "outputs": [
        {
          "output_type": "execute_result",
          "data": {
            "text/html": [
              "\n",
              "  <div id=\"df-5d84a52d-dfc7-4494-a376-1864249f9399\">\n",
              "    <div class=\"colab-df-container\">\n",
              "      <div>\n",
              "<style scoped>\n",
              "    .dataframe tbody tr th:only-of-type {\n",
              "        vertical-align: middle;\n",
              "    }\n",
              "\n",
              "    .dataframe tbody tr th {\n",
              "        vertical-align: top;\n",
              "    }\n",
              "\n",
              "    .dataframe thead th {\n",
              "        text-align: right;\n",
              "    }\n",
              "</style>\n",
              "<table border=\"1\" class=\"dataframe\">\n",
              "  <thead>\n",
              "    <tr style=\"text-align: right;\">\n",
              "      <th></th>\n",
              "      <th>month</th>\n",
              "      <th>year</th>\n",
              "      <th>unit_consumed</th>\n",
              "      <th>price</th>\n",
              "      <th>area</th>\n",
              "      <th>season</th>\n",
              "      <th>load</th>\n",
              "    </tr>\n",
              "  </thead>\n",
              "  <tbody>\n",
              "    <tr>\n",
              "      <th>995</th>\n",
              "      <td>january</td>\n",
              "      <td>2018</td>\n",
              "      <td>316</td>\n",
              "      <td>2252700</td>\n",
              "      <td>lahani plaza A17</td>\n",
              "      <td>winter</td>\n",
              "      <td>2</td>\n",
              "    </tr>\n",
              "    <tr>\n",
              "      <th>996</th>\n",
              "      <td>february</td>\n",
              "      <td>2018</td>\n",
              "      <td>383</td>\n",
              "      <td>48888</td>\n",
              "      <td>lahani plaza A17</td>\n",
              "      <td>winter</td>\n",
              "      <td>2</td>\n",
              "    </tr>\n",
              "    <tr>\n",
              "      <th>997</th>\n",
              "      <td>march</td>\n",
              "      <td>2018</td>\n",
              "      <td>526</td>\n",
              "      <td>6751</td>\n",
              "      <td>lahani plaza A17</td>\n",
              "      <td>summer</td>\n",
              "      <td>2</td>\n",
              "    </tr>\n",
              "    <tr>\n",
              "      <th>998</th>\n",
              "      <td>april</td>\n",
              "      <td>2018</td>\n",
              "      <td>316</td>\n",
              "      <td>10888</td>\n",
              "      <td>lahani plaza A17</td>\n",
              "      <td>summer</td>\n",
              "      <td>2</td>\n",
              "    </tr>\n",
              "    <tr>\n",
              "      <th>999</th>\n",
              "      <td>may</td>\n",
              "      <td>2018</td>\n",
              "      <td>909</td>\n",
              "      <td>174</td>\n",
              "      <td>lahani plaza A17</td>\n",
              "      <td>summer</td>\n",
              "      <td>2</td>\n",
              "    </tr>\n",
              "    <tr>\n",
              "      <th>1000</th>\n",
              "      <td>june</td>\n",
              "      <td>2018</td>\n",
              "      <td>615</td>\n",
              "      <td>0</td>\n",
              "      <td>lahani plaza A17</td>\n",
              "      <td>summer</td>\n",
              "      <td>2</td>\n",
              "    </tr>\n",
              "    <tr>\n",
              "      <th>1001</th>\n",
              "      <td>july</td>\n",
              "      <td>2018</td>\n",
              "      <td>415</td>\n",
              "      <td>5421300</td>\n",
              "      <td>lahani plaza A17</td>\n",
              "      <td>summer</td>\n",
              "      <td>2</td>\n",
              "    </tr>\n",
              "    <tr>\n",
              "      <th>1002</th>\n",
              "      <td>august</td>\n",
              "      <td>2018</td>\n",
              "      <td>541</td>\n",
              "      <td>13231</td>\n",
              "      <td>lahani plaza A17</td>\n",
              "      <td>summer</td>\n",
              "      <td>2</td>\n",
              "    </tr>\n",
              "    <tr>\n",
              "      <th>1003</th>\n",
              "      <td>september</td>\n",
              "      <td>2018</td>\n",
              "      <td>564</td>\n",
              "      <td>52121</td>\n",
              "      <td>lahani plaza A17</td>\n",
              "      <td>summer</td>\n",
              "      <td>2</td>\n",
              "    </tr>\n",
              "    <tr>\n",
              "      <th>1004</th>\n",
              "      <td>october</td>\n",
              "      <td>2018</td>\n",
              "      <td>312</td>\n",
              "      <td>41215</td>\n",
              "      <td>lahani plaza A17</td>\n",
              "      <td>winter</td>\n",
              "      <td>2</td>\n",
              "    </tr>\n",
              "    <tr>\n",
              "      <th>1005</th>\n",
              "      <td>november</td>\n",
              "      <td>2018</td>\n",
              "      <td>214</td>\n",
              "      <td>243000</td>\n",
              "      <td>lahani plaza A17</td>\n",
              "      <td>winter</td>\n",
              "      <td>2</td>\n",
              "    </tr>\n",
              "    <tr>\n",
              "      <th>1006</th>\n",
              "      <td>december</td>\n",
              "      <td>2018</td>\n",
              "      <td>115</td>\n",
              "      <td>2121300</td>\n",
              "      <td>lahani plaza A17</td>\n",
              "      <td>winter</td>\n",
              "      <td>2</td>\n",
              "    </tr>\n",
              "    <tr>\n",
              "      <th>1007</th>\n",
              "      <td>january</td>\n",
              "      <td>2019</td>\n",
              "      <td>152</td>\n",
              "      <td>25512</td>\n",
              "      <td>lahani plaza A17</td>\n",
              "      <td>winter</td>\n",
              "      <td>2</td>\n",
              "    </tr>\n",
              "    <tr>\n",
              "      <th>1008</th>\n",
              "      <td>february</td>\n",
              "      <td>2019</td>\n",
              "      <td>232</td>\n",
              "      <td>1221200</td>\n",
              "      <td>lahani plaza A17</td>\n",
              "      <td>winter</td>\n",
              "      <td>2</td>\n",
              "    </tr>\n",
              "    <tr>\n",
              "      <th>1009</th>\n",
              "      <td>march</td>\n",
              "      <td>2019</td>\n",
              "      <td>121</td>\n",
              "      <td>54645</td>\n",
              "      <td>lahani plaza A17</td>\n",
              "      <td>summer</td>\n",
              "      <td>2</td>\n",
              "    </tr>\n",
              "    <tr>\n",
              "      <th>1010</th>\n",
              "      <td>april</td>\n",
              "      <td>2019</td>\n",
              "      <td>231</td>\n",
              "      <td>2111100</td>\n",
              "      <td>lahani plaza A17</td>\n",
              "      <td>summer</td>\n",
              "      <td>2</td>\n",
              "    </tr>\n",
              "    <tr>\n",
              "      <th>1011</th>\n",
              "      <td>may</td>\n",
              "      <td>2019</td>\n",
              "      <td>212</td>\n",
              "      <td>11540</td>\n",
              "      <td>lahani plaza A17</td>\n",
              "      <td>summer</td>\n",
              "      <td>2</td>\n",
              "    </tr>\n",
              "    <tr>\n",
              "      <th>1012</th>\n",
              "      <td>june</td>\n",
              "      <td>2019</td>\n",
              "      <td>112</td>\n",
              "      <td>21253</td>\n",
              "      <td>lahani plaza A17</td>\n",
              "      <td>summer</td>\n",
              "      <td>2</td>\n",
              "    </tr>\n",
              "    <tr>\n",
              "      <th>1013</th>\n",
              "      <td>july</td>\n",
              "      <td>2019</td>\n",
              "      <td>231</td>\n",
              "      <td>12512</td>\n",
              "      <td>lahani plaza A17</td>\n",
              "      <td>summer</td>\n",
              "      <td>2</td>\n",
              "    </tr>\n",
              "    <tr>\n",
              "      <th>1014</th>\n",
              "      <td>august</td>\n",
              "      <td>2019</td>\n",
              "      <td>123</td>\n",
              "      <td>12112</td>\n",
              "      <td>lahani plaza A17</td>\n",
              "      <td>summer</td>\n",
              "      <td>2</td>\n",
              "    </tr>\n",
              "    <tr>\n",
              "      <th>1015</th>\n",
              "      <td>september</td>\n",
              "      <td>2019</td>\n",
              "      <td>156</td>\n",
              "      <td>23622</td>\n",
              "      <td>lahani plaza A17</td>\n",
              "      <td>summer</td>\n",
              "      <td>2</td>\n",
              "    </tr>\n",
              "    <tr>\n",
              "      <th>1016</th>\n",
              "      <td>october</td>\n",
              "      <td>2019</td>\n",
              "      <td>121</td>\n",
              "      <td>63610</td>\n",
              "      <td>lahani plaza A17</td>\n",
              "      <td>winter</td>\n",
              "      <td>2</td>\n",
              "    </tr>\n",
              "    <tr>\n",
              "      <th>1017</th>\n",
              "      <td>november</td>\n",
              "      <td>2019</td>\n",
              "      <td>212</td>\n",
              "      <td>1031231</td>\n",
              "      <td>lahani plaza A17</td>\n",
              "      <td>winter</td>\n",
              "      <td>2</td>\n",
              "    </tr>\n",
              "    <tr>\n",
              "      <th>1018</th>\n",
              "      <td>december</td>\n",
              "      <td>2019</td>\n",
              "      <td>123</td>\n",
              "      <td>31231</td>\n",
              "      <td>lahani plaza A17</td>\n",
              "      <td>winter</td>\n",
              "      <td>2</td>\n",
              "    </tr>\n",
              "    <tr>\n",
              "      <th>1019</th>\n",
              "      <td>january</td>\n",
              "      <td>2020</td>\n",
              "      <td>111</td>\n",
              "      <td>13521</td>\n",
              "      <td>lahani plaza A17</td>\n",
              "      <td>winter</td>\n",
              "      <td>2</td>\n",
              "    </tr>\n",
              "    <tr>\n",
              "      <th>1020</th>\n",
              "      <td>february</td>\n",
              "      <td>2020</td>\n",
              "      <td>121</td>\n",
              "      <td>51511</td>\n",
              "      <td>lahani plaza A17</td>\n",
              "      <td>winter</td>\n",
              "      <td>2</td>\n",
              "    </tr>\n",
              "    <tr>\n",
              "      <th>1021</th>\n",
              "      <td>march</td>\n",
              "      <td>2020</td>\n",
              "      <td>146</td>\n",
              "      <td>1512221</td>\n",
              "      <td>lahani plaza A17</td>\n",
              "      <td>summer</td>\n",
              "      <td>2</td>\n",
              "    </tr>\n",
              "    <tr>\n",
              "      <th>1022</th>\n",
              "      <td>april</td>\n",
              "      <td>2020</td>\n",
              "      <td>555</td>\n",
              "      <td>12212</td>\n",
              "      <td>lahani plaza A17</td>\n",
              "      <td>summer</td>\n",
              "      <td>2</td>\n",
              "    </tr>\n",
              "    <tr>\n",
              "      <th>1023</th>\n",
              "      <td>may</td>\n",
              "      <td>2020</td>\n",
              "      <td>312</td>\n",
              "      <td>12123</td>\n",
              "      <td>lahani plaza A17</td>\n",
              "      <td>summer</td>\n",
              "      <td>2</td>\n",
              "    </tr>\n",
              "    <tr>\n",
              "      <th>1024</th>\n",
              "      <td>june</td>\n",
              "      <td>2020</td>\n",
              "      <td>335</td>\n",
              "      <td>11215</td>\n",
              "      <td>lahani plaza A17</td>\n",
              "      <td>summer</td>\n",
              "      <td>2</td>\n",
              "    </tr>\n",
              "    <tr>\n",
              "      <th>1025</th>\n",
              "      <td>july</td>\n",
              "      <td>2020</td>\n",
              "      <td>226</td>\n",
              "      <td>1122</td>\n",
              "      <td>lahani plaza A17</td>\n",
              "      <td>summer</td>\n",
              "      <td>2</td>\n",
              "    </tr>\n",
              "    <tr>\n",
              "      <th>1026</th>\n",
              "      <td>august</td>\n",
              "      <td>2020</td>\n",
              "      <td>312</td>\n",
              "      <td>1363</td>\n",
              "      <td>lahani plaza A17</td>\n",
              "      <td>summer</td>\n",
              "      <td>2</td>\n",
              "    </tr>\n",
              "    <tr>\n",
              "      <th>1027</th>\n",
              "      <td>september</td>\n",
              "      <td>2020</td>\n",
              "      <td>315</td>\n",
              "      <td>25562</td>\n",
              "      <td>lahani plaza A17</td>\n",
              "      <td>summer</td>\n",
              "      <td>2</td>\n",
              "    </tr>\n",
              "    <tr>\n",
              "      <th>1028</th>\n",
              "      <td>october</td>\n",
              "      <td>2020</td>\n",
              "      <td>121</td>\n",
              "      <td>21541</td>\n",
              "      <td>lahani plaza A17</td>\n",
              "      <td>winter</td>\n",
              "      <td>2</td>\n",
              "    </tr>\n",
              "    <tr>\n",
              "      <th>1029</th>\n",
              "      <td>november</td>\n",
              "      <td>2020</td>\n",
              "      <td>123</td>\n",
              "      <td>21212</td>\n",
              "      <td>lahani plaza A17</td>\n",
              "      <td>winter</td>\n",
              "      <td>2</td>\n",
              "    </tr>\n",
              "    <tr>\n",
              "      <th>1030</th>\n",
              "      <td>december</td>\n",
              "      <td>2020</td>\n",
              "      <td>235</td>\n",
              "      <td>12232</td>\n",
              "      <td>lahani plaza A17</td>\n",
              "      <td>winter</td>\n",
              "      <td>2</td>\n",
              "    </tr>\n",
              "    <tr>\n",
              "      <th>1031</th>\n",
              "      <td>january</td>\n",
              "      <td>2021</td>\n",
              "      <td>123</td>\n",
              "      <td>212300</td>\n",
              "      <td>lahani plaza A17</td>\n",
              "      <td>winter</td>\n",
              "      <td>2</td>\n",
              "    </tr>\n",
              "    <tr>\n",
              "      <th>1032</th>\n",
              "      <td>february</td>\n",
              "      <td>2021</td>\n",
              "      <td>122</td>\n",
              "      <td>32123</td>\n",
              "      <td>lahani plaza A17</td>\n",
              "      <td>winter</td>\n",
              "      <td>2</td>\n",
              "    </tr>\n",
              "    <tr>\n",
              "      <th>1033</th>\n",
              "      <td>march</td>\n",
              "      <td>2021</td>\n",
              "      <td>121</td>\n",
              "      <td>56122</td>\n",
              "      <td>lahani plaza A17</td>\n",
              "      <td>summer</td>\n",
              "      <td>2</td>\n",
              "    </tr>\n",
              "    <tr>\n",
              "      <th>1034</th>\n",
              "      <td>april</td>\n",
              "      <td>2021</td>\n",
              "      <td>125</td>\n",
              "      <td>23213</td>\n",
              "      <td>lahani plaza A17</td>\n",
              "      <td>summer</td>\n",
              "      <td>2</td>\n",
              "    </tr>\n",
              "  </tbody>\n",
              "</table>\n",
              "</div>\n",
              "      <button class=\"colab-df-convert\" onclick=\"convertToInteractive('df-5d84a52d-dfc7-4494-a376-1864249f9399')\"\n",
              "              title=\"Convert this dataframe to an interactive table.\"\n",
              "              style=\"display:none;\">\n",
              "        \n",
              "  <svg xmlns=\"http://www.w3.org/2000/svg\" height=\"24px\"viewBox=\"0 0 24 24\"\n",
              "       width=\"24px\">\n",
              "    <path d=\"M0 0h24v24H0V0z\" fill=\"none\"/>\n",
              "    <path d=\"M18.56 5.44l.94 2.06.94-2.06 2.06-.94-2.06-.94-.94-2.06-.94 2.06-2.06.94zm-11 1L8.5 8.5l.94-2.06 2.06-.94-2.06-.94L8.5 2.5l-.94 2.06-2.06.94zm10 10l.94 2.06.94-2.06 2.06-.94-2.06-.94-.94-2.06-.94 2.06-2.06.94z\"/><path d=\"M17.41 7.96l-1.37-1.37c-.4-.4-.92-.59-1.43-.59-.52 0-1.04.2-1.43.59L10.3 9.45l-7.72 7.72c-.78.78-.78 2.05 0 2.83L4 21.41c.39.39.9.59 1.41.59.51 0 1.02-.2 1.41-.59l7.78-7.78 2.81-2.81c.8-.78.8-2.07 0-2.86zM5.41 20L4 18.59l7.72-7.72 1.47 1.35L5.41 20z\"/>\n",
              "  </svg>\n",
              "      </button>\n",
              "      \n",
              "  <style>\n",
              "    .colab-df-container {\n",
              "      display:flex;\n",
              "      flex-wrap:wrap;\n",
              "      gap: 12px;\n",
              "    }\n",
              "\n",
              "    .colab-df-convert {\n",
              "      background-color: #E8F0FE;\n",
              "      border: none;\n",
              "      border-radius: 50%;\n",
              "      cursor: pointer;\n",
              "      display: none;\n",
              "      fill: #1967D2;\n",
              "      height: 32px;\n",
              "      padding: 0 0 0 0;\n",
              "      width: 32px;\n",
              "    }\n",
              "\n",
              "    .colab-df-convert:hover {\n",
              "      background-color: #E2EBFA;\n",
              "      box-shadow: 0px 1px 2px rgba(60, 64, 67, 0.3), 0px 1px 3px 1px rgba(60, 64, 67, 0.15);\n",
              "      fill: #174EA6;\n",
              "    }\n",
              "\n",
              "    [theme=dark] .colab-df-convert {\n",
              "      background-color: #3B4455;\n",
              "      fill: #D2E3FC;\n",
              "    }\n",
              "\n",
              "    [theme=dark] .colab-df-convert:hover {\n",
              "      background-color: #434B5C;\n",
              "      box-shadow: 0px 1px 3px 1px rgba(0, 0, 0, 0.15);\n",
              "      filter: drop-shadow(0px 1px 2px rgba(0, 0, 0, 0.3));\n",
              "      fill: #FFFFFF;\n",
              "    }\n",
              "  </style>\n",
              "\n",
              "      <script>\n",
              "        const buttonEl =\n",
              "          document.querySelector('#df-5d84a52d-dfc7-4494-a376-1864249f9399 button.colab-df-convert');\n",
              "        buttonEl.style.display =\n",
              "          google.colab.kernel.accessAllowed ? 'block' : 'none';\n",
              "\n",
              "        async function convertToInteractive(key) {\n",
              "          const element = document.querySelector('#df-5d84a52d-dfc7-4494-a376-1864249f9399');\n",
              "          const dataTable =\n",
              "            await google.colab.kernel.invokeFunction('convertToInteractive',\n",
              "                                                     [key], {});\n",
              "          if (!dataTable) return;\n",
              "\n",
              "          const docLinkHtml = 'Like what you see? Visit the ' +\n",
              "            '<a target=\"_blank\" href=https://colab.research.google.com/notebooks/data_table.ipynb>data table notebook</a>'\n",
              "            + ' to learn more about interactive tables.';\n",
              "          element.innerHTML = '';\n",
              "          dataTable['output_type'] = 'display_data';\n",
              "          await google.colab.output.renderOutput(dataTable, element);\n",
              "          const docLink = document.createElement('div');\n",
              "          docLink.innerHTML = docLinkHtml;\n",
              "          element.appendChild(docLink);\n",
              "        }\n",
              "      </script>\n",
              "    </div>\n",
              "  </div>\n",
              "  "
            ],
            "text/plain": [
              "          month  year  unit_consumed    price              area  season load\n",
              "995     january  2018            316  2252700  lahani plaza A17  winter    2\n",
              "996    february  2018            383    48888  lahani plaza A17  winter    2\n",
              "997       march  2018            526     6751  lahani plaza A17  summer    2\n",
              "998       april  2018            316    10888  lahani plaza A17  summer    2\n",
              "999         may  2018            909      174  lahani plaza A17  summer    2\n",
              "1000       june  2018            615        0  lahani plaza A17  summer    2\n",
              "1001       july  2018            415  5421300  lahani plaza A17  summer    2\n",
              "1002     august  2018            541    13231  lahani plaza A17  summer    2\n",
              "1003  september  2018            564    52121  lahani plaza A17  summer    2\n",
              "1004    october  2018            312    41215  lahani plaza A17  winter    2\n",
              "1005   november  2018            214   243000  lahani plaza A17  winter    2\n",
              "1006   december  2018            115  2121300  lahani plaza A17  winter    2\n",
              "1007    january  2019            152    25512  lahani plaza A17  winter    2\n",
              "1008   february  2019            232  1221200  lahani plaza A17  winter    2\n",
              "1009      march  2019            121    54645  lahani plaza A17  summer    2\n",
              "1010      april  2019            231  2111100  lahani plaza A17  summer    2\n",
              "1011        may  2019            212    11540  lahani plaza A17  summer    2\n",
              "1012       june  2019            112    21253  lahani plaza A17  summer    2\n",
              "1013       july  2019            231    12512  lahani plaza A17  summer    2\n",
              "1014     august  2019            123    12112  lahani plaza A17  summer    2\n",
              "1015  september  2019            156    23622  lahani plaza A17  summer    2\n",
              "1016    october  2019            121    63610  lahani plaza A17  winter    2\n",
              "1017   november  2019            212  1031231  lahani plaza A17  winter    2\n",
              "1018   december  2019            123    31231  lahani plaza A17  winter    2\n",
              "1019    january  2020            111    13521  lahani plaza A17  winter    2\n",
              "1020   february  2020            121    51511  lahani plaza A17  winter    2\n",
              "1021      march  2020            146  1512221  lahani plaza A17  summer    2\n",
              "1022      april  2020            555    12212  lahani plaza A17  summer    2\n",
              "1023        may  2020            312    12123  lahani plaza A17  summer    2\n",
              "1024       june  2020            335    11215  lahani plaza A17  summer    2\n",
              "1025       july  2020            226     1122  lahani plaza A17  summer    2\n",
              "1026     august  2020            312     1363  lahani plaza A17  summer    2\n",
              "1027  september  2020            315    25562  lahani plaza A17  summer    2\n",
              "1028    october  2020            121    21541  lahani plaza A17  winter    2\n",
              "1029   november  2020            123    21212  lahani plaza A17  winter    2\n",
              "1030   december  2020            235    12232  lahani plaza A17  winter    2\n",
              "1031    january  2021            123   212300  lahani plaza A17  winter    2\n",
              "1032   february  2021            122    32123  lahani plaza A17  winter    2\n",
              "1033      march  2021            121    56122  lahani plaza A17  summer    2\n",
              "1034      april  2021            125    23213  lahani plaza A17  summer    2"
            ]
          },
          "metadata": {},
          "execution_count": 99
        }
      ]
    },
    {
      "cell_type": "code",
      "metadata": {
        "id": "AmzmFhDBJy2A"
      },
      "source": [
        "#df.loc[df['area']=='lahani plaza A17'].sum().sum()\n",
        "df.drop(df.loc[995:1034].index,inplace = True)"
      ],
      "execution_count": null,
      "outputs": []
    },
    {
      "cell_type": "code",
      "metadata": {
        "colab": {
          "base_uri": "https://localhost:8080/",
          "height": 112
        },
        "id": "n-EMcafJVzoo",
        "outputId": "83b05b45-5e40-42ca-a6c8-54eb0a76c6c1"
      },
      "source": [
        "df.loc[994:1035]"
      ],
      "execution_count": null,
      "outputs": [
        {
          "output_type": "execute_result",
          "data": {
            "text/html": [
              "\n",
              "  <div id=\"df-cbb9c8a2-730d-4382-ba11-c959b937e9f3\">\n",
              "    <div class=\"colab-df-container\">\n",
              "      <div>\n",
              "<style scoped>\n",
              "    .dataframe tbody tr th:only-of-type {\n",
              "        vertical-align: middle;\n",
              "    }\n",
              "\n",
              "    .dataframe tbody tr th {\n",
              "        vertical-align: top;\n",
              "    }\n",
              "\n",
              "    .dataframe thead th {\n",
              "        text-align: right;\n",
              "    }\n",
              "</style>\n",
              "<table border=\"1\" class=\"dataframe\">\n",
              "  <thead>\n",
              "    <tr style=\"text-align: right;\">\n",
              "      <th></th>\n",
              "      <th>month</th>\n",
              "      <th>year</th>\n",
              "      <th>unit_consumed</th>\n",
              "      <th>price</th>\n",
              "      <th>area</th>\n",
              "      <th>season</th>\n",
              "      <th>load</th>\n",
              "    </tr>\n",
              "  </thead>\n",
              "  <tbody>\n",
              "    <tr>\n",
              "      <th>994</th>\n",
              "      <td>april</td>\n",
              "      <td>2021</td>\n",
              "      <td>285</td>\n",
              "      <td>3536</td>\n",
              "      <td>PLOT NO-2 SHEET NO-2 UPPER GIZRI FLAT NO-103</td>\n",
              "      <td>summer</td>\n",
              "      <td>4</td>\n",
              "    </tr>\n",
              "    <tr>\n",
              "      <th>1035</th>\n",
              "      <td>january</td>\n",
              "      <td>2018</td>\n",
              "      <td>215</td>\n",
              "      <td>1985</td>\n",
              "      <td>Shah Latif Town,Karachi</td>\n",
              "      <td>winter</td>\n",
              "      <td>1</td>\n",
              "    </tr>\n",
              "  </tbody>\n",
              "</table>\n",
              "</div>\n",
              "      <button class=\"colab-df-convert\" onclick=\"convertToInteractive('df-cbb9c8a2-730d-4382-ba11-c959b937e9f3')\"\n",
              "              title=\"Convert this dataframe to an interactive table.\"\n",
              "              style=\"display:none;\">\n",
              "        \n",
              "  <svg xmlns=\"http://www.w3.org/2000/svg\" height=\"24px\"viewBox=\"0 0 24 24\"\n",
              "       width=\"24px\">\n",
              "    <path d=\"M0 0h24v24H0V0z\" fill=\"none\"/>\n",
              "    <path d=\"M18.56 5.44l.94 2.06.94-2.06 2.06-.94-2.06-.94-.94-2.06-.94 2.06-2.06.94zm-11 1L8.5 8.5l.94-2.06 2.06-.94-2.06-.94L8.5 2.5l-.94 2.06-2.06.94zm10 10l.94 2.06.94-2.06 2.06-.94-2.06-.94-.94-2.06-.94 2.06-2.06.94z\"/><path d=\"M17.41 7.96l-1.37-1.37c-.4-.4-.92-.59-1.43-.59-.52 0-1.04.2-1.43.59L10.3 9.45l-7.72 7.72c-.78.78-.78 2.05 0 2.83L4 21.41c.39.39.9.59 1.41.59.51 0 1.02-.2 1.41-.59l7.78-7.78 2.81-2.81c.8-.78.8-2.07 0-2.86zM5.41 20L4 18.59l7.72-7.72 1.47 1.35L5.41 20z\"/>\n",
              "  </svg>\n",
              "      </button>\n",
              "      \n",
              "  <style>\n",
              "    .colab-df-container {\n",
              "      display:flex;\n",
              "      flex-wrap:wrap;\n",
              "      gap: 12px;\n",
              "    }\n",
              "\n",
              "    .colab-df-convert {\n",
              "      background-color: #E8F0FE;\n",
              "      border: none;\n",
              "      border-radius: 50%;\n",
              "      cursor: pointer;\n",
              "      display: none;\n",
              "      fill: #1967D2;\n",
              "      height: 32px;\n",
              "      padding: 0 0 0 0;\n",
              "      width: 32px;\n",
              "    }\n",
              "\n",
              "    .colab-df-convert:hover {\n",
              "      background-color: #E2EBFA;\n",
              "      box-shadow: 0px 1px 2px rgba(60, 64, 67, 0.3), 0px 1px 3px 1px rgba(60, 64, 67, 0.15);\n",
              "      fill: #174EA6;\n",
              "    }\n",
              "\n",
              "    [theme=dark] .colab-df-convert {\n",
              "      background-color: #3B4455;\n",
              "      fill: #D2E3FC;\n",
              "    }\n",
              "\n",
              "    [theme=dark] .colab-df-convert:hover {\n",
              "      background-color: #434B5C;\n",
              "      box-shadow: 0px 1px 3px 1px rgba(0, 0, 0, 0.15);\n",
              "      filter: drop-shadow(0px 1px 2px rgba(0, 0, 0, 0.3));\n",
              "      fill: #FFFFFF;\n",
              "    }\n",
              "  </style>\n",
              "\n",
              "      <script>\n",
              "        const buttonEl =\n",
              "          document.querySelector('#df-cbb9c8a2-730d-4382-ba11-c959b937e9f3 button.colab-df-convert');\n",
              "        buttonEl.style.display =\n",
              "          google.colab.kernel.accessAllowed ? 'block' : 'none';\n",
              "\n",
              "        async function convertToInteractive(key) {\n",
              "          const element = document.querySelector('#df-cbb9c8a2-730d-4382-ba11-c959b937e9f3');\n",
              "          const dataTable =\n",
              "            await google.colab.kernel.invokeFunction('convertToInteractive',\n",
              "                                                     [key], {});\n",
              "          if (!dataTable) return;\n",
              "\n",
              "          const docLinkHtml = 'Like what you see? Visit the ' +\n",
              "            '<a target=\"_blank\" href=https://colab.research.google.com/notebooks/data_table.ipynb>data table notebook</a>'\n",
              "            + ' to learn more about interactive tables.';\n",
              "          element.innerHTML = '';\n",
              "          dataTable['output_type'] = 'display_data';\n",
              "          await google.colab.output.renderOutput(dataTable, element);\n",
              "          const docLink = document.createElement('div');\n",
              "          docLink.innerHTML = docLinkHtml;\n",
              "          element.appendChild(docLink);\n",
              "        }\n",
              "      </script>\n",
              "    </div>\n",
              "  </div>\n",
              "  "
            ],
            "text/plain": [
              "        month  year  ...  season  load\n",
              "994     april  2021  ...  summer     4\n",
              "1035  january  2018  ...  winter     1\n",
              "\n",
              "[2 rows x 7 columns]"
            ]
          },
          "metadata": {},
          "execution_count": 101
        }
      ]
    },
    {
      "cell_type": "code",
      "metadata": {
        "colab": {
          "base_uri": "https://localhost:8080/",
          "height": 423
        },
        "id": "o-jZyQ04a4Ds",
        "outputId": "e7a4d936-b186-4c71-b4dd-58a2ac6b6167"
      },
      "source": [
        "df"
      ],
      "execution_count": null,
      "outputs": [
        {
          "output_type": "execute_result",
          "data": {
            "text/html": [
              "\n",
              "  <div id=\"df-08a2939a-64ec-4256-a669-5e62727ce59b\">\n",
              "    <div class=\"colab-df-container\">\n",
              "      <div>\n",
              "<style scoped>\n",
              "    .dataframe tbody tr th:only-of-type {\n",
              "        vertical-align: middle;\n",
              "    }\n",
              "\n",
              "    .dataframe tbody tr th {\n",
              "        vertical-align: top;\n",
              "    }\n",
              "\n",
              "    .dataframe thead th {\n",
              "        text-align: right;\n",
              "    }\n",
              "</style>\n",
              "<table border=\"1\" class=\"dataframe\">\n",
              "  <thead>\n",
              "    <tr style=\"text-align: right;\">\n",
              "      <th></th>\n",
              "      <th>month</th>\n",
              "      <th>year</th>\n",
              "      <th>unit_consumed</th>\n",
              "      <th>price</th>\n",
              "      <th>area</th>\n",
              "      <th>season</th>\n",
              "      <th>load</th>\n",
              "    </tr>\n",
              "  </thead>\n",
              "  <tbody>\n",
              "    <tr>\n",
              "      <th>0</th>\n",
              "      <td>march</td>\n",
              "      <td>2021</td>\n",
              "      <td>212</td>\n",
              "      <td>5024</td>\n",
              "      <td>North Karachi</td>\n",
              "      <td>summer</td>\n",
              "      <td>7</td>\n",
              "    </tr>\n",
              "    <tr>\n",
              "      <th>1</th>\n",
              "      <td>february</td>\n",
              "      <td>2021</td>\n",
              "      <td>233</td>\n",
              "      <td>4838</td>\n",
              "      <td>North Karachi</td>\n",
              "      <td>winter</td>\n",
              "      <td>7</td>\n",
              "    </tr>\n",
              "    <tr>\n",
              "      <th>2</th>\n",
              "      <td>january</td>\n",
              "      <td>2021</td>\n",
              "      <td>260</td>\n",
              "      <td>5450</td>\n",
              "      <td>North Karachi</td>\n",
              "      <td>winter</td>\n",
              "      <td>7</td>\n",
              "    </tr>\n",
              "    <tr>\n",
              "      <th>3</th>\n",
              "      <td>december</td>\n",
              "      <td>2020</td>\n",
              "      <td>282</td>\n",
              "      <td>5801</td>\n",
              "      <td>North Karachi</td>\n",
              "      <td>winter</td>\n",
              "      <td>7</td>\n",
              "    </tr>\n",
              "    <tr>\n",
              "      <th>4</th>\n",
              "      <td>november</td>\n",
              "      <td>2020</td>\n",
              "      <td>280</td>\n",
              "      <td>5868</td>\n",
              "      <td>North Karachi</td>\n",
              "      <td>winter</td>\n",
              "      <td>7</td>\n",
              "    </tr>\n",
              "    <tr>\n",
              "      <th>...</th>\n",
              "      <td>...</td>\n",
              "      <td>...</td>\n",
              "      <td>...</td>\n",
              "      <td>...</td>\n",
              "      <td>...</td>\n",
              "      <td>...</td>\n",
              "      <td>...</td>\n",
              "    </tr>\n",
              "    <tr>\n",
              "      <th>2742</th>\n",
              "      <td>december</td>\n",
              "      <td>2020</td>\n",
              "      <td>102</td>\n",
              "      <td>742</td>\n",
              "      <td>saddar</td>\n",
              "      <td>winter</td>\n",
              "      <td>2</td>\n",
              "    </tr>\n",
              "    <tr>\n",
              "      <th>2743</th>\n",
              "      <td>march</td>\n",
              "      <td>2021</td>\n",
              "      <td>198</td>\n",
              "      <td>1942</td>\n",
              "      <td>saddar</td>\n",
              "      <td>summer</td>\n",
              "      <td>2</td>\n",
              "    </tr>\n",
              "    <tr>\n",
              "      <th>2744</th>\n",
              "      <td>april</td>\n",
              "      <td>2021</td>\n",
              "      <td>251</td>\n",
              "      <td>3706</td>\n",
              "      <td>saddar</td>\n",
              "      <td>summer</td>\n",
              "      <td>2</td>\n",
              "    </tr>\n",
              "    <tr>\n",
              "      <th>2745</th>\n",
              "      <td>july</td>\n",
              "      <td>2021</td>\n",
              "      <td>225</td>\n",
              "      <td>3053</td>\n",
              "      <td>saddar</td>\n",
              "      <td>summer</td>\n",
              "      <td>2</td>\n",
              "    </tr>\n",
              "    <tr>\n",
              "      <th>2746</th>\n",
              "      <td>october</td>\n",
              "      <td>2021</td>\n",
              "      <td>158</td>\n",
              "      <td>1763</td>\n",
              "      <td>saddar</td>\n",
              "      <td>winter</td>\n",
              "      <td>2</td>\n",
              "    </tr>\n",
              "  </tbody>\n",
              "</table>\n",
              "<p>2707 rows × 7 columns</p>\n",
              "</div>\n",
              "      <button class=\"colab-df-convert\" onclick=\"convertToInteractive('df-08a2939a-64ec-4256-a669-5e62727ce59b')\"\n",
              "              title=\"Convert this dataframe to an interactive table.\"\n",
              "              style=\"display:none;\">\n",
              "        \n",
              "  <svg xmlns=\"http://www.w3.org/2000/svg\" height=\"24px\"viewBox=\"0 0 24 24\"\n",
              "       width=\"24px\">\n",
              "    <path d=\"M0 0h24v24H0V0z\" fill=\"none\"/>\n",
              "    <path d=\"M18.56 5.44l.94 2.06.94-2.06 2.06-.94-2.06-.94-.94-2.06-.94 2.06-2.06.94zm-11 1L8.5 8.5l.94-2.06 2.06-.94-2.06-.94L8.5 2.5l-.94 2.06-2.06.94zm10 10l.94 2.06.94-2.06 2.06-.94-2.06-.94-.94-2.06-.94 2.06-2.06.94z\"/><path d=\"M17.41 7.96l-1.37-1.37c-.4-.4-.92-.59-1.43-.59-.52 0-1.04.2-1.43.59L10.3 9.45l-7.72 7.72c-.78.78-.78 2.05 0 2.83L4 21.41c.39.39.9.59 1.41.59.51 0 1.02-.2 1.41-.59l7.78-7.78 2.81-2.81c.8-.78.8-2.07 0-2.86zM5.41 20L4 18.59l7.72-7.72 1.47 1.35L5.41 20z\"/>\n",
              "  </svg>\n",
              "      </button>\n",
              "      \n",
              "  <style>\n",
              "    .colab-df-container {\n",
              "      display:flex;\n",
              "      flex-wrap:wrap;\n",
              "      gap: 12px;\n",
              "    }\n",
              "\n",
              "    .colab-df-convert {\n",
              "      background-color: #E8F0FE;\n",
              "      border: none;\n",
              "      border-radius: 50%;\n",
              "      cursor: pointer;\n",
              "      display: none;\n",
              "      fill: #1967D2;\n",
              "      height: 32px;\n",
              "      padding: 0 0 0 0;\n",
              "      width: 32px;\n",
              "    }\n",
              "\n",
              "    .colab-df-convert:hover {\n",
              "      background-color: #E2EBFA;\n",
              "      box-shadow: 0px 1px 2px rgba(60, 64, 67, 0.3), 0px 1px 3px 1px rgba(60, 64, 67, 0.15);\n",
              "      fill: #174EA6;\n",
              "    }\n",
              "\n",
              "    [theme=dark] .colab-df-convert {\n",
              "      background-color: #3B4455;\n",
              "      fill: #D2E3FC;\n",
              "    }\n",
              "\n",
              "    [theme=dark] .colab-df-convert:hover {\n",
              "      background-color: #434B5C;\n",
              "      box-shadow: 0px 1px 3px 1px rgba(0, 0, 0, 0.15);\n",
              "      filter: drop-shadow(0px 1px 2px rgba(0, 0, 0, 0.3));\n",
              "      fill: #FFFFFF;\n",
              "    }\n",
              "  </style>\n",
              "\n",
              "      <script>\n",
              "        const buttonEl =\n",
              "          document.querySelector('#df-08a2939a-64ec-4256-a669-5e62727ce59b button.colab-df-convert');\n",
              "        buttonEl.style.display =\n",
              "          google.colab.kernel.accessAllowed ? 'block' : 'none';\n",
              "\n",
              "        async function convertToInteractive(key) {\n",
              "          const element = document.querySelector('#df-08a2939a-64ec-4256-a669-5e62727ce59b');\n",
              "          const dataTable =\n",
              "            await google.colab.kernel.invokeFunction('convertToInteractive',\n",
              "                                                     [key], {});\n",
              "          if (!dataTable) return;\n",
              "\n",
              "          const docLinkHtml = 'Like what you see? Visit the ' +\n",
              "            '<a target=\"_blank\" href=https://colab.research.google.com/notebooks/data_table.ipynb>data table notebook</a>'\n",
              "            + ' to learn more about interactive tables.';\n",
              "          element.innerHTML = '';\n",
              "          dataTable['output_type'] = 'display_data';\n",
              "          await google.colab.output.renderOutput(dataTable, element);\n",
              "          const docLink = document.createElement('div');\n",
              "          docLink.innerHTML = docLinkHtml;\n",
              "          element.appendChild(docLink);\n",
              "        }\n",
              "      </script>\n",
              "    </div>\n",
              "  </div>\n",
              "  "
            ],
            "text/plain": [
              "         month  year  unit_consumed  price           area  season load\n",
              "0        march  2021            212   5024  North Karachi  summer    7\n",
              "1     february  2021            233   4838  North Karachi  winter    7\n",
              "2      january  2021            260   5450  North Karachi  winter    7\n",
              "3     december  2020            282   5801  North Karachi  winter    7\n",
              "4     november  2020            280   5868  North Karachi  winter    7\n",
              "...        ...   ...            ...    ...            ...     ...  ...\n",
              "2742  december  2020            102    742         saddar  winter    2\n",
              "2743     march  2021            198   1942         saddar  summer    2\n",
              "2744     april  2021            251   3706         saddar  summer    2\n",
              "2745      july  2021            225   3053         saddar  summer    2\n",
              "2746   october  2021            158   1763         saddar  winter    2\n",
              "\n",
              "[2707 rows x 7 columns]"
            ]
          },
          "metadata": {},
          "execution_count": 102
        }
      ]
    },
    {
      "cell_type": "code",
      "metadata": {
        "colab": {
          "base_uri": "https://localhost:8080/"
        },
        "id": "5MCYeA_LcLad",
        "outputId": "06e82dcb-f73d-497b-f6b2-cf720eb8c9f3"
      },
      "source": [
        "df.load.isnull().sum().sum()"
      ],
      "execution_count": null,
      "outputs": [
        {
          "output_type": "execute_result",
          "data": {
            "text/plain": [
              "669"
            ]
          },
          "metadata": {},
          "execution_count": 104
        }
      ]
    },
    {
      "cell_type": "code",
      "metadata": {
        "id": "pOr_XeHocLVk",
        "colab": {
          "base_uri": "https://localhost:8080/",
          "height": 300
        },
        "outputId": "70db2353-9334-4035-90da-e49350e7bb01"
      },
      "source": [
        "df.describe()"
      ],
      "execution_count": null,
      "outputs": [
        {
          "output_type": "execute_result",
          "data": {
            "text/html": [
              "\n",
              "  <div id=\"df-0cac71f3-eba8-48e7-9a25-7776289a3865\">\n",
              "    <div class=\"colab-df-container\">\n",
              "      <div>\n",
              "<style scoped>\n",
              "    .dataframe tbody tr th:only-of-type {\n",
              "        vertical-align: middle;\n",
              "    }\n",
              "\n",
              "    .dataframe tbody tr th {\n",
              "        vertical-align: top;\n",
              "    }\n",
              "\n",
              "    .dataframe thead th {\n",
              "        text-align: right;\n",
              "    }\n",
              "</style>\n",
              "<table border=\"1\" class=\"dataframe\">\n",
              "  <thead>\n",
              "    <tr style=\"text-align: right;\">\n",
              "      <th></th>\n",
              "      <th>year</th>\n",
              "      <th>unit_consumed</th>\n",
              "      <th>price</th>\n",
              "    </tr>\n",
              "  </thead>\n",
              "  <tbody>\n",
              "    <tr>\n",
              "      <th>count</th>\n",
              "      <td>2707.000000</td>\n",
              "      <td>2707.000000</td>\n",
              "      <td>2707.000000</td>\n",
              "    </tr>\n",
              "    <tr>\n",
              "      <th>mean</th>\n",
              "      <td>2019.485039</td>\n",
              "      <td>337.603620</td>\n",
              "      <td>9390.983376</td>\n",
              "    </tr>\n",
              "    <tr>\n",
              "      <th>std</th>\n",
              "      <td>1.075519</td>\n",
              "      <td>335.612034</td>\n",
              "      <td>34672.698383</td>\n",
              "    </tr>\n",
              "    <tr>\n",
              "      <th>min</th>\n",
              "      <td>2018.000000</td>\n",
              "      <td>0.000000</td>\n",
              "      <td>4.000000</td>\n",
              "    </tr>\n",
              "    <tr>\n",
              "      <th>25%</th>\n",
              "      <td>2019.000000</td>\n",
              "      <td>156.000000</td>\n",
              "      <td>1600.000000</td>\n",
              "    </tr>\n",
              "    <tr>\n",
              "      <th>50%</th>\n",
              "      <td>2020.000000</td>\n",
              "      <td>260.000000</td>\n",
              "      <td>2991.000000</td>\n",
              "    </tr>\n",
              "    <tr>\n",
              "      <th>75%</th>\n",
              "      <td>2020.000000</td>\n",
              "      <td>423.000000</td>\n",
              "      <td>6540.000000</td>\n",
              "    </tr>\n",
              "    <tr>\n",
              "      <th>max</th>\n",
              "      <td>2021.000000</td>\n",
              "      <td>7055.000000</td>\n",
              "      <td>344432.000000</td>\n",
              "    </tr>\n",
              "  </tbody>\n",
              "</table>\n",
              "</div>\n",
              "      <button class=\"colab-df-convert\" onclick=\"convertToInteractive('df-0cac71f3-eba8-48e7-9a25-7776289a3865')\"\n",
              "              title=\"Convert this dataframe to an interactive table.\"\n",
              "              style=\"display:none;\">\n",
              "        \n",
              "  <svg xmlns=\"http://www.w3.org/2000/svg\" height=\"24px\"viewBox=\"0 0 24 24\"\n",
              "       width=\"24px\">\n",
              "    <path d=\"M0 0h24v24H0V0z\" fill=\"none\"/>\n",
              "    <path d=\"M18.56 5.44l.94 2.06.94-2.06 2.06-.94-2.06-.94-.94-2.06-.94 2.06-2.06.94zm-11 1L8.5 8.5l.94-2.06 2.06-.94-2.06-.94L8.5 2.5l-.94 2.06-2.06.94zm10 10l.94 2.06.94-2.06 2.06-.94-2.06-.94-.94-2.06-.94 2.06-2.06.94z\"/><path d=\"M17.41 7.96l-1.37-1.37c-.4-.4-.92-.59-1.43-.59-.52 0-1.04.2-1.43.59L10.3 9.45l-7.72 7.72c-.78.78-.78 2.05 0 2.83L4 21.41c.39.39.9.59 1.41.59.51 0 1.02-.2 1.41-.59l7.78-7.78 2.81-2.81c.8-.78.8-2.07 0-2.86zM5.41 20L4 18.59l7.72-7.72 1.47 1.35L5.41 20z\"/>\n",
              "  </svg>\n",
              "      </button>\n",
              "      \n",
              "  <style>\n",
              "    .colab-df-container {\n",
              "      display:flex;\n",
              "      flex-wrap:wrap;\n",
              "      gap: 12px;\n",
              "    }\n",
              "\n",
              "    .colab-df-convert {\n",
              "      background-color: #E8F0FE;\n",
              "      border: none;\n",
              "      border-radius: 50%;\n",
              "      cursor: pointer;\n",
              "      display: none;\n",
              "      fill: #1967D2;\n",
              "      height: 32px;\n",
              "      padding: 0 0 0 0;\n",
              "      width: 32px;\n",
              "    }\n",
              "\n",
              "    .colab-df-convert:hover {\n",
              "      background-color: #E2EBFA;\n",
              "      box-shadow: 0px 1px 2px rgba(60, 64, 67, 0.3), 0px 1px 3px 1px rgba(60, 64, 67, 0.15);\n",
              "      fill: #174EA6;\n",
              "    }\n",
              "\n",
              "    [theme=dark] .colab-df-convert {\n",
              "      background-color: #3B4455;\n",
              "      fill: #D2E3FC;\n",
              "    }\n",
              "\n",
              "    [theme=dark] .colab-df-convert:hover {\n",
              "      background-color: #434B5C;\n",
              "      box-shadow: 0px 1px 3px 1px rgba(0, 0, 0, 0.15);\n",
              "      filter: drop-shadow(0px 1px 2px rgba(0, 0, 0, 0.3));\n",
              "      fill: #FFFFFF;\n",
              "    }\n",
              "  </style>\n",
              "\n",
              "      <script>\n",
              "        const buttonEl =\n",
              "          document.querySelector('#df-0cac71f3-eba8-48e7-9a25-7776289a3865 button.colab-df-convert');\n",
              "        buttonEl.style.display =\n",
              "          google.colab.kernel.accessAllowed ? 'block' : 'none';\n",
              "\n",
              "        async function convertToInteractive(key) {\n",
              "          const element = document.querySelector('#df-0cac71f3-eba8-48e7-9a25-7776289a3865');\n",
              "          const dataTable =\n",
              "            await google.colab.kernel.invokeFunction('convertToInteractive',\n",
              "                                                     [key], {});\n",
              "          if (!dataTable) return;\n",
              "\n",
              "          const docLinkHtml = 'Like what you see? Visit the ' +\n",
              "            '<a target=\"_blank\" href=https://colab.research.google.com/notebooks/data_table.ipynb>data table notebook</a>'\n",
              "            + ' to learn more about interactive tables.';\n",
              "          element.innerHTML = '';\n",
              "          dataTable['output_type'] = 'display_data';\n",
              "          await google.colab.output.renderOutput(dataTable, element);\n",
              "          const docLink = document.createElement('div');\n",
              "          docLink.innerHTML = docLinkHtml;\n",
              "          element.appendChild(docLink);\n",
              "        }\n",
              "      </script>\n",
              "    </div>\n",
              "  </div>\n",
              "  "
            ],
            "text/plain": [
              "              year  unit_consumed          price\n",
              "count  2707.000000    2707.000000    2707.000000\n",
              "mean   2019.485039     337.603620    9390.983376\n",
              "std       1.075519     335.612034   34672.698383\n",
              "min    2018.000000       0.000000       4.000000\n",
              "25%    2019.000000     156.000000    1600.000000\n",
              "50%    2020.000000     260.000000    2991.000000\n",
              "75%    2020.000000     423.000000    6540.000000\n",
              "max    2021.000000    7055.000000  344432.000000"
            ]
          },
          "metadata": {},
          "execution_count": 105
        }
      ]
    },
    {
      "cell_type": "code",
      "metadata": {
        "id": "5MlQl9V4cLMp",
        "colab": {
          "base_uri": "https://localhost:8080/"
        },
        "outputId": "a01cee02-a132-471b-fc58-098a937bade0"
      },
      "source": [
        "df.load.apply(type)\n",
        "\n"
      ],
      "execution_count": null,
      "outputs": [
        {
          "output_type": "execute_result",
          "data": {
            "text/plain": [
              "0       <class 'str'>\n",
              "1       <class 'str'>\n",
              "2       <class 'str'>\n",
              "3       <class 'str'>\n",
              "4       <class 'str'>\n",
              "            ...      \n",
              "2742    <class 'str'>\n",
              "2743    <class 'str'>\n",
              "2744    <class 'str'>\n",
              "2745    <class 'str'>\n",
              "2746    <class 'str'>\n",
              "Name: load, Length: 2707, dtype: object"
            ]
          },
          "metadata": {},
          "execution_count": 106
        }
      ]
    },
    {
      "cell_type": "code",
      "metadata": {
        "colab": {
          "base_uri": "https://localhost:8080/",
          "height": 460
        },
        "id": "FxGAOaKoUqD8",
        "outputId": "6c44b455-012a-46dd-af00-1f762de7cc10"
      },
      "source": [
        "df.load=pd.to_numeric(df.load)\n",
        "#df.loc[1871]"
      ],
      "execution_count": null,
      "outputs": [
        {
          "output_type": "error",
          "ename": "ValueError",
          "evalue": "ignored",
          "traceback": [
            "\u001b[0;31m---------------------------------------------------------------------------\u001b[0m",
            "\u001b[0;31mValueError\u001b[0m                                Traceback (most recent call last)",
            "\u001b[0;32mpandas/_libs/lib.pyx\u001b[0m in \u001b[0;36mpandas._libs.lib.maybe_convert_numeric\u001b[0;34m()\u001b[0m\n",
            "\u001b[0;31mValueError\u001b[0m: Unable to parse string \"1,1\"",
            "\nDuring handling of the above exception, another exception occurred:\n",
            "\u001b[0;31mValueError\u001b[0m                                Traceback (most recent call last)",
            "\u001b[0;32m<ipython-input-107-c26c3314b5fc>\u001b[0m in \u001b[0;36m<module>\u001b[0;34m()\u001b[0m\n\u001b[0;32m----> 1\u001b[0;31m \u001b[0mdf\u001b[0m\u001b[0;34m.\u001b[0m\u001b[0mload\u001b[0m\u001b[0;34m=\u001b[0m\u001b[0mpd\u001b[0m\u001b[0;34m.\u001b[0m\u001b[0mto_numeric\u001b[0m\u001b[0;34m(\u001b[0m\u001b[0mdf\u001b[0m\u001b[0;34m.\u001b[0m\u001b[0mload\u001b[0m\u001b[0;34m)\u001b[0m\u001b[0;34m\u001b[0m\u001b[0;34m\u001b[0m\u001b[0m\n\u001b[0m\u001b[1;32m      2\u001b[0m \u001b[0;31m#df.loc[1871]\u001b[0m\u001b[0;34m\u001b[0m\u001b[0;34m\u001b[0m\u001b[0;34m\u001b[0m\u001b[0m\n",
            "\u001b[0;32m/usr/local/lib/python3.7/dist-packages/pandas/core/tools/numeric.py\u001b[0m in \u001b[0;36mto_numeric\u001b[0;34m(arg, errors, downcast)\u001b[0m\n\u001b[1;32m    151\u001b[0m         \u001b[0;32mtry\u001b[0m\u001b[0;34m:\u001b[0m\u001b[0;34m\u001b[0m\u001b[0;34m\u001b[0m\u001b[0m\n\u001b[1;32m    152\u001b[0m             values = lib.maybe_convert_numeric(\n\u001b[0;32m--> 153\u001b[0;31m                 \u001b[0mvalues\u001b[0m\u001b[0;34m,\u001b[0m \u001b[0mset\u001b[0m\u001b[0;34m(\u001b[0m\u001b[0;34m)\u001b[0m\u001b[0;34m,\u001b[0m \u001b[0mcoerce_numeric\u001b[0m\u001b[0;34m=\u001b[0m\u001b[0mcoerce_numeric\u001b[0m\u001b[0;34m\u001b[0m\u001b[0;34m\u001b[0m\u001b[0m\n\u001b[0m\u001b[1;32m    154\u001b[0m             )\n\u001b[1;32m    155\u001b[0m         \u001b[0;32mexcept\u001b[0m \u001b[0;34m(\u001b[0m\u001b[0mValueError\u001b[0m\u001b[0;34m,\u001b[0m \u001b[0mTypeError\u001b[0m\u001b[0;34m)\u001b[0m\u001b[0;34m:\u001b[0m\u001b[0;34m\u001b[0m\u001b[0;34m\u001b[0m\u001b[0m\n",
            "\u001b[0;32mpandas/_libs/lib.pyx\u001b[0m in \u001b[0;36mpandas._libs.lib.maybe_convert_numeric\u001b[0;34m()\u001b[0m\n",
            "\u001b[0;31mValueError\u001b[0m: Unable to parse string \"1,1\" at position 1831"
          ]
        }
      ]
    },
    {
      "cell_type": "code",
      "metadata": {
        "id": "eu7XN_2YUqAv"
      },
      "source": [
        "df['load']=df['load'].str.replace(',1','').str.replace('KW','')"
      ],
      "execution_count": null,
      "outputs": []
    },
    {
      "cell_type": "code",
      "metadata": {
        "colab": {
          "base_uri": "https://localhost:8080/"
        },
        "id": "LKo9H5ctUp9U",
        "outputId": "82e694f5-a570-4c86-bdbb-bd37afe72d73"
      },
      "source": [
        "df.loc[1871]"
      ],
      "execution_count": null,
      "outputs": [
        {
          "output_type": "execute_result",
          "data": {
            "text/plain": [
              "month                      january\n",
              "year                          2018\n",
              "unit_consumed                  233\n",
              "price                         2806\n",
              "area             A-54 A Area Malir\n",
              "season                      winter\n",
              "load                             1\n",
              "Name: 1871, dtype: object"
            ]
          },
          "metadata": {},
          "execution_count": 109
        }
      ]
    },
    {
      "cell_type": "code",
      "metadata": {
        "id": "DjbVllsAW7X5"
      },
      "source": [
        "df.load=pd.to_numeric(df.load)\n"
      ],
      "execution_count": null,
      "outputs": []
    },
    {
      "cell_type": "code",
      "metadata": {
        "colab": {
          "base_uri": "https://localhost:8080/",
          "height": 311
        },
        "id": "C4xxINLVOnUl",
        "outputId": "4f0fc119-5401-43bc-d3f0-6d4f0a990d5d"
      },
      "source": [
        "df.load=df.load.astype(int)"
      ],
      "execution_count": null,
      "outputs": [
        {
          "output_type": "error",
          "ename": "ValueError",
          "evalue": "ignored",
          "traceback": [
            "\u001b[0;31m---------------------------------------------------------------------------\u001b[0m",
            "\u001b[0;31mValueError\u001b[0m                                Traceback (most recent call last)",
            "\u001b[0;32m<ipython-input-111-1b95cc7147f4>\u001b[0m in \u001b[0;36m<module>\u001b[0;34m()\u001b[0m\n\u001b[0;32m----> 1\u001b[0;31m \u001b[0mdf\u001b[0m\u001b[0;34m.\u001b[0m\u001b[0mload\u001b[0m\u001b[0;34m=\u001b[0m\u001b[0mdf\u001b[0m\u001b[0;34m.\u001b[0m\u001b[0mload\u001b[0m\u001b[0;34m.\u001b[0m\u001b[0mastype\u001b[0m\u001b[0;34m(\u001b[0m\u001b[0mint\u001b[0m\u001b[0;34m)\u001b[0m\u001b[0;34m\u001b[0m\u001b[0;34m\u001b[0m\u001b[0m\n\u001b[0m",
            "\u001b[0;32m/usr/local/lib/python3.7/dist-packages/pandas/core/generic.py\u001b[0m in \u001b[0;36mastype\u001b[0;34m(self, dtype, copy, errors)\u001b[0m\n\u001b[1;32m   5546\u001b[0m         \u001b[0;32melse\u001b[0m\u001b[0;34m:\u001b[0m\u001b[0;34m\u001b[0m\u001b[0;34m\u001b[0m\u001b[0m\n\u001b[1;32m   5547\u001b[0m             \u001b[0;31m# else, only a single dtype is given\u001b[0m\u001b[0;34m\u001b[0m\u001b[0;34m\u001b[0m\u001b[0;34m\u001b[0m\u001b[0m\n\u001b[0;32m-> 5548\u001b[0;31m             \u001b[0mnew_data\u001b[0m \u001b[0;34m=\u001b[0m \u001b[0mself\u001b[0m\u001b[0;34m.\u001b[0m\u001b[0m_mgr\u001b[0m\u001b[0;34m.\u001b[0m\u001b[0mastype\u001b[0m\u001b[0;34m(\u001b[0m\u001b[0mdtype\u001b[0m\u001b[0;34m=\u001b[0m\u001b[0mdtype\u001b[0m\u001b[0;34m,\u001b[0m \u001b[0mcopy\u001b[0m\u001b[0;34m=\u001b[0m\u001b[0mcopy\u001b[0m\u001b[0;34m,\u001b[0m \u001b[0merrors\u001b[0m\u001b[0;34m=\u001b[0m\u001b[0merrors\u001b[0m\u001b[0;34m,\u001b[0m\u001b[0;34m)\u001b[0m\u001b[0;34m\u001b[0m\u001b[0;34m\u001b[0m\u001b[0m\n\u001b[0m\u001b[1;32m   5549\u001b[0m             \u001b[0;32mreturn\u001b[0m \u001b[0mself\u001b[0m\u001b[0;34m.\u001b[0m\u001b[0m_constructor\u001b[0m\u001b[0;34m(\u001b[0m\u001b[0mnew_data\u001b[0m\u001b[0;34m)\u001b[0m\u001b[0;34m.\u001b[0m\u001b[0m__finalize__\u001b[0m\u001b[0;34m(\u001b[0m\u001b[0mself\u001b[0m\u001b[0;34m,\u001b[0m \u001b[0mmethod\u001b[0m\u001b[0;34m=\u001b[0m\u001b[0;34m\"astype\"\u001b[0m\u001b[0;34m)\u001b[0m\u001b[0;34m\u001b[0m\u001b[0;34m\u001b[0m\u001b[0m\n\u001b[1;32m   5550\u001b[0m \u001b[0;34m\u001b[0m\u001b[0m\n",
            "\u001b[0;32m/usr/local/lib/python3.7/dist-packages/pandas/core/internals/managers.py\u001b[0m in \u001b[0;36mastype\u001b[0;34m(self, dtype, copy, errors)\u001b[0m\n\u001b[1;32m    602\u001b[0m         \u001b[0mself\u001b[0m\u001b[0;34m,\u001b[0m \u001b[0mdtype\u001b[0m\u001b[0;34m,\u001b[0m \u001b[0mcopy\u001b[0m\u001b[0;34m:\u001b[0m \u001b[0mbool\u001b[0m \u001b[0;34m=\u001b[0m \u001b[0;32mFalse\u001b[0m\u001b[0;34m,\u001b[0m \u001b[0merrors\u001b[0m\u001b[0;34m:\u001b[0m \u001b[0mstr\u001b[0m \u001b[0;34m=\u001b[0m \u001b[0;34m\"raise\"\u001b[0m\u001b[0;34m\u001b[0m\u001b[0;34m\u001b[0m\u001b[0m\n\u001b[1;32m    603\u001b[0m     ) -> \"BlockManager\":\n\u001b[0;32m--> 604\u001b[0;31m         \u001b[0;32mreturn\u001b[0m \u001b[0mself\u001b[0m\u001b[0;34m.\u001b[0m\u001b[0mapply\u001b[0m\u001b[0;34m(\u001b[0m\u001b[0;34m\"astype\"\u001b[0m\u001b[0;34m,\u001b[0m \u001b[0mdtype\u001b[0m\u001b[0;34m=\u001b[0m\u001b[0mdtype\u001b[0m\u001b[0;34m,\u001b[0m \u001b[0mcopy\u001b[0m\u001b[0;34m=\u001b[0m\u001b[0mcopy\u001b[0m\u001b[0;34m,\u001b[0m \u001b[0merrors\u001b[0m\u001b[0;34m=\u001b[0m\u001b[0merrors\u001b[0m\u001b[0;34m)\u001b[0m\u001b[0;34m\u001b[0m\u001b[0;34m\u001b[0m\u001b[0m\n\u001b[0m\u001b[1;32m    605\u001b[0m \u001b[0;34m\u001b[0m\u001b[0m\n\u001b[1;32m    606\u001b[0m     def convert(\n",
            "\u001b[0;32m/usr/local/lib/python3.7/dist-packages/pandas/core/internals/managers.py\u001b[0m in \u001b[0;36mapply\u001b[0;34m(self, f, align_keys, **kwargs)\u001b[0m\n\u001b[1;32m    407\u001b[0m                 \u001b[0mapplied\u001b[0m \u001b[0;34m=\u001b[0m \u001b[0mb\u001b[0m\u001b[0;34m.\u001b[0m\u001b[0mapply\u001b[0m\u001b[0;34m(\u001b[0m\u001b[0mf\u001b[0m\u001b[0;34m,\u001b[0m \u001b[0;34m**\u001b[0m\u001b[0mkwargs\u001b[0m\u001b[0;34m)\u001b[0m\u001b[0;34m\u001b[0m\u001b[0;34m\u001b[0m\u001b[0m\n\u001b[1;32m    408\u001b[0m             \u001b[0;32melse\u001b[0m\u001b[0;34m:\u001b[0m\u001b[0;34m\u001b[0m\u001b[0;34m\u001b[0m\u001b[0m\n\u001b[0;32m--> 409\u001b[0;31m                 \u001b[0mapplied\u001b[0m \u001b[0;34m=\u001b[0m \u001b[0mgetattr\u001b[0m\u001b[0;34m(\u001b[0m\u001b[0mb\u001b[0m\u001b[0;34m,\u001b[0m \u001b[0mf\u001b[0m\u001b[0;34m)\u001b[0m\u001b[0;34m(\u001b[0m\u001b[0;34m**\u001b[0m\u001b[0mkwargs\u001b[0m\u001b[0;34m)\u001b[0m\u001b[0;34m\u001b[0m\u001b[0;34m\u001b[0m\u001b[0m\n\u001b[0m\u001b[1;32m    410\u001b[0m             \u001b[0mresult_blocks\u001b[0m \u001b[0;34m=\u001b[0m \u001b[0m_extend_blocks\u001b[0m\u001b[0;34m(\u001b[0m\u001b[0mapplied\u001b[0m\u001b[0;34m,\u001b[0m \u001b[0mresult_blocks\u001b[0m\u001b[0;34m)\u001b[0m\u001b[0;34m\u001b[0m\u001b[0;34m\u001b[0m\u001b[0m\n\u001b[1;32m    411\u001b[0m \u001b[0;34m\u001b[0m\u001b[0m\n",
            "\u001b[0;32m/usr/local/lib/python3.7/dist-packages/pandas/core/internals/blocks.py\u001b[0m in \u001b[0;36mastype\u001b[0;34m(self, dtype, copy, errors)\u001b[0m\n\u001b[1;32m    593\u001b[0m             \u001b[0mvals1d\u001b[0m \u001b[0;34m=\u001b[0m \u001b[0mvalues\u001b[0m\u001b[0;34m.\u001b[0m\u001b[0mravel\u001b[0m\u001b[0;34m(\u001b[0m\u001b[0;34m)\u001b[0m\u001b[0;34m\u001b[0m\u001b[0;34m\u001b[0m\u001b[0m\n\u001b[1;32m    594\u001b[0m             \u001b[0;32mtry\u001b[0m\u001b[0;34m:\u001b[0m\u001b[0;34m\u001b[0m\u001b[0;34m\u001b[0m\u001b[0m\n\u001b[0;32m--> 595\u001b[0;31m                 \u001b[0mvalues\u001b[0m \u001b[0;34m=\u001b[0m \u001b[0mastype_nansafe\u001b[0m\u001b[0;34m(\u001b[0m\u001b[0mvals1d\u001b[0m\u001b[0;34m,\u001b[0m \u001b[0mdtype\u001b[0m\u001b[0;34m,\u001b[0m \u001b[0mcopy\u001b[0m\u001b[0;34m=\u001b[0m\u001b[0;32mTrue\u001b[0m\u001b[0;34m)\u001b[0m\u001b[0;34m\u001b[0m\u001b[0;34m\u001b[0m\u001b[0m\n\u001b[0m\u001b[1;32m    596\u001b[0m             \u001b[0;32mexcept\u001b[0m \u001b[0;34m(\u001b[0m\u001b[0mValueError\u001b[0m\u001b[0;34m,\u001b[0m \u001b[0mTypeError\u001b[0m\u001b[0;34m)\u001b[0m\u001b[0;34m:\u001b[0m\u001b[0;34m\u001b[0m\u001b[0;34m\u001b[0m\u001b[0m\n\u001b[1;32m    597\u001b[0m                 \u001b[0;31m# e.g. astype_nansafe can fail on object-dtype of strings\u001b[0m\u001b[0;34m\u001b[0m\u001b[0;34m\u001b[0m\u001b[0;34m\u001b[0m\u001b[0m\n",
            "\u001b[0;32m/usr/local/lib/python3.7/dist-packages/pandas/core/dtypes/cast.py\u001b[0m in \u001b[0;36mastype_nansafe\u001b[0;34m(arr, dtype, copy, skipna)\u001b[0m\n\u001b[1;32m    966\u001b[0m \u001b[0;34m\u001b[0m\u001b[0m\n\u001b[1;32m    967\u001b[0m         \u001b[0;32mif\u001b[0m \u001b[0;32mnot\u001b[0m \u001b[0mnp\u001b[0m\u001b[0;34m.\u001b[0m\u001b[0misfinite\u001b[0m\u001b[0;34m(\u001b[0m\u001b[0marr\u001b[0m\u001b[0;34m)\u001b[0m\u001b[0;34m.\u001b[0m\u001b[0mall\u001b[0m\u001b[0;34m(\u001b[0m\u001b[0;34m)\u001b[0m\u001b[0;34m:\u001b[0m\u001b[0;34m\u001b[0m\u001b[0;34m\u001b[0m\u001b[0m\n\u001b[0;32m--> 968\u001b[0;31m             \u001b[0;32mraise\u001b[0m \u001b[0mValueError\u001b[0m\u001b[0;34m(\u001b[0m\u001b[0;34m\"Cannot convert non-finite values (NA or inf) to integer\"\u001b[0m\u001b[0;34m)\u001b[0m\u001b[0;34m\u001b[0m\u001b[0;34m\u001b[0m\u001b[0m\n\u001b[0m\u001b[1;32m    969\u001b[0m \u001b[0;34m\u001b[0m\u001b[0m\n\u001b[1;32m    970\u001b[0m     \u001b[0;32melif\u001b[0m \u001b[0mis_object_dtype\u001b[0m\u001b[0;34m(\u001b[0m\u001b[0marr\u001b[0m\u001b[0;34m)\u001b[0m\u001b[0;34m:\u001b[0m\u001b[0;34m\u001b[0m\u001b[0;34m\u001b[0m\u001b[0m\n",
            "\u001b[0;31mValueError\u001b[0m: Cannot convert non-finite values (NA or inf) to integer"
          ]
        }
      ]
    },
    {
      "cell_type": "code",
      "metadata": {
        "id": "jgYt4FzhNvNu"
      },
      "source": [
        "df.isnull().sum()"
      ],
      "execution_count": null,
      "outputs": []
    },
    {
      "cell_type": "code",
      "metadata": {
        "id": "YRRkj4o3W7PW",
        "colab": {
          "base_uri": "https://localhost:8080/",
          "height": 300
        },
        "outputId": "15adf3ff-c966-4af0-b836-0f85fb0c2713"
      },
      "source": [
        "df.describe()"
      ],
      "execution_count": null,
      "outputs": [
        {
          "output_type": "execute_result",
          "data": {
            "text/html": [
              "\n",
              "  <div id=\"df-dc5973a2-ec59-48d7-ae28-f0158c6f2b0a\">\n",
              "    <div class=\"colab-df-container\">\n",
              "      <div>\n",
              "<style scoped>\n",
              "    .dataframe tbody tr th:only-of-type {\n",
              "        vertical-align: middle;\n",
              "    }\n",
              "\n",
              "    .dataframe tbody tr th {\n",
              "        vertical-align: top;\n",
              "    }\n",
              "\n",
              "    .dataframe thead th {\n",
              "        text-align: right;\n",
              "    }\n",
              "</style>\n",
              "<table border=\"1\" class=\"dataframe\">\n",
              "  <thead>\n",
              "    <tr style=\"text-align: right;\">\n",
              "      <th></th>\n",
              "      <th>year</th>\n",
              "      <th>unit_consumed</th>\n",
              "      <th>price</th>\n",
              "      <th>load</th>\n",
              "    </tr>\n",
              "  </thead>\n",
              "  <tbody>\n",
              "    <tr>\n",
              "      <th>count</th>\n",
              "      <td>2707.000000</td>\n",
              "      <td>2707.000000</td>\n",
              "      <td>2707.000000</td>\n",
              "      <td>1998.000000</td>\n",
              "    </tr>\n",
              "    <tr>\n",
              "      <th>mean</th>\n",
              "      <td>2019.485039</td>\n",
              "      <td>337.603620</td>\n",
              "      <td>9390.983376</td>\n",
              "      <td>11.968468</td>\n",
              "    </tr>\n",
              "    <tr>\n",
              "      <th>std</th>\n",
              "      <td>1.075519</td>\n",
              "      <td>335.612034</td>\n",
              "      <td>34672.698383</td>\n",
              "      <td>44.099293</td>\n",
              "    </tr>\n",
              "    <tr>\n",
              "      <th>min</th>\n",
              "      <td>2018.000000</td>\n",
              "      <td>0.000000</td>\n",
              "      <td>4.000000</td>\n",
              "      <td>1.000000</td>\n",
              "    </tr>\n",
              "    <tr>\n",
              "      <th>25%</th>\n",
              "      <td>2019.000000</td>\n",
              "      <td>156.000000</td>\n",
              "      <td>1600.000000</td>\n",
              "      <td>1.000000</td>\n",
              "    </tr>\n",
              "    <tr>\n",
              "      <th>50%</th>\n",
              "      <td>2020.000000</td>\n",
              "      <td>260.000000</td>\n",
              "      <td>2991.000000</td>\n",
              "      <td>3.000000</td>\n",
              "    </tr>\n",
              "    <tr>\n",
              "      <th>75%</th>\n",
              "      <td>2020.000000</td>\n",
              "      <td>423.000000</td>\n",
              "      <td>6540.000000</td>\n",
              "      <td>5.000000</td>\n",
              "    </tr>\n",
              "    <tr>\n",
              "      <th>max</th>\n",
              "      <td>2021.000000</td>\n",
              "      <td>7055.000000</td>\n",
              "      <td>344432.000000</td>\n",
              "      <td>235.000000</td>\n",
              "    </tr>\n",
              "  </tbody>\n",
              "</table>\n",
              "</div>\n",
              "      <button class=\"colab-df-convert\" onclick=\"convertToInteractive('df-dc5973a2-ec59-48d7-ae28-f0158c6f2b0a')\"\n",
              "              title=\"Convert this dataframe to an interactive table.\"\n",
              "              style=\"display:none;\">\n",
              "        \n",
              "  <svg xmlns=\"http://www.w3.org/2000/svg\" height=\"24px\"viewBox=\"0 0 24 24\"\n",
              "       width=\"24px\">\n",
              "    <path d=\"M0 0h24v24H0V0z\" fill=\"none\"/>\n",
              "    <path d=\"M18.56 5.44l.94 2.06.94-2.06 2.06-.94-2.06-.94-.94-2.06-.94 2.06-2.06.94zm-11 1L8.5 8.5l.94-2.06 2.06-.94-2.06-.94L8.5 2.5l-.94 2.06-2.06.94zm10 10l.94 2.06.94-2.06 2.06-.94-2.06-.94-.94-2.06-.94 2.06-2.06.94z\"/><path d=\"M17.41 7.96l-1.37-1.37c-.4-.4-.92-.59-1.43-.59-.52 0-1.04.2-1.43.59L10.3 9.45l-7.72 7.72c-.78.78-.78 2.05 0 2.83L4 21.41c.39.39.9.59 1.41.59.51 0 1.02-.2 1.41-.59l7.78-7.78 2.81-2.81c.8-.78.8-2.07 0-2.86zM5.41 20L4 18.59l7.72-7.72 1.47 1.35L5.41 20z\"/>\n",
              "  </svg>\n",
              "      </button>\n",
              "      \n",
              "  <style>\n",
              "    .colab-df-container {\n",
              "      display:flex;\n",
              "      flex-wrap:wrap;\n",
              "      gap: 12px;\n",
              "    }\n",
              "\n",
              "    .colab-df-convert {\n",
              "      background-color: #E8F0FE;\n",
              "      border: none;\n",
              "      border-radius: 50%;\n",
              "      cursor: pointer;\n",
              "      display: none;\n",
              "      fill: #1967D2;\n",
              "      height: 32px;\n",
              "      padding: 0 0 0 0;\n",
              "      width: 32px;\n",
              "    }\n",
              "\n",
              "    .colab-df-convert:hover {\n",
              "      background-color: #E2EBFA;\n",
              "      box-shadow: 0px 1px 2px rgba(60, 64, 67, 0.3), 0px 1px 3px 1px rgba(60, 64, 67, 0.15);\n",
              "      fill: #174EA6;\n",
              "    }\n",
              "\n",
              "    [theme=dark] .colab-df-convert {\n",
              "      background-color: #3B4455;\n",
              "      fill: #D2E3FC;\n",
              "    }\n",
              "\n",
              "    [theme=dark] .colab-df-convert:hover {\n",
              "      background-color: #434B5C;\n",
              "      box-shadow: 0px 1px 3px 1px rgba(0, 0, 0, 0.15);\n",
              "      filter: drop-shadow(0px 1px 2px rgba(0, 0, 0, 0.3));\n",
              "      fill: #FFFFFF;\n",
              "    }\n",
              "  </style>\n",
              "\n",
              "      <script>\n",
              "        const buttonEl =\n",
              "          document.querySelector('#df-dc5973a2-ec59-48d7-ae28-f0158c6f2b0a button.colab-df-convert');\n",
              "        buttonEl.style.display =\n",
              "          google.colab.kernel.accessAllowed ? 'block' : 'none';\n",
              "\n",
              "        async function convertToInteractive(key) {\n",
              "          const element = document.querySelector('#df-dc5973a2-ec59-48d7-ae28-f0158c6f2b0a');\n",
              "          const dataTable =\n",
              "            await google.colab.kernel.invokeFunction('convertToInteractive',\n",
              "                                                     [key], {});\n",
              "          if (!dataTable) return;\n",
              "\n",
              "          const docLinkHtml = 'Like what you see? Visit the ' +\n",
              "            '<a target=\"_blank\" href=https://colab.research.google.com/notebooks/data_table.ipynb>data table notebook</a>'\n",
              "            + ' to learn more about interactive tables.';\n",
              "          element.innerHTML = '';\n",
              "          dataTable['output_type'] = 'display_data';\n",
              "          await google.colab.output.renderOutput(dataTable, element);\n",
              "          const docLink = document.createElement('div');\n",
              "          docLink.innerHTML = docLinkHtml;\n",
              "          element.appendChild(docLink);\n",
              "        }\n",
              "      </script>\n",
              "    </div>\n",
              "  </div>\n",
              "  "
            ],
            "text/plain": [
              "              year  unit_consumed          price         load\n",
              "count  2707.000000    2707.000000    2707.000000  1998.000000\n",
              "mean   2019.485039     337.603620    9390.983376    11.968468\n",
              "std       1.075519     335.612034   34672.698383    44.099293\n",
              "min    2018.000000       0.000000       4.000000     1.000000\n",
              "25%    2019.000000     156.000000    1600.000000     1.000000\n",
              "50%    2020.000000     260.000000    2991.000000     3.000000\n",
              "75%    2020.000000     423.000000    6540.000000     5.000000\n",
              "max    2021.000000    7055.000000  344432.000000   235.000000"
            ]
          },
          "metadata": {},
          "execution_count": 112
        }
      ]
    },
    {
      "cell_type": "code",
      "metadata": {
        "id": "wcXEtiyBPXrP"
      },
      "source": [
        "df.drop(['load'],inplace=True,axis=1)"
      ],
      "execution_count": null,
      "outputs": []
    },
    {
      "cell_type": "code",
      "metadata": {
        "colab": {
          "base_uri": "https://localhost:8080/",
          "height": 300
        },
        "id": "jB56BgttPXgo",
        "outputId": "6863a2e4-560a-4ba0-be6a-e703e771cfb7"
      },
      "source": [
        "df.describe()"
      ],
      "execution_count": null,
      "outputs": [
        {
          "output_type": "execute_result",
          "data": {
            "text/html": [
              "\n",
              "  <div id=\"df-0328495b-4df6-4c45-93f8-4b57aa3a466c\">\n",
              "    <div class=\"colab-df-container\">\n",
              "      <div>\n",
              "<style scoped>\n",
              "    .dataframe tbody tr th:only-of-type {\n",
              "        vertical-align: middle;\n",
              "    }\n",
              "\n",
              "    .dataframe tbody tr th {\n",
              "        vertical-align: top;\n",
              "    }\n",
              "\n",
              "    .dataframe thead th {\n",
              "        text-align: right;\n",
              "    }\n",
              "</style>\n",
              "<table border=\"1\" class=\"dataframe\">\n",
              "  <thead>\n",
              "    <tr style=\"text-align: right;\">\n",
              "      <th></th>\n",
              "      <th>year</th>\n",
              "      <th>unit_consumed</th>\n",
              "      <th>price</th>\n",
              "    </tr>\n",
              "  </thead>\n",
              "  <tbody>\n",
              "    <tr>\n",
              "      <th>count</th>\n",
              "      <td>2707.000000</td>\n",
              "      <td>2707.000000</td>\n",
              "      <td>2707.000000</td>\n",
              "    </tr>\n",
              "    <tr>\n",
              "      <th>mean</th>\n",
              "      <td>2019.485039</td>\n",
              "      <td>337.603620</td>\n",
              "      <td>9390.983376</td>\n",
              "    </tr>\n",
              "    <tr>\n",
              "      <th>std</th>\n",
              "      <td>1.075519</td>\n",
              "      <td>335.612034</td>\n",
              "      <td>34672.698383</td>\n",
              "    </tr>\n",
              "    <tr>\n",
              "      <th>min</th>\n",
              "      <td>2018.000000</td>\n",
              "      <td>0.000000</td>\n",
              "      <td>4.000000</td>\n",
              "    </tr>\n",
              "    <tr>\n",
              "      <th>25%</th>\n",
              "      <td>2019.000000</td>\n",
              "      <td>156.000000</td>\n",
              "      <td>1600.000000</td>\n",
              "    </tr>\n",
              "    <tr>\n",
              "      <th>50%</th>\n",
              "      <td>2020.000000</td>\n",
              "      <td>260.000000</td>\n",
              "      <td>2991.000000</td>\n",
              "    </tr>\n",
              "    <tr>\n",
              "      <th>75%</th>\n",
              "      <td>2020.000000</td>\n",
              "      <td>423.000000</td>\n",
              "      <td>6540.000000</td>\n",
              "    </tr>\n",
              "    <tr>\n",
              "      <th>max</th>\n",
              "      <td>2021.000000</td>\n",
              "      <td>7055.000000</td>\n",
              "      <td>344432.000000</td>\n",
              "    </tr>\n",
              "  </tbody>\n",
              "</table>\n",
              "</div>\n",
              "      <button class=\"colab-df-convert\" onclick=\"convertToInteractive('df-0328495b-4df6-4c45-93f8-4b57aa3a466c')\"\n",
              "              title=\"Convert this dataframe to an interactive table.\"\n",
              "              style=\"display:none;\">\n",
              "        \n",
              "  <svg xmlns=\"http://www.w3.org/2000/svg\" height=\"24px\"viewBox=\"0 0 24 24\"\n",
              "       width=\"24px\">\n",
              "    <path d=\"M0 0h24v24H0V0z\" fill=\"none\"/>\n",
              "    <path d=\"M18.56 5.44l.94 2.06.94-2.06 2.06-.94-2.06-.94-.94-2.06-.94 2.06-2.06.94zm-11 1L8.5 8.5l.94-2.06 2.06-.94-2.06-.94L8.5 2.5l-.94 2.06-2.06.94zm10 10l.94 2.06.94-2.06 2.06-.94-2.06-.94-.94-2.06-.94 2.06-2.06.94z\"/><path d=\"M17.41 7.96l-1.37-1.37c-.4-.4-.92-.59-1.43-.59-.52 0-1.04.2-1.43.59L10.3 9.45l-7.72 7.72c-.78.78-.78 2.05 0 2.83L4 21.41c.39.39.9.59 1.41.59.51 0 1.02-.2 1.41-.59l7.78-7.78 2.81-2.81c.8-.78.8-2.07 0-2.86zM5.41 20L4 18.59l7.72-7.72 1.47 1.35L5.41 20z\"/>\n",
              "  </svg>\n",
              "      </button>\n",
              "      \n",
              "  <style>\n",
              "    .colab-df-container {\n",
              "      display:flex;\n",
              "      flex-wrap:wrap;\n",
              "      gap: 12px;\n",
              "    }\n",
              "\n",
              "    .colab-df-convert {\n",
              "      background-color: #E8F0FE;\n",
              "      border: none;\n",
              "      border-radius: 50%;\n",
              "      cursor: pointer;\n",
              "      display: none;\n",
              "      fill: #1967D2;\n",
              "      height: 32px;\n",
              "      padding: 0 0 0 0;\n",
              "      width: 32px;\n",
              "    }\n",
              "\n",
              "    .colab-df-convert:hover {\n",
              "      background-color: #E2EBFA;\n",
              "      box-shadow: 0px 1px 2px rgba(60, 64, 67, 0.3), 0px 1px 3px 1px rgba(60, 64, 67, 0.15);\n",
              "      fill: #174EA6;\n",
              "    }\n",
              "\n",
              "    [theme=dark] .colab-df-convert {\n",
              "      background-color: #3B4455;\n",
              "      fill: #D2E3FC;\n",
              "    }\n",
              "\n",
              "    [theme=dark] .colab-df-convert:hover {\n",
              "      background-color: #434B5C;\n",
              "      box-shadow: 0px 1px 3px 1px rgba(0, 0, 0, 0.15);\n",
              "      filter: drop-shadow(0px 1px 2px rgba(0, 0, 0, 0.3));\n",
              "      fill: #FFFFFF;\n",
              "    }\n",
              "  </style>\n",
              "\n",
              "      <script>\n",
              "        const buttonEl =\n",
              "          document.querySelector('#df-0328495b-4df6-4c45-93f8-4b57aa3a466c button.colab-df-convert');\n",
              "        buttonEl.style.display =\n",
              "          google.colab.kernel.accessAllowed ? 'block' : 'none';\n",
              "\n",
              "        async function convertToInteractive(key) {\n",
              "          const element = document.querySelector('#df-0328495b-4df6-4c45-93f8-4b57aa3a466c');\n",
              "          const dataTable =\n",
              "            await google.colab.kernel.invokeFunction('convertToInteractive',\n",
              "                                                     [key], {});\n",
              "          if (!dataTable) return;\n",
              "\n",
              "          const docLinkHtml = 'Like what you see? Visit the ' +\n",
              "            '<a target=\"_blank\" href=https://colab.research.google.com/notebooks/data_table.ipynb>data table notebook</a>'\n",
              "            + ' to learn more about interactive tables.';\n",
              "          element.innerHTML = '';\n",
              "          dataTable['output_type'] = 'display_data';\n",
              "          await google.colab.output.renderOutput(dataTable, element);\n",
              "          const docLink = document.createElement('div');\n",
              "          docLink.innerHTML = docLinkHtml;\n",
              "          element.appendChild(docLink);\n",
              "        }\n",
              "      </script>\n",
              "    </div>\n",
              "  </div>\n",
              "  "
            ],
            "text/plain": [
              "              year  unit_consumed          price\n",
              "count  2707.000000    2707.000000    2707.000000\n",
              "mean   2019.485039     337.603620    9390.983376\n",
              "std       1.075519     335.612034   34672.698383\n",
              "min    2018.000000       0.000000       4.000000\n",
              "25%    2019.000000     156.000000    1600.000000\n",
              "50%    2020.000000     260.000000    2991.000000\n",
              "75%    2020.000000     423.000000    6540.000000\n",
              "max    2021.000000    7055.000000  344432.000000"
            ]
          },
          "metadata": {},
          "execution_count": 114
        }
      ]
    },
    {
      "cell_type": "code",
      "metadata": {
        "id": "oyWqYKhsRu-O",
        "colab": {
          "base_uri": "https://localhost:8080/",
          "height": 423
        },
        "outputId": "fa6440dc-5d02-484d-b1cd-73acc0678adb"
      },
      "source": [
        "df.loc[1655:2000]"
      ],
      "execution_count": null,
      "outputs": [
        {
          "output_type": "execute_result",
          "data": {
            "text/html": [
              "\n",
              "  <div id=\"df-54bdd2b1-70be-459f-91d3-91e276b8aea0\">\n",
              "    <div class=\"colab-df-container\">\n",
              "      <div>\n",
              "<style scoped>\n",
              "    .dataframe tbody tr th:only-of-type {\n",
              "        vertical-align: middle;\n",
              "    }\n",
              "\n",
              "    .dataframe tbody tr th {\n",
              "        vertical-align: top;\n",
              "    }\n",
              "\n",
              "    .dataframe thead th {\n",
              "        text-align: right;\n",
              "    }\n",
              "</style>\n",
              "<table border=\"1\" class=\"dataframe\">\n",
              "  <thead>\n",
              "    <tr style=\"text-align: right;\">\n",
              "      <th></th>\n",
              "      <th>month</th>\n",
              "      <th>year</th>\n",
              "      <th>unit_consumed</th>\n",
              "      <th>price</th>\n",
              "      <th>area</th>\n",
              "      <th>season</th>\n",
              "    </tr>\n",
              "  </thead>\n",
              "  <tbody>\n",
              "    <tr>\n",
              "      <th>1655</th>\n",
              "      <td>january</td>\n",
              "      <td>2020</td>\n",
              "      <td>137</td>\n",
              "      <td>1433</td>\n",
              "      <td>FB AREA (GULBERGH)</td>\n",
              "      <td>winter</td>\n",
              "    </tr>\n",
              "    <tr>\n",
              "      <th>1656</th>\n",
              "      <td>february</td>\n",
              "      <td>2020</td>\n",
              "      <td>105</td>\n",
              "      <td>1261</td>\n",
              "      <td>FB AREA (GULBERGH)</td>\n",
              "      <td>winter</td>\n",
              "    </tr>\n",
              "    <tr>\n",
              "      <th>1657</th>\n",
              "      <td>march</td>\n",
              "      <td>2020</td>\n",
              "      <td>164</td>\n",
              "      <td>1973</td>\n",
              "      <td>FB AREA (GULBERGH)</td>\n",
              "      <td>summer</td>\n",
              "    </tr>\n",
              "    <tr>\n",
              "      <th>1658</th>\n",
              "      <td>april</td>\n",
              "      <td>2020</td>\n",
              "      <td>198</td>\n",
              "      <td>2204</td>\n",
              "      <td>FB AREA (GULBERGH)</td>\n",
              "      <td>summer</td>\n",
              "    </tr>\n",
              "    <tr>\n",
              "      <th>1659</th>\n",
              "      <td>may</td>\n",
              "      <td>2020</td>\n",
              "      <td>280</td>\n",
              "      <td>3527</td>\n",
              "      <td>FB AREA (GULBERGH)</td>\n",
              "      <td>summer</td>\n",
              "    </tr>\n",
              "    <tr>\n",
              "      <th>...</th>\n",
              "      <td>...</td>\n",
              "      <td>...</td>\n",
              "      <td>...</td>\n",
              "      <td>...</td>\n",
              "      <td>...</td>\n",
              "      <td>...</td>\n",
              "    </tr>\n",
              "    <tr>\n",
              "      <th>1996</th>\n",
              "      <td>july</td>\n",
              "      <td>2019</td>\n",
              "      <td>522</td>\n",
              "      <td>8980</td>\n",
              "      <td>North Nazimabad</td>\n",
              "      <td>summer</td>\n",
              "    </tr>\n",
              "    <tr>\n",
              "      <th>1997</th>\n",
              "      <td>august</td>\n",
              "      <td>2019</td>\n",
              "      <td>389</td>\n",
              "      <td>6730</td>\n",
              "      <td>North Nazimabad</td>\n",
              "      <td>summer</td>\n",
              "    </tr>\n",
              "    <tr>\n",
              "      <th>1998</th>\n",
              "      <td>september</td>\n",
              "      <td>2019</td>\n",
              "      <td>557</td>\n",
              "      <td>9675</td>\n",
              "      <td>North Nazimabad</td>\n",
              "      <td>summer</td>\n",
              "    </tr>\n",
              "    <tr>\n",
              "      <th>1999</th>\n",
              "      <td>october</td>\n",
              "      <td>2019</td>\n",
              "      <td>405</td>\n",
              "      <td>7048</td>\n",
              "      <td>North Nazimabad</td>\n",
              "      <td>winter</td>\n",
              "    </tr>\n",
              "    <tr>\n",
              "      <th>2000</th>\n",
              "      <td>november</td>\n",
              "      <td>2019</td>\n",
              "      <td>187</td>\n",
              "      <td>3304</td>\n",
              "      <td>North Nazimabad</td>\n",
              "      <td>winter</td>\n",
              "    </tr>\n",
              "  </tbody>\n",
              "</table>\n",
              "<p>346 rows × 6 columns</p>\n",
              "</div>\n",
              "      <button class=\"colab-df-convert\" onclick=\"convertToInteractive('df-54bdd2b1-70be-459f-91d3-91e276b8aea0')\"\n",
              "              title=\"Convert this dataframe to an interactive table.\"\n",
              "              style=\"display:none;\">\n",
              "        \n",
              "  <svg xmlns=\"http://www.w3.org/2000/svg\" height=\"24px\"viewBox=\"0 0 24 24\"\n",
              "       width=\"24px\">\n",
              "    <path d=\"M0 0h24v24H0V0z\" fill=\"none\"/>\n",
              "    <path d=\"M18.56 5.44l.94 2.06.94-2.06 2.06-.94-2.06-.94-.94-2.06-.94 2.06-2.06.94zm-11 1L8.5 8.5l.94-2.06 2.06-.94-2.06-.94L8.5 2.5l-.94 2.06-2.06.94zm10 10l.94 2.06.94-2.06 2.06-.94-2.06-.94-.94-2.06-.94 2.06-2.06.94z\"/><path d=\"M17.41 7.96l-1.37-1.37c-.4-.4-.92-.59-1.43-.59-.52 0-1.04.2-1.43.59L10.3 9.45l-7.72 7.72c-.78.78-.78 2.05 0 2.83L4 21.41c.39.39.9.59 1.41.59.51 0 1.02-.2 1.41-.59l7.78-7.78 2.81-2.81c.8-.78.8-2.07 0-2.86zM5.41 20L4 18.59l7.72-7.72 1.47 1.35L5.41 20z\"/>\n",
              "  </svg>\n",
              "      </button>\n",
              "      \n",
              "  <style>\n",
              "    .colab-df-container {\n",
              "      display:flex;\n",
              "      flex-wrap:wrap;\n",
              "      gap: 12px;\n",
              "    }\n",
              "\n",
              "    .colab-df-convert {\n",
              "      background-color: #E8F0FE;\n",
              "      border: none;\n",
              "      border-radius: 50%;\n",
              "      cursor: pointer;\n",
              "      display: none;\n",
              "      fill: #1967D2;\n",
              "      height: 32px;\n",
              "      padding: 0 0 0 0;\n",
              "      width: 32px;\n",
              "    }\n",
              "\n",
              "    .colab-df-convert:hover {\n",
              "      background-color: #E2EBFA;\n",
              "      box-shadow: 0px 1px 2px rgba(60, 64, 67, 0.3), 0px 1px 3px 1px rgba(60, 64, 67, 0.15);\n",
              "      fill: #174EA6;\n",
              "    }\n",
              "\n",
              "    [theme=dark] .colab-df-convert {\n",
              "      background-color: #3B4455;\n",
              "      fill: #D2E3FC;\n",
              "    }\n",
              "\n",
              "    [theme=dark] .colab-df-convert:hover {\n",
              "      background-color: #434B5C;\n",
              "      box-shadow: 0px 1px 3px 1px rgba(0, 0, 0, 0.15);\n",
              "      filter: drop-shadow(0px 1px 2px rgba(0, 0, 0, 0.3));\n",
              "      fill: #FFFFFF;\n",
              "    }\n",
              "  </style>\n",
              "\n",
              "      <script>\n",
              "        const buttonEl =\n",
              "          document.querySelector('#df-54bdd2b1-70be-459f-91d3-91e276b8aea0 button.colab-df-convert');\n",
              "        buttonEl.style.display =\n",
              "          google.colab.kernel.accessAllowed ? 'block' : 'none';\n",
              "\n",
              "        async function convertToInteractive(key) {\n",
              "          const element = document.querySelector('#df-54bdd2b1-70be-459f-91d3-91e276b8aea0');\n",
              "          const dataTable =\n",
              "            await google.colab.kernel.invokeFunction('convertToInteractive',\n",
              "                                                     [key], {});\n",
              "          if (!dataTable) return;\n",
              "\n",
              "          const docLinkHtml = 'Like what you see? Visit the ' +\n",
              "            '<a target=\"_blank\" href=https://colab.research.google.com/notebooks/data_table.ipynb>data table notebook</a>'\n",
              "            + ' to learn more about interactive tables.';\n",
              "          element.innerHTML = '';\n",
              "          dataTable['output_type'] = 'display_data';\n",
              "          await google.colab.output.renderOutput(dataTable, element);\n",
              "          const docLink = document.createElement('div');\n",
              "          docLink.innerHTML = docLinkHtml;\n",
              "          element.appendChild(docLink);\n",
              "        }\n",
              "      </script>\n",
              "    </div>\n",
              "  </div>\n",
              "  "
            ],
            "text/plain": [
              "          month  year  unit_consumed  price                area  season\n",
              "1655    january  2020            137   1433  FB AREA (GULBERGH)  winter\n",
              "1656   february  2020            105   1261  FB AREA (GULBERGH)  winter\n",
              "1657      march  2020            164   1973  FB AREA (GULBERGH)  summer\n",
              "1658      april  2020            198   2204  FB AREA (GULBERGH)  summer\n",
              "1659        may  2020            280   3527  FB AREA (GULBERGH)  summer\n",
              "...         ...   ...            ...    ...                 ...     ...\n",
              "1996       july  2019            522   8980     North Nazimabad  summer\n",
              "1997     august  2019            389   6730     North Nazimabad  summer\n",
              "1998  september  2019            557   9675     North Nazimabad  summer\n",
              "1999    october  2019            405   7048     North Nazimabad  winter\n",
              "2000   november  2019            187   3304     North Nazimabad  winter\n",
              "\n",
              "[346 rows x 6 columns]"
            ]
          },
          "metadata": {},
          "execution_count": 115
        }
      ]
    },
    {
      "cell_type": "code",
      "metadata": {
        "id": "JwqNBNK_Ru1U",
        "colab": {
          "base_uri": "https://localhost:8080/",
          "height": 571
        },
        "outputId": "2d93b462-74c2-419f-8390-17ec746ae35e"
      },
      "source": [
        "df['load']= df['load'].replace('.','')"
      ],
      "execution_count": null,
      "outputs": [
        {
          "output_type": "error",
          "ename": "KeyError",
          "evalue": "ignored",
          "traceback": [
            "\u001b[0;31m---------------------------------------------------------------------------\u001b[0m",
            "\u001b[0;31mKeyError\u001b[0m                                  Traceback (most recent call last)",
            "\u001b[0;32m/usr/local/lib/python3.7/dist-packages/pandas/core/indexes/base.py\u001b[0m in \u001b[0;36mget_loc\u001b[0;34m(self, key, method, tolerance)\u001b[0m\n\u001b[1;32m   2897\u001b[0m             \u001b[0;32mtry\u001b[0m\u001b[0;34m:\u001b[0m\u001b[0;34m\u001b[0m\u001b[0;34m\u001b[0m\u001b[0m\n\u001b[0;32m-> 2898\u001b[0;31m                 \u001b[0;32mreturn\u001b[0m \u001b[0mself\u001b[0m\u001b[0;34m.\u001b[0m\u001b[0m_engine\u001b[0m\u001b[0;34m.\u001b[0m\u001b[0mget_loc\u001b[0m\u001b[0;34m(\u001b[0m\u001b[0mcasted_key\u001b[0m\u001b[0;34m)\u001b[0m\u001b[0;34m\u001b[0m\u001b[0;34m\u001b[0m\u001b[0m\n\u001b[0m\u001b[1;32m   2899\u001b[0m             \u001b[0;32mexcept\u001b[0m \u001b[0mKeyError\u001b[0m \u001b[0;32mas\u001b[0m \u001b[0merr\u001b[0m\u001b[0;34m:\u001b[0m\u001b[0;34m\u001b[0m\u001b[0;34m\u001b[0m\u001b[0m\n",
            "\u001b[0;32mpandas/_libs/index.pyx\u001b[0m in \u001b[0;36mpandas._libs.index.IndexEngine.get_loc\u001b[0;34m()\u001b[0m\n",
            "\u001b[0;32mpandas/_libs/index.pyx\u001b[0m in \u001b[0;36mpandas._libs.index.IndexEngine.get_loc\u001b[0;34m()\u001b[0m\n",
            "\u001b[0;32mpandas/_libs/hashtable_class_helper.pxi\u001b[0m in \u001b[0;36mpandas._libs.hashtable.PyObjectHashTable.get_item\u001b[0;34m()\u001b[0m\n",
            "\u001b[0;32mpandas/_libs/hashtable_class_helper.pxi\u001b[0m in \u001b[0;36mpandas._libs.hashtable.PyObjectHashTable.get_item\u001b[0;34m()\u001b[0m\n",
            "\u001b[0;31mKeyError\u001b[0m: 'load'",
            "\nThe above exception was the direct cause of the following exception:\n",
            "\u001b[0;31mKeyError\u001b[0m                                  Traceback (most recent call last)",
            "\u001b[0;32m<ipython-input-116-27b227bf26b7>\u001b[0m in \u001b[0;36m<module>\u001b[0;34m()\u001b[0m\n\u001b[0;32m----> 1\u001b[0;31m \u001b[0mdf\u001b[0m\u001b[0;34m[\u001b[0m\u001b[0;34m'load'\u001b[0m\u001b[0;34m]\u001b[0m\u001b[0;34m=\u001b[0m \u001b[0mdf\u001b[0m\u001b[0;34m[\u001b[0m\u001b[0;34m'load'\u001b[0m\u001b[0;34m]\u001b[0m\u001b[0;34m.\u001b[0m\u001b[0mreplace\u001b[0m\u001b[0;34m(\u001b[0m\u001b[0;34m'.'\u001b[0m\u001b[0;34m,\u001b[0m\u001b[0;34m''\u001b[0m\u001b[0;34m)\u001b[0m\u001b[0;34m\u001b[0m\u001b[0;34m\u001b[0m\u001b[0m\n\u001b[0m",
            "\u001b[0;32m/usr/local/lib/python3.7/dist-packages/pandas/core/frame.py\u001b[0m in \u001b[0;36m__getitem__\u001b[0;34m(self, key)\u001b[0m\n\u001b[1;32m   2904\u001b[0m             \u001b[0;32mif\u001b[0m \u001b[0mself\u001b[0m\u001b[0;34m.\u001b[0m\u001b[0mcolumns\u001b[0m\u001b[0;34m.\u001b[0m\u001b[0mnlevels\u001b[0m \u001b[0;34m>\u001b[0m \u001b[0;36m1\u001b[0m\u001b[0;34m:\u001b[0m\u001b[0;34m\u001b[0m\u001b[0;34m\u001b[0m\u001b[0m\n\u001b[1;32m   2905\u001b[0m                 \u001b[0;32mreturn\u001b[0m \u001b[0mself\u001b[0m\u001b[0;34m.\u001b[0m\u001b[0m_getitem_multilevel\u001b[0m\u001b[0;34m(\u001b[0m\u001b[0mkey\u001b[0m\u001b[0;34m)\u001b[0m\u001b[0;34m\u001b[0m\u001b[0;34m\u001b[0m\u001b[0m\n\u001b[0;32m-> 2906\u001b[0;31m             \u001b[0mindexer\u001b[0m \u001b[0;34m=\u001b[0m \u001b[0mself\u001b[0m\u001b[0;34m.\u001b[0m\u001b[0mcolumns\u001b[0m\u001b[0;34m.\u001b[0m\u001b[0mget_loc\u001b[0m\u001b[0;34m(\u001b[0m\u001b[0mkey\u001b[0m\u001b[0;34m)\u001b[0m\u001b[0;34m\u001b[0m\u001b[0;34m\u001b[0m\u001b[0m\n\u001b[0m\u001b[1;32m   2907\u001b[0m             \u001b[0;32mif\u001b[0m \u001b[0mis_integer\u001b[0m\u001b[0;34m(\u001b[0m\u001b[0mindexer\u001b[0m\u001b[0;34m)\u001b[0m\u001b[0;34m:\u001b[0m\u001b[0;34m\u001b[0m\u001b[0;34m\u001b[0m\u001b[0m\n\u001b[1;32m   2908\u001b[0m                 \u001b[0mindexer\u001b[0m \u001b[0;34m=\u001b[0m \u001b[0;34m[\u001b[0m\u001b[0mindexer\u001b[0m\u001b[0;34m]\u001b[0m\u001b[0;34m\u001b[0m\u001b[0;34m\u001b[0m\u001b[0m\n",
            "\u001b[0;32m/usr/local/lib/python3.7/dist-packages/pandas/core/indexes/base.py\u001b[0m in \u001b[0;36mget_loc\u001b[0;34m(self, key, method, tolerance)\u001b[0m\n\u001b[1;32m   2898\u001b[0m                 \u001b[0;32mreturn\u001b[0m \u001b[0mself\u001b[0m\u001b[0;34m.\u001b[0m\u001b[0m_engine\u001b[0m\u001b[0;34m.\u001b[0m\u001b[0mget_loc\u001b[0m\u001b[0;34m(\u001b[0m\u001b[0mcasted_key\u001b[0m\u001b[0;34m)\u001b[0m\u001b[0;34m\u001b[0m\u001b[0;34m\u001b[0m\u001b[0m\n\u001b[1;32m   2899\u001b[0m             \u001b[0;32mexcept\u001b[0m \u001b[0mKeyError\u001b[0m \u001b[0;32mas\u001b[0m \u001b[0merr\u001b[0m\u001b[0;34m:\u001b[0m\u001b[0;34m\u001b[0m\u001b[0;34m\u001b[0m\u001b[0m\n\u001b[0;32m-> 2900\u001b[0;31m                 \u001b[0;32mraise\u001b[0m \u001b[0mKeyError\u001b[0m\u001b[0;34m(\u001b[0m\u001b[0mkey\u001b[0m\u001b[0;34m)\u001b[0m \u001b[0;32mfrom\u001b[0m \u001b[0merr\u001b[0m\u001b[0;34m\u001b[0m\u001b[0;34m\u001b[0m\u001b[0m\n\u001b[0m\u001b[1;32m   2901\u001b[0m \u001b[0;34m\u001b[0m\u001b[0m\n\u001b[1;32m   2902\u001b[0m         \u001b[0;32mif\u001b[0m \u001b[0mtolerance\u001b[0m \u001b[0;32mis\u001b[0m \u001b[0;32mnot\u001b[0m \u001b[0;32mNone\u001b[0m\u001b[0;34m:\u001b[0m\u001b[0;34m\u001b[0m\u001b[0;34m\u001b[0m\u001b[0m\n",
            "\u001b[0;31mKeyError\u001b[0m: 'load'"
          ]
        }
      ]
    },
    {
      "cell_type": "code",
      "metadata": {
        "id": "1RjsFiXHmoF7",
        "colab": {
          "base_uri": "https://localhost:8080/"
        },
        "outputId": "56950433-44b1-4816-b3e2-f0e048c150f2"
      },
      "source": [
        "df.loc[1655]"
      ],
      "execution_count": null,
      "outputs": [
        {
          "output_type": "execute_result",
          "data": {
            "text/plain": [
              "month                       january\n",
              "year                           2020\n",
              "unit_consumed                   137\n",
              "price                          1433\n",
              "area             FB AREA (GULBERGH)\n",
              "season                       winter\n",
              "Name: 1655, dtype: object"
            ]
          },
          "metadata": {},
          "execution_count": 117
        }
      ]
    },
    {
      "cell_type": "code",
      "metadata": {
        "id": "EYlY_ITuRus0",
        "colab": {
          "base_uri": "https://localhost:8080/",
          "height": 388
        },
        "outputId": "acc779b6-3b16-4b0f-f2a6-8ba2e5685978"
      },
      "source": [
        "import matplotlib.pyplot as plt\n",
        "%matplotlib inline\n",
        "\n",
        "label=df['price']\n",
        "fig,ax=plt.subplots(2,1,figsize=(9,6))\n",
        "ax[0].hist(label,bins=10)\n",
        "ax[0].set_ylabel('Frequency')\n",
        "ax[0].axvline(label.mean(), color='magenta', linestyle='dashed', linewidth=2)\n",
        "ax[0].axvline(label.median(), color='cyan', linestyle='dashed', linewidth=2)\n",
        "\n",
        "ax[1].boxplot(label,vert=False)\n",
        "ax[1].set_xlabel('price')\n",
        "fig.show()"
      ],
      "execution_count": null,
      "outputs": [
        {
          "output_type": "display_data",
          "data": {
            "image/png": "[encoded data removed]",
            "text/plain": [
              "<Figure size 648x432 with 2 Axes>"
            ]
          },
          "metadata": {
            "needs_background": "light"
          }
        }
      ]
    },
    {
      "cell_type": "code",
      "metadata": {
        "id": "KH7KJi-TRudk",
        "colab": {
          "base_uri": "https://localhost:8080/",
          "height": 49
        },
        "outputId": "ddf0d201-857e-48d9-e2ff-aa636d512663"
      },
      "source": [
        "df.loc[df['year']=='202120212021202020202020202020202020202020202020202020202020201920192019201920192019201920192019201920192019201820182018201820182018201820182018201820182018202120212021202120212021202020202020202020202020202020202020202020202020202020202020202020202020202020202020202020202020201920192019201920192019201920192019201920192019201920192019201920192019201920192019201920192019201820182018201820182018201820182018201820182018201820']"
      ],
      "execution_count": null,
      "outputs": [
        {
          "output_type": "execute_result",
          "data": {
            "text/html": [
              "\n",
              "  <div id=\"df-5638c5c6-609c-44e4-b5de-85a01d5b71b9\">\n",
              "    <div class=\"colab-df-container\">\n",
              "      <div>\n",
              "<style scoped>\n",
              "    .dataframe tbody tr th:only-of-type {\n",
              "        vertical-align: middle;\n",
              "    }\n",
              "\n",
              "    .dataframe tbody tr th {\n",
              "        vertical-align: top;\n",
              "    }\n",
              "\n",
              "    .dataframe thead th {\n",
              "        text-align: right;\n",
              "    }\n",
              "</style>\n",
              "<table border=\"1\" class=\"dataframe\">\n",
              "  <thead>\n",
              "    <tr style=\"text-align: right;\">\n",
              "      <th></th>\n",
              "      <th>month</th>\n",
              "      <th>year</th>\n",
              "      <th>unit_consumed</th>\n",
              "      <th>price</th>\n",
              "      <th>area</th>\n",
              "      <th>season</th>\n",
              "    </tr>\n",
              "  </thead>\n",
              "  <tbody>\n",
              "  </tbody>\n",
              "</table>\n",
              "</div>\n",
              "      <button class=\"colab-df-convert\" onclick=\"convertToInteractive('df-5638c5c6-609c-44e4-b5de-85a01d5b71b9')\"\n",
              "              title=\"Convert this dataframe to an interactive table.\"\n",
              "              style=\"display:none;\">\n",
              "        \n",
              "  <svg xmlns=\"http://www.w3.org/2000/svg\" height=\"24px\"viewBox=\"0 0 24 24\"\n",
              "       width=\"24px\">\n",
              "    <path d=\"M0 0h24v24H0V0z\" fill=\"none\"/>\n",
              "    <path d=\"M18.56 5.44l.94 2.06.94-2.06 2.06-.94-2.06-.94-.94-2.06-.94 2.06-2.06.94zm-11 1L8.5 8.5l.94-2.06 2.06-.94-2.06-.94L8.5 2.5l-.94 2.06-2.06.94zm10 10l.94 2.06.94-2.06 2.06-.94-2.06-.94-.94-2.06-.94 2.06-2.06.94z\"/><path d=\"M17.41 7.96l-1.37-1.37c-.4-.4-.92-.59-1.43-.59-.52 0-1.04.2-1.43.59L10.3 9.45l-7.72 7.72c-.78.78-.78 2.05 0 2.83L4 21.41c.39.39.9.59 1.41.59.51 0 1.02-.2 1.41-.59l7.78-7.78 2.81-2.81c.8-.78.8-2.07 0-2.86zM5.41 20L4 18.59l7.72-7.72 1.47 1.35L5.41 20z\"/>\n",
              "  </svg>\n",
              "      </button>\n",
              "      \n",
              "  <style>\n",
              "    .colab-df-container {\n",
              "      display:flex;\n",
              "      flex-wrap:wrap;\n",
              "      gap: 12px;\n",
              "    }\n",
              "\n",
              "    .colab-df-convert {\n",
              "      background-color: #E8F0FE;\n",
              "      border: none;\n",
              "      border-radius: 50%;\n",
              "      cursor: pointer;\n",
              "      display: none;\n",
              "      fill: #1967D2;\n",
              "      height: 32px;\n",
              "      padding: 0 0 0 0;\n",
              "      width: 32px;\n",
              "    }\n",
              "\n",
              "    .colab-df-convert:hover {\n",
              "      background-color: #E2EBFA;\n",
              "      box-shadow: 0px 1px 2px rgba(60, 64, 67, 0.3), 0px 1px 3px 1px rgba(60, 64, 67, 0.15);\n",
              "      fill: #174EA6;\n",
              "    }\n",
              "\n",
              "    [theme=dark] .colab-df-convert {\n",
              "      background-color: #3B4455;\n",
              "      fill: #D2E3FC;\n",
              "    }\n",
              "\n",
              "    [theme=dark] .colab-df-convert:hover {\n",
              "      background-color: #434B5C;\n",
              "      box-shadow: 0px 1px 3px 1px rgba(0, 0, 0, 0.15);\n",
              "      filter: drop-shadow(0px 1px 2px rgba(0, 0, 0, 0.3));\n",
              "      fill: #FFFFFF;\n",
              "    }\n",
              "  </style>\n",
              "\n",
              "      <script>\n",
              "        const buttonEl =\n",
              "          document.querySelector('#df-5638c5c6-609c-44e4-b5de-85a01d5b71b9 button.colab-df-convert');\n",
              "        buttonEl.style.display =\n",
              "          google.colab.kernel.accessAllowed ? 'block' : 'none';\n",
              "\n",
              "        async function convertToInteractive(key) {\n",
              "          const element = document.querySelector('#df-5638c5c6-609c-44e4-b5de-85a01d5b71b9');\n",
              "          const dataTable =\n",
              "            await google.colab.kernel.invokeFunction('convertToInteractive',\n",
              "                                                     [key], {});\n",
              "          if (!dataTable) return;\n",
              "\n",
              "          const docLinkHtml = 'Like what you see? Visit the ' +\n",
              "            '<a target=\"_blank\" href=https://colab.research.google.com/notebooks/data_table.ipynb>data table notebook</a>'\n",
              "            + ' to learn more about interactive tables.';\n",
              "          element.innerHTML = '';\n",
              "          dataTable['output_type'] = 'display_data';\n",
              "          await google.colab.output.renderOutput(dataTable, element);\n",
              "          const docLink = document.createElement('div');\n",
              "          docLink.innerHTML = docLinkHtml;\n",
              "          element.appendChild(docLink);\n",
              "        }\n",
              "      </script>\n",
              "    </div>\n",
              "  </div>\n",
              "  "
            ],
            "text/plain": [
              "Empty DataFrame\n",
              "Columns: [month, year, unit_consumed, price, area, season]\n",
              "Index: []"
            ]
          },
          "metadata": {},
          "execution_count": 119
        }
      ]
    },
    {
      "cell_type": "code",
      "metadata": {
        "id": "9KVoj0yzRuZr"
      },
      "source": [
        "numeric_features=['unit_consumed','price','year']"
      ],
      "execution_count": null,
      "outputs": []
    },
    {
      "cell_type": "code",
      "metadata": {
        "id": "g5vL1jUnRuWt",
        "colab": {
          "base_uri": "https://localhost:8080/",
          "height": 1000
        },
        "outputId": "63d3fd5c-b42f-410c-9903-9d9ba57df49c"
      },
      "source": [
        "for col in numeric_features:\n",
        "  fig=plt.figure(figsize=(9,6))\n",
        "  ax=fig.gca()\n",
        "  features=df[col]\n",
        "  features.hist(bins=100 , ax=ax)\n",
        "  ax.axvline(features.mean(), color='magenta', linestyle='dashed', linewidth=2)\n",
        "  ax.axvline(features.median(), color='cyan', linestyle='dashed', linewidth=2)\n",
        "  ax.set_title(col)\n",
        "plt.show()"
      ],
      "execution_count": null,
      "outputs": [
        {
          "output_type": "display_data",
          "data": {
            "image/png": "[encoded data removed]",
            "text/plain": [
              "<Figure size 648x432 with 1 Axes>"
            ]
          },
          "metadata": {
            "needs_background": "light"
          }
        },
        {
          "output_type": "display_data",
          "data": {
            "image/png": "[encoded data removed]",
            "text/plain": [
              "<Figure size 648x432 with 1 Axes>"
            ]
          },
          "metadata": {
            "needs_background": "light"
          }
        },
        {
          "output_type": "display_data",
          "data": {
            "image/png": "[encoded data removed]",
            "text/plain": [
              "<Figure size 648x432 with 1 Axes>"
            ]
          },
          "metadata": {
            "needs_background": "light"
          }
        }
      ]
    },
    {
      "cell_type": "code",
      "metadata": {
        "id": "Gytbl8rfRuSj",
        "colab": {
          "base_uri": "https://localhost:8080/",
          "height": 1000
        },
        "outputId": "5be04595-02db-4d88-81dc-0d939cc03ee7"
      },
      "source": [
        "categorical_features=['month', 'area', 'season']\n",
        "for col in categorical_features:\n",
        "  fig=plt.figure(figsize=(9,12))\n",
        "  count=df[col].value_counts().sort_index()\n",
        "  ax=fig.gca()\n",
        "  count.plot.bar(ax=ax,color='steelblue')\n",
        "  ax.set_title(col + ' counts')\n",
        "  ax.set_xlabel(col)\n",
        "  ax.set_ylabel('Freguency')\n",
        "plt.show()"
      ],
      "execution_count": null,
      "outputs": [
        {
          "output_type": "display_data",
          "data": {
            "image/png": "[encoded data removed]",
            "text/plain": [
              "<Figure size 648x864 with 1 Axes>"
            ]
          },
          "metadata": {
            "needs_background": "light"
          }
        },
        {
          "output_type": "display_data",
          "data": {
            "image/png": "[encoded data removed]",
            "text/plain": [
              "<Figure size 648x864 with 1 Axes>"
            ]
          },
          "metadata": {
            "needs_background": "light"
          }
        },
        {
          "output_type": "display_data",
          "data": {
            "image/png": "[encoded data removed]",
            "text/plain": [
              "<Figure size 648x864 with 1 Axes>"
            ]
          },
          "metadata": {
            "needs_background": "light"
          }
        }
      ]
    },
    {
      "cell_type": "code",
      "metadata": {
        "id": "r6VhqduxRuPQ"
      },
      "source": [
        "\n"
      ],
      "execution_count": null,
      "outputs": []
    },
    {
      "cell_type": "code",
      "metadata": {
        "id": "3D9G169oRuLt"
      },
      "source": [],
      "execution_count": null,
      "outputs": []
    },
    {
      "cell_type": "code",
      "metadata": {
        "id": "4NOLyWRXRuHv"
      },
      "source": [],
      "execution_count": null,
      "outputs": []
    },
    {
      "cell_type": "code",
      "metadata": {
        "id": "EPOYXqASRuEI"
      },
      "source": [],
      "execution_count": null,
      "outputs": []
    },
    {
      "cell_type": "code",
      "metadata": {
        "id": "ARlRJSYKa6pl"
      },
      "source": [
        "df.to_csv('IDS_ElectricityRecord.csv')"
      ],
      "execution_count": null,
      "outputs": []
    },
    {
      "cell_type": "code",
      "metadata": {
        "id": "9He3jzYObkO8"
      },
      "source": [],
      "execution_count": null,
      "outputs": []
    }
  ]
}